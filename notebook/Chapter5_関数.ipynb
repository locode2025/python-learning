{
 "cells": [
  {
   "cell_type": "markdown",
   "id": "50e84085",
   "metadata": {},
   "source": [
    "第Ⅱ章\n",
    "\n",
    "Pythonで部品を組み上げよう\n",
    "\n",
    "# Chapter 5 関数\n",
    "\n",
    "1. オリジナルの関数\n",
    "    1. 関数の必要性とメリット\n",
    "    1. 関数を使うための２ステップ\n",
    "    1. 関数定義と呼び出し\n",
    "    1. ローカル変数と独立性\n",
    "1. 引数と戻り値\n",
    "    1. 引数\n",
    "    1. 複数の引数を渡す\n",
    "    1. 戻り値\n",
    "    1. 関数呼び出しの正体\n",
    "    1. 関数の連携\n",
    "1. 関数の応用テクニック\n",
    "    1. 暗黙のタプルによる複数の戻り値\n",
    "    1. デフォルト引数\n",
    "    1. 引数のキーワード指定\n",
    "    1. 可変長引数\n",
    "1. 独立性の破れ\n",
    "    1. グローバル変数\n",
    "    1. 引数と戻り値の存在価値"
   ]
  },
  {
   "cell_type": "markdown",
   "id": "2988a4dc",
   "metadata": {},
   "source": [
    "## オリジナルの関数\n",
    "\n",
    "### 関数の必要性とメリット\n",
    "\n",
    "__関数とは何か？__\n",
    "\n",
    "プログラムを書くとき、同じ処理を何度も繰り返し記述するのは効率が悪く、ミスの原因にもなります。関数を使うことで、**「ひとまとまりの処理をまとめて定義し、必要なときに呼び出せる」**ようになります。\n",
    "\n",
    "__関数のメリット__\n",
    "\n",
    "関数を使うと、次のようなメリットがあります。\n",
    "\n",
    "1. コードの再利用性が向上する\n",
    "    - 一度定義した関数を何度でも呼び出せるため、同じコードを繰り返し書く必要がなくなる。\n",
    "1. コードが見やすく、保守しやすくなる\n",
    "    - 関数を使うことで、プログラムが「処理ごとに分割」され、どの部分が何をしているかが明確になる。\n",
    "1. バグを減らしやすい\n",
    "    - ひとつの処理を関数としてまとめることで、エラーが起きた際に修正が容易になる。\n",
    "1. 他のプログラムでも使い回せる\n",
    "    - 汎用的な関数を作れば、別のプログラムでも再利用できる。\n",
    "\n",
    "__関数を使わない場合の問題点__\n",
    "\n",
    "関数を使わずに、同じ処理を繰り返し記述するとどうなるでしょうか？\n",
    "たとえば、「名前を入力して挨拶を表示する」プログラムを考えてみます。\n",
    "\n",
    "```python\n",
    "name1 = input(\"名前を入力してください: \")\n",
    "print(f\"こんにちは、{name1}さん！\")\n",
    "\n",
    "name2 = input(\"名前を入力してください: \")\n",
    "print(f\"こんにちは、{name2}さん！\")\n",
    "\n",
    "name3 = input(\"名前を入力してください: \")\n",
    "print(f\"こんにちは、{name3}さん！\")\n",
    "```\n",
    "\n",
    "このコードでは、同じ処理を何度も書いているため、もし挨拶のメッセージを変更したい場合、すべての `print` 文を修正しなければなりません。\n",
    "\n",
    "__関数を使うとどうなるか？__\n",
    "\n",
    "この処理を関数でまとめると、簡潔で柔軟なコードになります。"
   ]
  },
  {
   "cell_type": "code",
   "execution_count": 1,
   "id": "d896896b",
   "metadata": {},
   "outputs": [],
   "source": [
    "def greet():\n",
    "    name = input(\"名前を入力してください: \")\n",
    "    print(f\"こんにちは、{name}さん！\")"
   ]
  },
  {
   "cell_type": "code",
   "execution_count": 3,
   "id": "c2088ccc",
   "metadata": {},
   "outputs": [
    {
     "name": "stdout",
     "output_type": "stream",
     "text": [
      "名前を入力してください: アイ\n",
      "こんにちは、アイさん！\n",
      "名前を入力してください: ノブ\n",
      "こんにちは、ノブさん！\n",
      "名前を入力してください: ダイゴ\n",
      "こんにちは、ダイゴさん！\n"
     ]
    }
   ],
   "source": [
    "greet()\n",
    "greet()\n",
    "greet()"
   ]
  },
  {
   "cell_type": "markdown",
   "id": "96f9c5d9",
   "metadata": {},
   "source": [
    "このように関数を使うことで、コードが短くなり、修正も容易になります。\n",
    "また、関数を定義すれば、繰り返し回数を自由に変更したり、ループを使ったりすることも可能です。\n",
    "\n",
    "```python\n",
    "for _ in range(10):\n",
    "    greet()\n",
    "```"
   ]
  },
  {
   "cell_type": "markdown",
   "id": "20c059fa",
   "metadata": {},
   "source": [
    "### 関数を使うための基本的な2ステップ\n",
    "\n",
    "Python で関数を使うためには、次の 2つのステップ を理解することが重要です。\n",
    "\n",
    "1. 関数を定義する\n",
    "1. 関数を呼び出す\n",
    "\n",
    "この2つのステップを順番に詳しく解説します。\n",
    "\n",
    "---\n",
    "\n",
    "### 関数定義と呼び出し\n",
    "\n",
    "__ステップ1: 関数を定義する__\n",
    "\n",
    "関数を使うためには、まず `def` キーワード を使って関数を 定義 する必要があります。\n",
    "\n",
    "__関数の基本的な書き方__\n",
    "\n",
    "関数を定義するには、次のように書きます。\n",
    "\n",
    "```python\n",
    "def 関数名():\n",
    "    処理\n",
    "```\n",
    "\n",
    "- `def` は 関数を定義する ためのキーワード。\n",
    "- 関数名 には 自由に名前をつける ことができる。\n",
    "- `()` は この関数が実行する処理のまとまり であることを示す。\n",
    "- `:`（コロン）のあとに インデント（半角スペース4つまたはタブ）して処理を書いていく。\n",
    "\n",
    "__具体例__\n",
    "\n",
    "次のコードでは、「画面に挨拶を表示する」関数 **greet** を定義しています。\n",
    "\n",
    "```python\n",
    "def greet():\n",
    "    print(\"こんにちは！\")\n",
    "    print(\"Pythonの世界へようこそ！\")\n",
    "```\n",
    "\n",
    "この `greet` 関数は、「こんにちは！」と「Pythonの世界へようこそ！」を表示する処理」 をまとめたものです。\n",
    "\n",
    "__ポイント：__\n",
    "\n",
    "- `print` 文が インデントされていること に注意（インデントを忘れるとエラーになる）。\n",
    "- 関数を定義した だけ では、まだ何も実行されない。\n",
    "\n",
    "__ステップ2: 関数を呼び出す__\n",
    "\n",
    "関数を 定義しただけでは動作しません。\n",
    "定義した関数を 実行する（呼び出す） ことで、初めて処理が実行されます。\n",
    "\n",
    "__関数の呼び出し方__\n",
    "関数を呼び出すには、次のように 関数名と `()` を書くだけ です。\n",
    "\n",
    "```python\n",
    "関数名()\n",
    "```\n",
    "\n",
    "__具体例__\n",
    "\n",
    "先ほど定義した `greet` 関数を 実際に呼び出してみましょう。\n",
    "\n",
    "```python\n",
    "# 関数の定義\n",
    "def greet():\n",
    "    print(\"こんにちは！\")\n",
    "    print(\"Pythonの世界へようこそ！\")\n",
    "\n",
    "# 関数の呼び出し\n",
    "greet()\n",
    "```\n",
    "\n",
    "実行結果\n",
    "\n",
    "```sh\n",
    "こんにちは！\n",
    "Pythonの世界へようこそ！\n",
    "```\n",
    "\n",
    "このように、関数を定義し、それを呼び出すことで初めて処理が実行される ことがわかります。"
   ]
  },
  {
   "cell_type": "markdown",
   "id": "09bb16de",
   "metadata": {},
   "source": [
    "### ローカル変数と独立性\n",
    "\n",
    "関数を使う際に重要な概念の一つが **ローカル変数（Local Variable）** です。\n",
    "ローカル変数を理解することで、関数が他の部分と 独立した動作 をすることが分かります。\n",
    "\n",
    "__ローカル変数とは？__\n",
    "\n",
    "関数内で定義された変数は ローカル変数 と呼ばれ、関数の外からはアクセスできません。\n",
    "これは 関数が他の部分と干渉しないための仕組み です。\n",
    "\n",
    "具体例"
   ]
  },
  {
   "cell_type": "code",
   "execution_count": 5,
   "id": "949a9b4a",
   "metadata": {},
   "outputs": [],
   "source": [
    "def say_hello():\n",
    "    message = \"こんにちは！\"  # 関数内で定義されたローカル変数\n",
    "    print(message)"
   ]
  },
  {
   "cell_type": "markdown",
   "id": "fdd3ab41",
   "metadata": {},
   "source": [
    "実行結果"
   ]
  },
  {
   "cell_type": "code",
   "execution_count": 6,
   "id": "9a2de032",
   "metadata": {},
   "outputs": [
    {
     "name": "stdout",
     "output_type": "stream",
     "text": [
      "こんにちは！\n"
     ]
    }
   ],
   "source": [
    "say_hello()"
   ]
  },
  {
   "cell_type": "markdown",
   "id": "b4915935",
   "metadata": {},
   "source": [
    "この `message` 変数は `say_hello` 関数の中でしか使えません。\n",
    "関数の外で `message` を使おうとすると エラーになります。"
   ]
  },
  {
   "cell_type": "code",
   "execution_count": 7,
   "id": "90316167",
   "metadata": {},
   "outputs": [
    {
     "ename": "NameError",
     "evalue": "name 'message' is not defined",
     "output_type": "error",
     "traceback": [
      "\u001b[0;31m---------------------------------------------------------------------------\u001b[0m",
      "\u001b[0;31mNameError\u001b[0m                                 Traceback (most recent call last)",
      "\u001b[0;32m/var/folders/lc/k7jt3gx9283453ptp9t9ty5m0000gn/T/ipykernel_7791/3463849412.py\u001b[0m in \u001b[0;36m<module>\u001b[0;34m\u001b[0m\n\u001b[0;32m----> 1\u001b[0;31m \u001b[0mprint\u001b[0m\u001b[0;34m(\u001b[0m\u001b[0mmessage\u001b[0m\u001b[0;34m)\u001b[0m\u001b[0;34m\u001b[0m\u001b[0;34m\u001b[0m\u001b[0m\n\u001b[0m",
      "\u001b[0;31mNameError\u001b[0m: name 'message' is not defined"
     ]
    }
   ],
   "source": [
    "print(message)"
   ]
  },
  {
   "cell_type": "markdown",
   "id": "302f2ad3",
   "metadata": {},
   "source": [
    "このエラーは、message という変数が 関数の外では定義されていない ために発生します。\n",
    "\n",
    "---\n",
    "\n",
    "__ローカル変数の独立性__\n",
    "\n",
    "関数を何度も呼び出しても、ローカル変数は毎回リセットされます。\n",
    "関数内で定義された変数は、他の呼び出しと影響を及ぼし合うことはありません。\n",
    "\n",
    "具体例"
   ]
  },
  {
   "cell_type": "code",
   "execution_count": 8,
   "id": "fbc9ffba",
   "metadata": {},
   "outputs": [],
   "source": [
    "def counter():\n",
    "    count = 0\n",
    "    count += 1\n",
    "    print(count)"
   ]
  },
  {
   "cell_type": "code",
   "execution_count": 9,
   "id": "b3c42697",
   "metadata": {},
   "outputs": [
    {
     "name": "stdout",
     "output_type": "stream",
     "text": [
      "1\n",
      "1\n",
      "1\n"
     ]
    }
   ],
   "source": [
    "counter()\n",
    "counter()\n",
    "counter()"
   ]
  },
  {
   "cell_type": "markdown",
   "id": "fb5fb1d0",
   "metadata": {},
   "source": [
    "関数を呼び出すたびに `count` は 0 にリセットされる ため、結果は毎回 1 になります。\n",
    "\n",
    "---\n",
    "\n",
    "__ローカル変数が関数ごとに独立することのメリット__\n",
    "\n",
    "- 関数が他の部分に影響を与えない\n",
    "- バグの発生を防ぎやすい\n",
    "- 関数を安心して再利用できる\n",
    "\n",
    "例えば、プログラムが大きくなると 変数の上書きによるバグ が起こりやすくなります。\n",
    "しかし、ローカル変数を使えば、関数ごとに独立しているため 変数の衝突を防げます。"
   ]
  },
  {
   "cell_type": "markdown",
   "id": "17adf80e",
   "metadata": {},
   "source": [
    "## 引数と戻り値\n",
    "\n",
    "関数をより便利に使うためには 「引数」と「戻り値」 の概念が重要になります。\n",
    "これによって、関数に値を渡したり、処理の結果を受け取ったり できるようになります。\n",
    "\n",
    "### 引数\n",
    "\n",
    "__引数とは？__\n",
    "\n",
    "関数を呼び出す際に、外部から値を渡す ための仕組みを 「引数（ひきすう）」 といいます。\n",
    "関数定義の `()` 内に 変数名 を記述し、関数を呼び出すときに値を渡します。\n",
    "\n",
    "引数の基本構造\n",
    "\n",
    "```python\n",
    "def 関数名(引数1, 引数2, ...):\n",
    "    処理\n",
    "```\n",
    "\n",
    "---\n",
    "\n",
    "引数の具体例\n",
    "\n",
    "```pyrhon\n",
    "def greet(name):\n",
    "    print(f\"こんにちは、{name}さん！\")\n",
    "\n",
    "greet(\"太郎\")  # 「こんにちは、太郎さん！」と出力\n",
    "greet(\"花子\")  # 「こんにちは、花子さん！」と出力\n",
    "```\n",
    "\n",
    "実行結果\n",
    "\n",
    "```sh\n",
    "こんにちは、太郎さん！\n",
    "こんにちは、花子さん！\n",
    "```\n",
    "\n",
    "この `name` は 関数内でのみ使えるローカル変数 です。\n",
    "関数を呼び出す際に \"太郎\" や \"花子\" を渡すことで、異なる出力が得られます。"
   ]
  },
  {
   "cell_type": "markdown",
   "id": "4722895a",
   "metadata": {},
   "source": [
    "### 複数の引数を渡す\n",
    "\n",
    "引数を複数指定することもできます。\n",
    "例えば、足し算をする関数を考えてみましょう。"
   ]
  },
  {
   "cell_type": "code",
   "execution_count": 10,
   "id": "832d5261",
   "metadata": {},
   "outputs": [],
   "source": [
    "def add(a, b):\n",
    "    print(a + b)"
   ]
  },
  {
   "cell_type": "code",
   "execution_count": 11,
   "id": "e5dcc4d7",
   "metadata": {},
   "outputs": [
    {
     "name": "stdout",
     "output_type": "stream",
     "text": [
      "8\n",
      "30\n"
     ]
    }
   ],
   "source": [
    "add(3, 5)\n",
    "add(10, 20)"
   ]
  },
  {
   "cell_type": "markdown",
   "id": "4b641755",
   "metadata": {},
   "source": [
    "このように、`a` と `b` の 2つの値 を引数として渡し、その合計を計算しています。\n",
    "\n",
    "引数には、数値や文字列はもちろん、コンテナも引数に渡すことができます。"
   ]
  },
  {
   "cell_type": "markdown",
   "id": "e07d72f3",
   "metadata": {},
   "source": [
    "### 戻り値\n",
    "\n",
    "__戻り値とは？__\n",
    "\n",
    "関数は計算結果を出力するだけでなく、「戻り値」 を使って値を返すこともできます。\n",
    "`return` を使うことで、関数の外でその値を使えるようになります。\n",
    "\n",
    "戻り値の基本構造\n",
    "\n",
    "```python\n",
    "def 関数名(引数):\n",
    "    処理\n",
    "    return 戻り値\n",
    "```\n",
    "\n",
    "戻り値の具体例"
   ]
  },
  {
   "cell_type": "code",
   "execution_count": 12,
   "id": "7d489034",
   "metadata": {},
   "outputs": [],
   "source": [
    "def add(a, b):\n",
    "    return a + b"
   ]
  },
  {
   "cell_type": "code",
   "execution_count": 13,
   "id": "a1cf122c",
   "metadata": {},
   "outputs": [
    {
     "name": "stdout",
     "output_type": "stream",
     "text": [
      "10\n"
     ]
    }
   ],
   "source": [
    "result = add(4, 6)\n",
    "print(result)"
   ]
  },
  {
   "cell_type": "markdown",
   "id": "30b10dd9",
   "metadata": {},
   "source": [
    "この `return` によって、計算結果を 関数の外で使える ようになりました。\n",
    "例えば、戻り値を使ってさらに計算することもできます。"
   ]
  },
  {
   "cell_type": "code",
   "execution_count": 14,
   "id": "76c8aa7e",
   "metadata": {},
   "outputs": [
    {
     "name": "stdout",
     "output_type": "stream",
     "text": [
      "30\n"
     ]
    }
   ],
   "source": [
    "x = add(10, 15)\n",
    "y = add(x, 5)\n",
    "print(y) "
   ]
  },
  {
   "cell_type": "markdown",
   "id": "5abcc45e",
   "metadata": {},
   "source": [
    "### 関数呼び出しの正体\n",
    "\n",
    "__関数呼び出し演算子 `()` について__\n",
    "\n",
    "Python では、関数を実行するときに 関数名の後に `()` を付ける ことで呼び出します。\n",
    "この `()` を 「関数呼び出し演算子」 と呼びます。\n",
    "\n",
    "__関数呼び出し演算子の役割__\n",
    "\n",
    "関数呼び出し演算子 `()` の重要なポイントは次の 2 つです。\n",
    "\n",
    "- `()` を 付けると 関数が実行される\n",
    "- `()` を 付けないと 関数自体（オブジェクト）が参照される\n",
    "\n",
    "例えば、以下のコードを見てみましょう。"
   ]
  },
  {
   "cell_type": "code",
   "execution_count": 16,
   "id": "f0295bcd",
   "metadata": {},
   "outputs": [
    {
     "name": "stdout",
     "output_type": "stream",
     "text": [
      "<function greet at 0x7fc1295ea700>\n",
      "こんにちは！\n"
     ]
    }
   ],
   "source": [
    "def greet():\n",
    "    return \"こんにちは！\"\n",
    "\n",
    "print(greet)\n",
    "print(greet())"
   ]
  },
  {
   "cell_type": "markdown",
   "id": "bd7556c4",
   "metadata": {},
   "source": [
    "- `greet` → 関数オブジェクトの参照（関数そのもの）\n",
    "- `greet()` → 関数の実行結果（戻り値）\n",
    "\n",
    "---\n",
    "\n",
    "__関数オブジェクトの参照を使う例__\n",
    "\n",
    "関数を `()` を付けずに変数に代入 すると、関数自体を代入 できます。\n",
    "\n",
    "```python\n",
    "def square(n):\n",
    "    return n * n\n",
    "\n",
    "calc = square\n",
    "\n",
    "print(calc(5))\n",
    "```\n",
    "\n",
    "実行結果\n",
    "\n",
    "```sh\n",
    "25\n",
    "```\n",
    "\n",
    "`calc = square` により、`calc(5)` で `square(5)` と同じ動作になります。\n",
    "これは 関数を引数として渡したり、動的に切り替えたりする ときに役立ちます。"
   ]
  },
  {
   "cell_type": "markdown",
   "id": "f8528e3e",
   "metadata": {},
   "source": [
    "### 関数の連携\n",
    "\n",
    "__関数の連携を使った例__\n",
    "\n",
    "ここでは、 数値を受け取り、それを加工しながら連携していく 例を考えます。\n",
    "\n",
    "__3つの関数を定義__\n",
    "- double: 数値を2倍にする\n",
    "- add_five: 数値に5を加える\n",
    "- square: 数値を2乗する"
   ]
  },
  {
   "cell_type": "code",
   "execution_count": 17,
   "id": "71fcc4b9",
   "metadata": {},
   "outputs": [],
   "source": [
    "def double(n):\n",
    "    \"\"\"数値を2倍にする\"\"\"\n",
    "    return n * 2"
   ]
  },
  {
   "cell_type": "code",
   "execution_count": 18,
   "id": "9f0a89db",
   "metadata": {},
   "outputs": [],
   "source": [
    "def add_five(n):\n",
    "    \"\"\"数値に5を加える\"\"\"\n",
    "    return n + 5"
   ]
  },
  {
   "cell_type": "code",
   "execution_count": 19,
   "id": "169b98da",
   "metadata": {},
   "outputs": [],
   "source": [
    "def square(n):\n",
    "    \"\"\"数値を2乗する\"\"\"\n",
    "    return n ** 2"
   ]
  },
  {
   "cell_type": "code",
   "execution_count": 21,
   "id": "2e3a0139",
   "metadata": {},
   "outputs": [
    {
     "name": "stdout",
     "output_type": "stream",
     "text": [
      "121\n"
     ]
    }
   ],
   "source": [
    "num = 3\n",
    "step1 = double(num)       # 3 * 2 = 6\n",
    "step2 = add_five(step1)   # 6 + 5 = 11\n",
    "step3 = square(step2)     # 11 ** 2 = 121\n",
    "\n",
    "print(step3)"
   ]
  },
  {
   "cell_type": "markdown",
   "id": "c90d3462",
   "metadata": {},
   "source": [
    "このように書くと、各処理の結果が明確になり、デバッグもしやすくなります。\n",
    "\n",
    "---\n",
    "\n",
    "__関数の連携のポイント__\n",
    "\n",
    "- 関数の戻り値を、次の関数の引数として渡す\n",
    "- ネストを避けて、処理を分けて書くと可読性が向上\n",
    "- データの流れを意識すると、プログラムが整理しやすくなる"
   ]
  },
  {
   "cell_type": "markdown",
   "id": "cb228656",
   "metadata": {},
   "source": [
    "## 関数の応用テクニック\n",
    "\n",
    "### 暗黙のタプルによる複数の戻り値\n",
    "\n",
    "例えば、「円の面積」と「円周の長さ」を同時に計算して返す関数 を考えます。"
   ]
  },
  {
   "cell_type": "code",
   "execution_count": 22,
   "id": "31624170",
   "metadata": {},
   "outputs": [
    {
     "name": "stdout",
     "output_type": "stream",
     "text": [
      "(78.53981633974483, 31.41592653589793)\n"
     ]
    }
   ],
   "source": [
    "import math\n",
    "\n",
    "def circle_properties(radius):\n",
    "    \"\"\"半径を受け取り、円の面積と円周の長さを返す\"\"\"\n",
    "    area = math.pi * radius ** 2\n",
    "    circumference = 2 * math.pi * radius\n",
    "    return area, circumference  # 暗黙のタプル\n",
    "\n",
    "result = circle_properties(5)\n",
    "print(result)"
   ]
  },
  {
   "cell_type": "markdown",
   "id": "6a1fdd86",
   "metadata": {},
   "source": [
    "`return area, circumference` のように間まで区切ると、戻り値はタプルとして返されます。これは、タプルと定義する丸括弧 `()` を省略して記述していることになります。\n",
    "\n",
    "---\n",
    "\n",
    "### 戻り値を個別の変数に代入する\n",
    "\n",
    "タプルは 「アンパック（展開）」 することで、個々の変数に分解 できます。"
   ]
  },
  {
   "cell_type": "code",
   "execution_count": 23,
   "id": "733328f4",
   "metadata": {},
   "outputs": [
    {
     "name": "stdout",
     "output_type": "stream",
     "text": [
      "円の面積: 78.53981633974483\n",
      "円周の長さ: 31.41592653589793\n"
     ]
    }
   ],
   "source": [
    "area, circumference = circle_properties(5)\n",
    "print(f\"円の面積: {area}\")\n",
    "print(f\"円周の長さ: {circumference}\")"
   ]
  },
  {
   "cell_type": "markdown",
   "id": "69f78752",
   "metadata": {},
   "source": [
    "明示的に丸括弧を実装しても同じ意味になります。"
   ]
  },
  {
   "cell_type": "code",
   "execution_count": 24,
   "id": "a7d2d3bb",
   "metadata": {},
   "outputs": [
    {
     "name": "stdout",
     "output_type": "stream",
     "text": [
      "円の面積: 78.53981633974483\n",
      "円周の長さ: 31.41592653589793\n"
     ]
    }
   ],
   "source": [
    "(area, circumference) = circle_properties(5)\n",
    "print(f\"円の面積: {area}\")\n",
    "print(f\"円周の長さ: {circumference}\")"
   ]
  },
  {
   "cell_type": "markdown",
   "id": "14d2a907",
   "metadata": {},
   "source": [
    "### デフォルト引数\n",
    "\n",
    "関数を呼び出すとき、引数を省略してもデフォルトの値が使われるように設定できる機能 を 「デフォルト引数」 といいます。\n",
    "デフォルト引数を使うことで、関数の使い勝手が向上し、コードの可読性が向上 します。\n",
    "\n",
    "---\n",
    "\n",
    "__デフォルト引数の基本構文__\n",
    "\n",
    "デフォルト引数は、関数定義時に `=` を使って値を指定 します。"
   ]
  },
  {
   "cell_type": "code",
   "execution_count": 25,
   "id": "45b325e0",
   "metadata": {},
   "outputs": [],
   "source": [
    "def greet(name=\"ゲスト\"):\n",
    "    print(f\"こんにちは、{name}さん！\")"
   ]
  },
  {
   "cell_type": "code",
   "execution_count": 26,
   "id": "6c561fd3",
   "metadata": {},
   "outputs": [
    {
     "name": "stdout",
     "output_type": "stream",
     "text": [
      "こんにちは、ゲストさん！\n",
      "こんにちは、吉田栄作さん！\n"
     ]
    }
   ],
   "source": [
    "greet()\n",
    "greet('吉田栄作')"
   ]
  },
  {
   "cell_type": "markdown",
   "id": "d514fc6a",
   "metadata": {},
   "source": [
    "__複数のデフォルト引数__\n",
    "\n",
    "デフォルト引数は 複数設定可能 です。\n",
    "ただし、デフォルト値のある引数は、**デフォルト値のない引数より後に書く** 必要があります。"
   ]
  },
  {
   "cell_type": "code",
   "execution_count": 27,
   "id": "5fdf044f",
   "metadata": {},
   "outputs": [],
   "source": [
    "def order(product, quantity=1, price=1000):\n",
    "    total = quantity * price\n",
    "    print(f\"{product} を {quantity} 個注文しました。合計 {total} 円です。\")"
   ]
  },
  {
   "cell_type": "code",
   "execution_count": 28,
   "id": "28c1aa79",
   "metadata": {},
   "outputs": [
    {
     "name": "stdout",
     "output_type": "stream",
     "text": [
      "リンゴ を 1 個注文しました。合計 1000 円です。\n",
      "オレンジ を 3 個注文しました。合計 3000 円です。\n",
      "バナナ を 2 個注文しました。合計 1000 円です。\n"
     ]
    }
   ],
   "source": [
    "order(\"リンゴ\") \n",
    "order(\"オレンジ\", 3)\n",
    "order(\"バナナ\", 2, 500)"
   ]
  },
  {
   "cell_type": "markdown",
   "id": "c64b4ea0",
   "metadata": {},
   "source": [
    "__デフォルト引数の注意点__\n",
    "\n",
    "デフォルト引数を使うと便利ですが、変更可能なオブジェクト（リストや辞書）をデフォルト引数に使うと意図しない動作をする ことがあります。\n",
    "\n",
    "問題のある例\n",
    "\n",
    "```python\n",
    "def add_item(item, item_list=[]):  # リストをデフォルト引数にする\n",
    "    item_list.append(item)  # リストにアイテムを追加\n",
    "    return item_list\n",
    "\n",
    "# 最初の呼び出し\n",
    "print(add_item(\"リンゴ\"))  \n",
    "# → ['リンゴ']\n",
    "\n",
    "# 2回目の呼び出し\n",
    "print(add_item(\"バナナ\"))  \n",
    "# → ['リンゴ', 'バナナ']  （意図せず前回のリストを引き継いでしまう！）\n",
    "```\n",
    "\n",
    "原因：\n",
    "\n",
    "Python は デフォルト引数を関数定義時に 1 回だけ評価 するため、リストが 毎回同じオブジェクト を参照してしまいます。\n",
    "\n",
    "---\n",
    "\n",
    "__正しい書き方__\n",
    "\n",
    "変更可能なオブジェクトをデフォルト引数にしたい場合は、デフォルト値を None にして、関数内で新しいオブジェクトを作る のが定石です。\n",
    "\n",
    "```python\n",
    "def add_item(item, item_list=None):\n",
    "    if item_list is None:\n",
    "        item_list = []  # 新しいリストを作成\n",
    "    item_list.append(item)\n",
    "    return item_list\n",
    "\n",
    "# 毎回新しいリストが作られる\n",
    "print(add_item(\"リンゴ\"))  # → ['リンゴ']\n",
    "print(add_item(\"バナナ\"))  # → ['バナナ']\n",
    "```"
   ]
  },
  {
   "cell_type": "markdown",
   "id": "dfb825e9",
   "metadata": {},
   "source": [
    "### 引数のキーワード指定\n",
    "\n",
    "Python では関数の引数を 「キーワード指定（キーワード引数）」 で渡すことができます。\n",
    "キーワード指定を使うことで、関数の可読性が向上し、引数の順番を気にせずに関数を呼び出すことが可能 になります。\n",
    "\n",
    "---\n",
    "\n",
    "__キーワード指定の基本__\n",
    "\n",
    "通常の関数呼び出しでは、引数は定義された 順番 で渡します。"
   ]
  },
  {
   "cell_type": "code",
   "execution_count": 30,
   "id": "4380722f",
   "metadata": {},
   "outputs": [],
   "source": [
    "def introduce(name, age, city):\n",
    "    print(f\"私は {name} です。{age} 歳で、{city} に住んでいます。\")"
   ]
  },
  {
   "cell_type": "code",
   "execution_count": 31,
   "id": "aeee1f14",
   "metadata": {},
   "outputs": [
    {
     "name": "stdout",
     "output_type": "stream",
     "text": [
      "私は 太郎 です。25 歳で、東京 に住んでいます。\n"
     ]
    }
   ],
   "source": [
    "introduce(\"太郎\", 25, \"東京\") "
   ]
  },
  {
   "cell_type": "markdown",
   "id": "b94394b0",
   "metadata": {},
   "source": [
    "しかし、引数が増えると順番を間違えやすくなります。\n",
    "そこで、キーワード指定（名前付き引数）を使う と、引数の順番を気にせずに渡せます。"
   ]
  },
  {
   "cell_type": "code",
   "execution_count": 32,
   "id": "e96eb76d",
   "metadata": {},
   "outputs": [
    {
     "name": "stdout",
     "output_type": "stream",
     "text": [
      "私は 太郎 です。25 歳で、東京 に住んでいます。\n",
      "私は 花子 です。30 歳で、大阪 に住んでいます。\n"
     ]
    }
   ],
   "source": [
    "introduce(name=\"太郎\", age=25, city=\"東京\")\n",
    "introduce(city=\"大阪\", age=30, name=\"花子\")"
   ]
  },
  {
   "cell_type": "markdown",
   "id": "f61a1eaa",
   "metadata": {},
   "source": [
    "__キーワード引数とデフォルト引数の組み合わせ__\n",
    "\n",
    "キーワード引数は デフォルト引数と組み合わせて使うことが多い です。\n",
    "デフォルト値を設定しておけば、省略した場合に自動で値が補完されます。"
   ]
  },
  {
   "cell_type": "code",
   "execution_count": 33,
   "id": "0254a866",
   "metadata": {},
   "outputs": [],
   "source": [
    "def order(product, quantity=1, price=1000):\n",
    "    total = quantity * price\n",
    "    print(f\"{product} を {quantity} 個注文しました。合計 {total} 円です。\")"
   ]
  },
  {
   "cell_type": "code",
   "execution_count": 34,
   "id": "eefe5dfb",
   "metadata": {},
   "outputs": [
    {
     "name": "stdout",
     "output_type": "stream",
     "text": [
      "りんご を 1 個注文しました。合計 1000 円です。\n",
      "バナナ を 3 個注文しました。合計 3000 円です。\n"
     ]
    }
   ],
   "source": [
    "# デフォルト引数を利用\n",
    "order(product=\"りんご\")  \n",
    "\n",
    "# キーワード指定で一部を変更\n",
    "order(product=\"バナナ\", quantity=3)"
   ]
  },
  {
   "cell_type": "markdown",
   "id": "3d182ee2",
   "metadata": {},
   "source": [
    "__注意点__\n",
    "\n",
    "キーワード引数は 位置引数（通常の引数）より後に書く必要 があります。"
   ]
  },
  {
   "cell_type": "code",
   "execution_count": 37,
   "id": "57e4ce9e",
   "metadata": {},
   "outputs": [
    {
     "name": "stdout",
     "output_type": "stream",
     "text": [
      "みかん を 1 個注文しました。合計 500 円です。\n"
     ]
    }
   ],
   "source": [
    "order(\"みかん\", price=500)"
   ]
  },
  {
   "cell_type": "code",
   "execution_count": 36,
   "id": "338061a3",
   "metadata": {},
   "outputs": [
    {
     "ename": "SyntaxError",
     "evalue": "positional argument follows keyword argument (1935673085.py, line 1)",
     "output_type": "error",
     "traceback": [
      "\u001b[0;36m  File \u001b[0;32m\"/var/folders/lc/k7jt3gx9283453ptp9t9ty5m0000gn/T/ipykernel_7791/1935673085.py\"\u001b[0;36m, line \u001b[0;32m1\u001b[0m\n\u001b[0;31m    order(quantity=2, \"ぶどう\")\u001b[0m\n\u001b[0m                           ^\u001b[0m\n\u001b[0;31mSyntaxError\u001b[0m\u001b[0;31m:\u001b[0m positional argument follows keyword argument\n"
     ]
    }
   ],
   "source": [
    "order(quantity=2, \"ぶどう\")"
   ]
  },
  {
   "cell_type": "markdown",
   "id": "4457fd4a",
   "metadata": {},
   "source": [
    "### 可変長引数\n",
    "\n",
    "Pythonでは、引数の数が不定な関数 を定義することができます。\n",
    "これを 「可変長引数」 といい、 `*args` や `**kwargs` を使って実装します。\n",
    "\n",
    "__`*args`（位置引数の可変長引数）__\n",
    "\n",
    "`*args` を使うと、複数の引数をタプルとして受け取る ことができます。\n",
    "関数の中で `args` は タプル になります。\n",
    "\n",
    "基本的な使い方"
   ]
  },
  {
   "cell_type": "code",
   "execution_count": 38,
   "id": "cacaeca5",
   "metadata": {},
   "outputs": [],
   "source": [
    "def sum_numbers(*args):\n",
    "    total = sum(args)\n",
    "    print(f\"合計: {total}\")"
   ]
  },
  {
   "cell_type": "code",
   "execution_count": 39,
   "id": "c079db08",
   "metadata": {},
   "outputs": [
    {
     "name": "stdout",
     "output_type": "stream",
     "text": [
      "合計: 6\n"
     ]
    }
   ],
   "source": [
    "sum_numbers(1, 2, 3) "
   ]
  },
  {
   "cell_type": "code",
   "execution_count": 40,
   "id": "8fdd522d",
   "metadata": {},
   "outputs": [
    {
     "name": "stdout",
     "output_type": "stream",
     "text": [
      "合計: 150\n"
     ]
    }
   ],
   "source": [
    "sum_numbers(10, 20, 30, 40, 50)"
   ]
  },
  {
   "cell_type": "markdown",
   "id": "b7d946c3",
   "metadata": {},
   "source": [
    "__特徴__\n",
    "\n",
    "- ✅ 引数の数が決まっていなくても関数を呼び出せる\n",
    "- ✅ `args` は タプル なので、リストのように要素を取得できる\n",
    "\n",
    "```python\n",
    "def show_args(*args):\n",
    "    print(f\"引数の個数: {len(args)}\")\n",
    "    for i, value in enumerate(args):\n",
    "        print(f\"引数 {i+1}: {value}\")\n",
    "\n",
    "show_args(\"Python\", \"Java\", \"C++\")\n",
    "```\n",
    "\n",
    "実行結果\n",
    "\n",
    "```sh\n",
    "引数の個数: 3\n",
    "引数 1: Python\n",
    "引数 2: Java\n",
    "引数 3: C++\n",
    "```"
   ]
  },
  {
   "cell_type": "markdown",
   "id": "2bb1324b",
   "metadata": {},
   "source": [
    "__`**kwargs`（キーワード引数の可変長引数）__\n",
    "\n",
    "`**kwargs` を使うと、キーワード付きの可変長引数を辞書として受け取る ことができます。\n",
    "\n",
    "基本的な使い方"
   ]
  },
  {
   "cell_type": "code",
   "execution_count": 41,
   "id": "50c8b4b5",
   "metadata": {},
   "outputs": [],
   "source": [
    "def show_info(**kwargs):\n",
    "    for key, value in kwargs.items():\n",
    "        print(f\"{key}: {value}\")"
   ]
  },
  {
   "cell_type": "code",
   "execution_count": 42,
   "id": "bae798e8",
   "metadata": {},
   "outputs": [
    {
     "name": "stdout",
     "output_type": "stream",
     "text": [
      "name: 太郎\n",
      "age: 25\n",
      "city: 東京\n"
     ]
    }
   ],
   "source": [
    "show_info(name=\"太郎\", age=25, city=\"東京\")"
   ]
  },
  {
   "cell_type": "markdown",
   "id": "fcbe0624",
   "metadata": {},
   "source": [
    "__特徴__\n",
    "\n",
    "- ✅ `kwargs` は 辞書（dict） なので、キーと値のペアで管理できる\n",
    "- ✅ どの引数が渡されるかわからない場合に便利"
   ]
  },
  {
   "cell_type": "code",
   "execution_count": 43,
   "id": "725436b8",
   "metadata": {},
   "outputs": [],
   "source": [
    "def display_settings(**kwargs):\n",
    "    if \"theme\" in kwargs:\n",
    "        print(f\"テーマ: {kwargs['theme']}\")\n",
    "    if \"font_size\" in kwargs:\n",
    "        print(f\"フォントサイズ: {kwargs['font_size']}\")"
   ]
  },
  {
   "cell_type": "code",
   "execution_count": 44,
   "id": "25429c21",
   "metadata": {},
   "outputs": [
    {
     "name": "stdout",
     "output_type": "stream",
     "text": [
      "テーマ: dark\n",
      "フォントサイズ: 14\n"
     ]
    }
   ],
   "source": [
    "display_settings(theme=\"dark\", font_size=14, language=\"Japanese\")"
   ]
  },
  {
   "cell_type": "markdown",
   "id": "97d57e1c",
   "metadata": {},
   "source": [
    "__`*args` と `**kwargs` を組み合わせる__\n",
    "\n",
    "`*args` と `**kwargs` を 同時に使用する ことも可能です。"
   ]
  },
  {
   "cell_type": "code",
   "execution_count": 45,
   "id": "2b8b7b8f",
   "metadata": {},
   "outputs": [
    {
     "name": "stdout",
     "output_type": "stream",
     "text": [
      "位置引数:\n",
      "1\n",
      "2\n",
      "3\n",
      "\n",
      "キーワード引数:\n",
      "name: 太郎\n",
      "age: 30\n"
     ]
    }
   ],
   "source": [
    "def mixed_example(*args, **kwargs):\n",
    "    print(\"位置引数:\")\n",
    "    for arg in args:\n",
    "        print(arg)\n",
    "    \n",
    "    print(\"\\nキーワード引数:\")\n",
    "    for key, value in kwargs.items():\n",
    "        print(f\"{key}: {value}\")\n",
    "\n",
    "mixed_example(1, 2, 3, name=\"太郎\", age=30)"
   ]
  },
  {
   "cell_type": "markdown",
   "id": "ee0e9e35",
   "metadata": {},
   "source": [
    "__使う順番に注意！__\n",
    "\n",
    "関数を定義するときは、以下の順番で記述する必要があります。\n",
    "\n",
    "1. 位置引数（通常の引数）\n",
    "1. `*args`（可変長の位置引数）\n",
    "1. `**kwargs`（可変長のキーワード引数）\n",
    "\n",
    "```python\n",
    "def example(a, b, *args, **kwargs):\n",
    "    pass\n",
    "```\n",
    "\n",
    "- ✅ 正しい順番: `(通常の引数, *args, **kwargs)`\n",
    "- ❌ エラーになる順番: `(通常の引数, **kwargs, *args)`"
   ]
  },
  {
   "cell_type": "markdown",
   "id": "92214001",
   "metadata": {},
   "source": [
    "## 独立性の破れ\n",
    "\n",
    "### グローバル変数\n",
    "\n",
    "Pythonでは、関数の外側で定義された変数 を グローバル変数 と呼びます。\n",
    "通常、関数内で変数を定義すると ローカル変数 となり、関数外の変数（グローバル変数）とは 別のもの として扱われます。\n",
    "しかし、関数内から グローバル変数を直接書き換えたり、`global` キーワードを使って変更することも可能 です。\n",
    "\n",
    "---\n",
    "\n",
    "__1. グローバル変数を関数内で使用する__\n",
    "\n",
    "関数内から グローバル変数を参照するだけ なら、そのまま利用できます。"
   ]
  },
  {
   "cell_type": "code",
   "execution_count": 1,
   "id": "cec77068",
   "metadata": {},
   "outputs": [
    {
     "name": "stdout",
     "output_type": "stream",
     "text": [
      "現在のカウント: 0\n"
     ]
    }
   ],
   "source": [
    "count = 0\n",
    "\n",
    "def show_count():\n",
    "    print(f\"現在のカウント: {count}\")\n",
    "\n",
    "show_count()"
   ]
  },
  {
   "cell_type": "markdown",
   "id": "00664fd2",
   "metadata": {},
   "source": [
    "✅ グローバル変数を読むだけならエラーにならない\n",
    "\n",
    "\n",
    "---\n",
    "\n",
    "__2. グローバル変数を関数内で書き換えるとエラー__\n",
    "\n",
    "関数内で グローバル変数を変更しようとするとエラー になります。"
   ]
  },
  {
   "cell_type": "code",
   "execution_count": 2,
   "id": "74c54214",
   "metadata": {},
   "outputs": [
    {
     "ename": "UnboundLocalError",
     "evalue": "local variable 'count' referenced before assignment",
     "output_type": "error",
     "traceback": [
      "\u001b[0;31m---------------------------------------------------------------------------\u001b[0m",
      "\u001b[0;31mUnboundLocalError\u001b[0m                         Traceback (most recent call last)",
      "\u001b[0;32m/var/folders/lc/k7jt3gx9283453ptp9t9ty5m0000gn/T/ipykernel_9855/3299216266.py\u001b[0m in \u001b[0;36m<module>\u001b[0;34m\u001b[0m\n\u001b[1;32m      5\u001b[0m     \u001b[0mprint\u001b[0m\u001b[0;34m(\u001b[0m\u001b[0;34mf\"カウント: {count}\"\u001b[0m\u001b[0;34m)\u001b[0m\u001b[0;34m\u001b[0m\u001b[0;34m\u001b[0m\u001b[0m\n\u001b[1;32m      6\u001b[0m \u001b[0;34m\u001b[0m\u001b[0m\n\u001b[0;32m----> 7\u001b[0;31m \u001b[0mincrement\u001b[0m\u001b[0;34m(\u001b[0m\u001b[0;34m)\u001b[0m\u001b[0;34m\u001b[0m\u001b[0;34m\u001b[0m\u001b[0m\n\u001b[0m",
      "\u001b[0;32m/var/folders/lc/k7jt3gx9283453ptp9t9ty5m0000gn/T/ipykernel_9855/3299216266.py\u001b[0m in \u001b[0;36mincrement\u001b[0;34m()\u001b[0m\n\u001b[1;32m      2\u001b[0m \u001b[0;34m\u001b[0m\u001b[0m\n\u001b[1;32m      3\u001b[0m \u001b[0;32mdef\u001b[0m \u001b[0mincrement\u001b[0m\u001b[0;34m(\u001b[0m\u001b[0;34m)\u001b[0m\u001b[0;34m:\u001b[0m\u001b[0;34m\u001b[0m\u001b[0;34m\u001b[0m\u001b[0m\n\u001b[0;32m----> 4\u001b[0;31m     \u001b[0mcount\u001b[0m \u001b[0;34m+=\u001b[0m \u001b[0;36m1\u001b[0m\u001b[0;34m\u001b[0m\u001b[0;34m\u001b[0m\u001b[0m\n\u001b[0m\u001b[1;32m      5\u001b[0m     \u001b[0mprint\u001b[0m\u001b[0;34m(\u001b[0m\u001b[0;34mf\"カウント: {count}\"\u001b[0m\u001b[0;34m)\u001b[0m\u001b[0;34m\u001b[0m\u001b[0;34m\u001b[0m\u001b[0m\n\u001b[1;32m      6\u001b[0m \u001b[0;34m\u001b[0m\u001b[0m\n",
      "\u001b[0;31mUnboundLocalError\u001b[0m: local variable 'count' referenced before assignment"
     ]
    }
   ],
   "source": [
    "count = 0\n",
    "\n",
    "def increment():\n",
    "    count += 1\n",
    "    print(f\"カウント: {count}\")\n",
    "\n",
    "increment()"
   ]
  },
  {
   "cell_type": "markdown",
   "id": "1cdde7d4",
   "metadata": {},
   "source": [
    "🔴 理由: count を関数内で変更しようとすると、Pythonは count を ローカル変数 とみなす。しかし、ローカル変数として定義される前に参照しようとしているためエラーが発生する。\n",
    "\n",
    "__3. global キーワードを使って書き換える__\n",
    "\n",
    "`global` キーワードを使うと、関数内でグローバル変数を書き換えることができます。"
   ]
  },
  {
   "cell_type": "code",
   "execution_count": 3,
   "id": "00f00fdc",
   "metadata": {},
   "outputs": [
    {
     "name": "stdout",
     "output_type": "stream",
     "text": [
      "カウント: 1\n",
      "カウント: 2\n"
     ]
    }
   ],
   "source": [
    "count = 0\n",
    "\n",
    "def increment():\n",
    "    global count\n",
    "    count += 1\n",
    "    print(f\"カウント: {count}\")\n",
    "\n",
    "increment()  \n",
    "increment()"
   ]
  },
  {
   "cell_type": "markdown",
   "id": "40e3924e",
   "metadata": {},
   "source": [
    "✅ `global count` を宣言すれば、関数内で `count` を書き換え可能\n",
    "\n",
    "---\n",
    "\n",
    "__4. グローバル変数の問題点__\n",
    "\n",
    "(1) 副作用が発生しやすい\n",
    "\n",
    "グローバル変数を関数内で変更すると、どこで値が変わるのか分かりにくくなる ため、バグの原因 になりやすい。\n",
    "\n",
    "```python\n",
    "count = 0\n",
    "\n",
    "def increment():\n",
    "    global count\n",
    "    count += 1\n",
    "\n",
    "def reset():\n",
    "    global count\n",
    "    count = 0\n",
    "\n",
    "increment()\n",
    "increment()\n",
    "reset()\n",
    "increment()\n",
    "print(count)\n",
    "```\n",
    "\n",
    "✅ 関数の動作が予測しづらくなる\n",
    "\n",
    "---\n",
    "\n",
    "(2) 関数の独立性が失われる\n",
    "関数の中でグローバル変数を使うと、その関数は 外部の変数に依存する ため、再利用しにくくなる。\n",
    "\n",
    "```python\n",
    "total = 0\n",
    "\n",
    "def add(x):\n",
    "    global total\n",
    "    total += x\n",
    "    print(f\"合計: {total}\")\n",
    "\n",
    "add(10)\n",
    "add(20)\n",
    "```\n",
    "\n",
    "この関数は `total` に依存しているため、別の計算には使い回しにくい。\n",
    "\n",
    "---\n",
    "\n",
    "__5. グローバル変数を避ける方法__\n",
    "\n",
    "✅ 関数の引数と戻り値を使うことで、グローバル変数を避ける ことができる。\n",
    "\n",
    "```python\n",
    "def add(x, total):\n",
    "    total += x\n",
    "    return total\n",
    "\n",
    "total = 0\n",
    "total = add(10, total)\n",
    "total = add(20, total)\n",
    "print(total)\n",
    "```\n",
    "\n",
    "メリット:\n",
    "\n",
    "- `total` の値を明示的にやり取りするため、関数の独立性が保たれる。\n",
    "- 関数がどの変数に影響を与えるのかが明確 になり、バグが減る。"
   ]
  },
  {
   "cell_type": "markdown",
   "id": "50e2261a",
   "metadata": {},
   "source": [
    "### 引数と戻り値の存在価値\n",
    "\n",
    "プログラミングにおいて、関数は単なるコードの塊ではなく、「データの流れを整理し、再利用性を高める仕組み」 です。その中核を担うのが「引数」と「戻り値」です。特に、チーム開発や大規模なシステムでは、関数の独立性が重要になり、それを確保するために引数と戻り値を適切に活用することが求められます。\n",
    "\n",
    "---\n",
    "\n",
    "__関数の独立性を保つことの重要性__\n",
    "\n",
    "ソフトウェア開発において、関数が独立して動作することは極めて重要です。特にチーム開発では、複数人が同じコードベースを編集するため、関数が不用意に外部の状態を変更すると、意図しないバグや予期せぬ挙動 が発生する原因になります。\n",
    "\n",
    "引数と戻り値を適切に設計することで、関数の動作が明確になり、他のメンバーが関数を利用しやすくなります。\n",
    "\n",
    "---\n",
    "\n",
    "__1. グローバル変数への依存が生む問題__\n",
    "\n",
    "もし関数がグローバル変数に依存していると、次のような問題が発生します。\n",
    "\n",
    "- チーム開発での競合 ... 同じグローバル変数を複数人が別々の意図で変更してしまい、思わぬバグを引き起こす。\n",
    "- 関数の影響範囲が不明確になる ... どこで値が変更されるかわからず、デバッグが困難になる。\n",
    "- 再利用性が低下する ... あるプロジェクトでは動いても、別のプロジェクトでは使えない可能性がある。\n",
    "\n",
    "例えば、ある関数が外部の変数を変更する場合、その関数を呼び出す前後でどのような値がセットされているかを常に意識しなければならず、開発の負担が増えます。\n",
    "\n",
    "---\n",
    "\n",
    "__2. 引数の意義：関数に必要なデータを明示的に渡す__\n",
    "\n",
    "関数に引数を渡すことで、「この関数が何を処理するのか」が明確になります。\n",
    "\n",
    "- 関数の再利用性が高まる：引数を変更するだけで、異なるデータに対して処理を実行できる。\n",
    "- 関数のテストが容易になる：さまざまな値を引数として渡すことで、関数の動作を簡単に検証できる。\n",
    "- コードの可読性が向上する：関数のインターフェースが明確になり、チームメンバーが直感的に利用しやすくなる。\n",
    "\n",
    "また、引数を適切に定義することで、関数の責務がはっきりし、他の開発者が関数の目的を理解しやすくなります。\n",
    "\n",
    "---\n",
    "\n",
    "__3. 戻り値の意義：関数の結果を適切に受け取る__\n",
    "\n",
    "関数の結果を戻り値として返すことで、関数の内部で行われた処理の結果を適切に取得できます。\n",
    "\n",
    "- データの流れが明確になる\n",
    "    - 関数の呼び出し元が、関数の処理結果を受け取って次の処理に活かせる。\n",
    "- 関数の副作用を減らせる\n",
    "    - 関数内で不用意に外部の変数を書き換えないため、意図しない挙動を防げる。\n",
    "- 関数の独立性を維持できる\n",
    "    - 戻り値を返すことで、関数が特定の環境に依存せず、どこでも使えるようになる。\n",
    "\n",
    "例えば、関数の戻り値を変数に格納し、それを別の関数に渡すことで、関数間のデータの流れをシンプルに管理できます。\n",
    "\n",
    "___\n",
    "\n",
    "__4. チーム開発における引数と戻り値の設計__\n",
    "\n",
    "チーム開発では、関数の引数と戻り値を適切に設計することが、バグの削減・可読性の向上・保守性の向上 につながります。\n",
    "\n",
    "設計のポイント: \n",
    "\n",
    "1. 必要なデータはすべて引数として渡す\n",
    "    - グローバル変数に依存せず、関数の動作を明確にする。\n",
    "1. 関数の結果は戻り値として返す\n",
    "    - 関数を呼び出した側が結果を明示的に受け取れるようにする。\n",
    "1. 関数が1つの責務に集中するようにする\n",
    "    - 複数の機能を詰め込まず、シンプルな構造を保つ。\n",
    "1. 引数や戻り値の型を統一する\n",
    "    - チームでのコードの一貫性を保ち、予測しやすい関数を作る。\n",
    "---\n",
    "\n",
    "#### 結論：引数と戻り値の適切な利用が、良いコードを生む\n",
    "\n",
    "関数の引数と戻り値を適切に設計することで、プログラムの可読性・保守性・再利用性が向上し、バグを減らしやすくなります。\n",
    "\n",
    "特にチーム開発では、「誰が見ても分かりやすく、意図したとおりに動くコード」を書くことが重要です。そのために、関数の引数と戻り値を適切に活用し、グローバル変数への依存を避けることが、開発効率の向上と品質の安定につながります。"
   ]
  },
  {
   "cell_type": "markdown",
   "id": "fbb61e06",
   "metadata": {},
   "source": [
    "## Chapter 5 のまとめ\n",
    "\n",
    "本章では、Pythonにおける「関数」について学びました。関数は、コードの再利用性を高め、プログラムの可読性を向上させる重要な仕組みです。\n",
    "\n",
    "### 関数の基本\n",
    "\n",
    "- `def` を使って関数を定義し、呼び出し演算子 `()` で実行する。\n",
    "- ローカル変数 を利用することで、関数の独立性を保つ。\n",
    "\n",
    "### 引数と戻り値\n",
    "\n",
    "- 引数 を使って外部からデータを受け取り、戻り値 を通じて処理結果を返す。\n",
    "- 関数同士を連携 させることで、より柔軟なプログラムが書ける。\n",
    "\n",
    "### 関数の応用テクニック\n",
    "\n",
    "- デフォルト引数 で省略可能なパラメータを設定できる。\n",
    "- キーワード引数 を活用すると、可読性の高い関数呼び出しが可能。\n",
    "- 可変長引数 (`*args`, `**kwargs`) で柔軟な関数を作成できる。\n",
    "\n",
    "### 独立性の破れとその対策\n",
    "\n",
    "- グローバル変数 は関数の独立性を損なうため、極力避けるべき。\n",
    "- 引数と戻り値を適切に利用することで、関数の責務を明確にする。\n",
    "\n",
    "関数を適切に設計し、データの流れを整理することで、保守性の高いプログラム を作成できるようになります。"
   ]
  },
  {
   "cell_type": "markdown",
   "id": "3b55311d",
   "metadata": {},
   "source": [
    "## 練習問題\n",
    "\n",
    "### 問題 1: 関数の基本\n",
    "\n",
    "次の説明が 正しい場合は**〇**、誤っている場合は**×** を答えてください。\n",
    "\n",
    "1. 関数を定義するには `def` キーワードを使用する。\n",
    "1. 関数の名前の後に `()` をつけて定義する必要がある。\n",
    "1. `return` を使うことで関数の実行結果を呼び出し元に返せる。\n",
    "1. Python では関数を定義しなくても、コードを繰り返し使うことは可能である。\n",
    "1. 関数を呼び出すには、関数名の後に `()` をつける必要がある。\n",
    "\n",
    "### 問題 2: 引数と戻り値\n",
    "\n",
    "次の関数 `calculate_area` は、四角形の面積を計算する関数です。この関数には 「引数」と「戻り値」があるかどうか を答えてください。\n",
    "\n",
    "```python\n",
    "def calculate_area(width, height):\n",
    "    area = width * height\n",
    "    print(f\"面積は {area} です\")\n",
    "```\n",
    "    \n",
    "### 問題 3: デフォルト引数\n",
    "\n",
    "次の関数 `greet` には、デフォルト引数を設定しようとしています。適切に修正してください。\n",
    "\n",
    "```python\n",
    "def greet(message=\"こんにちは\", name):\n",
    "    print(f\"{message}, {name}さん！\")\n",
    "```\n",
    "\n",
    "#### 問題 4: 可変長引数\n",
    "\n",
    "次の `sum_numbers` 関数は、渡された数値をすべて足し合わせる関数です。`*args` を利用して修正してください。\n",
    "\n",
    "```python\n",
    "def sum_numbers(a, b, c):\n",
    "    return a + b + c\n",
    "```\n",
    "\n",
    "#### 問題 5: グローバル変数の影響\n",
    "\n",
    "次のコードを実行すると、どのような出力になりますか？また、このコードの問題点を説明してください。\n",
    "\n",
    "```python\n",
    "count = 0  \n",
    "\n",
    "def increment():\n",
    "    count += 1  \n",
    "    print(count)  \n",
    "\n",
    "increment()\n",
    "```"
   ]
  }
 ],
 "metadata": {
  "kernelspec": {
   "display_name": "Python 3 (ipykernel)",
   "language": "python",
   "name": "python3"
  },
  "language_info": {
   "codemirror_mode": {
    "name": "ipython",
    "version": 3
   },
   "file_extension": ".py",
   "mimetype": "text/x-python",
   "name": "python",
   "nbconvert_exporter": "python",
   "pygments_lexer": "ipython3",
   "version": "3.9.6"
  }
 },
 "nbformat": 4,
 "nbformat_minor": 5
}
