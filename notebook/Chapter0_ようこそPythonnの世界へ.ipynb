{
 "cells": [
  {
   "cell_type": "markdown",
   "id": "07ef8ea5",
   "metadata": {},
   "source": [
    "## Pythonとは\n",
    "\n",
    "Pythonは、データ分析、AI（機械学習、深層学習）や、Webアプリケーション、IoTなどの幅広い分野で利用できるプログラミング言語です。\n",
    "\n",
    "他にもPythonには次の特徴があります。\n",
    "\n",
    "- シンプルで読みやすい\n",
    "    - 文法がシンプルで、コードが直感的に理解しやすい。\n",
    "    - インデント（字下げ）によってブロックを表現するため、可読性が高い。\n",
    "- 豊富なライブラリとフレームワーク\n",
    "    - データ分析（NumPy、Pandas）、機械学習（TensorFlow、scikit-learn）、Web開発（Django、Flask）など、幅広い分野で使えるライブラリが充実。\n",
    "- 汎用性が高い\n",
    "    - Web開発、データ分析、AI・機械学習、ゲーム開発、業務自動化など、多様な分野で活用できる。\n",
    "- インタープリタ型で実行可能\n",
    "    - コンパイル不要で、コードをすぐに実行できる（スクリプト言語）。\n",
    "    - インタラクティブな実行環境（REPL）で、試しながら開発しやすい。\n",
    "- クロスプラットフォーム対応\n",
    "    - Windows、Mac、Linuxなど、さまざまな環境で動作する。\n",
    "- オープンソース & コミュニティが活発\n",
    "    - 無料で利用でき、世界中の開発者がライブラリを提供し、問題解決のための情報も豊富。\n",
    "\n",
    "それでは早速Pythonを使ったプログラミングを体験していきましょう。"
   ]
  },
  {
   "cell_type": "markdown",
   "id": "aa3db377",
   "metadata": {},
   "source": [
    "## はじめてのプログラミング"
   ]
  },
  {
   "cell_type": "code",
   "execution_count": 3,
   "id": "f7041957",
   "metadata": {},
   "outputs": [
    {
     "name": "stdout",
     "output_type": "stream",
     "text": [
      "Hello World!\n"
     ]
    }
   ],
   "source": [
    "print('Hello World!')"
   ]
  },
  {
   "cell_type": "markdown",
   "id": "b8cfa085",
   "metadata": {},
   "source": [
    "このプログラムは、画面に「Hello World!」という文字列を表示する単純なプログラムです。\n",
    "クオーテーション囲まれている「Hello World!」の部分のメッセージを変更してみて、自分の名前を出力してみましょう！"
   ]
  },
  {
   "cell_type": "code",
   "execution_count": 4,
   "id": "ca84afa1",
   "metadata": {},
   "outputs": [
    {
     "name": "stdout",
     "output_type": "stream",
     "text": [
      "Hello まさゆき!\n"
     ]
    }
   ],
   "source": [
    "print('Hello まさゆき!')"
   ]
  },
  {
   "cell_type": "markdown",
   "id": "1df90a80",
   "metadata": {},
   "source": [
    "print()のことを「プリント関数」と言います。関数とはコンピュータに対して行う命令にあたります。Pythonには他にもさまざまな関数が用意されています。"
   ]
  },
  {
   "cell_type": "markdown",
   "id": "4fa72dff",
   "metadata": {},
   "source": [
    "続いて、次のコードを実行してみましょう。"
   ]
  },
  {
   "cell_type": "code",
   "execution_count": 5,
   "id": "fe5d1224",
   "metadata": {},
   "outputs": [
    {
     "ename": "SyntaxError",
     "evalue": "EOL while scanning string literal (114360147.py, line 1)",
     "output_type": "error",
     "traceback": [
      "\u001b[0;36m  File \u001b[0;32m\"/var/folders/lc/k7jt3gx9283453ptp9t9ty5m0000gn/T/ipykernel_5822/114360147.py\"\u001b[0;36m, line \u001b[0;32m1\u001b[0m\n\u001b[0;31m    print('Hello ひろゆき！)\u001b[0m\n\u001b[0m                       ^\u001b[0m\n\u001b[0;31mSyntaxError\u001b[0m\u001b[0;31m:\u001b[0m EOL while scanning string literal\n"
     ]
    }
   ],
   "source": [
    "print('Hello ひろゆき！)"
   ]
  },
  {
   "cell_type": "markdown",
   "id": "2b98ccf1",
   "metadata": {},
   "source": [
    "エラーの原因は、print('Hello ひろゆき！) の シングルクォート (') の閉じ忘れ です。\n",
    "正しくは、次のようにシングルクォート (') を閉じる必要があります："
   ]
  },
  {
   "cell_type": "code",
   "execution_count": 7,
   "id": "c746023d",
   "metadata": {},
   "outputs": [
    {
     "name": "stdout",
     "output_type": "stream",
     "text": [
      "Hello ひろゆき！\n"
     ]
    }
   ],
   "source": [
    "print('Hello ひろゆき！')  # 正しい書き方"
   ]
  },
  {
   "cell_type": "markdown",
   "id": "6c58f918",
   "metadata": {},
   "source": [
    "または、ダブルクォート (\") を使ってもOKです："
   ]
  },
  {
   "cell_type": "code",
   "execution_count": 8,
   "id": "38c5ab42",
   "metadata": {},
   "outputs": [
    {
     "name": "stdout",
     "output_type": "stream",
     "text": [
      "Hello ひろゆき！\n"
     ]
    }
   ],
   "source": [
    "print(\"Hello ひろゆき！\")  # これもOK"
   ]
  },
  {
   "cell_type": "markdown",
   "id": "5db9724a",
   "metadata": {},
   "source": [
    "Python は 文字列を開始したら必ず閉じるルール があります。閉じ忘れると、今回のように \"EOL (End of Line) while scanning string literal\" というエラーが発生します。\n",
    "\n",
    "💡 エラーは成長のチャンス！\n",
    "\n",
    "プログラミングでは、エラーと仲良くなること がとても大切です。最初はびっくりするかもしれませんが、エラーは「どこを直せばいいのか」を教えてくれる先生のようなものです。\n",
    "\n",
    "エラーが出たら、\n",
    "- ✅ エラーメッセージを読む → どこが間違っているかヒントを探す\n",
    "- ✅ 少しずつ試す → 1つずつ修正しながら原因を確かめる\n",
    "- ✅ 楽しむ！ → 「おっ、また新しいことを学べた！」という気持ちで取り組む\n",
    "\n",
    "間違えるほど成長できます。たくさんエラーを出して、どんどん上達していきましょう！🚀✨"
   ]
  },
  {
   "cell_type": "code",
   "execution_count": 9,
   "id": "b349095c",
   "metadata": {},
   "outputs": [
    {
     "name": "stdout",
     "output_type": "stream",
     "text": [
      "高柳　まさゆき\n",
      "32歳\n",
      "三度の飯よりラーメンが好き\n"
     ]
    }
   ],
   "source": [
    "print('高柳　まさゆき')\n",
    "print('32歳')\n",
    "print('三度の飯よりラーメンが好き')"
   ]
  },
  {
   "cell_type": "markdown",
   "id": "6ada030c",
   "metadata": {},
   "source": [
    "プログラムは上から下に実行されます。Pythonプログラムは原則として、上に書いた命令から順番に実行されていくことを覚えておきましょう。"
   ]
  },
  {
   "cell_type": "markdown",
   "id": "77a1f6f1",
   "metadata": {},
   "source": [
    "## 開発の流れ"
   ]
  },
  {
   "cell_type": "markdown",
   "id": "3270cc03",
   "metadata": {},
   "source": [
    "### プログラムの作成\n",
    "① ソースコードの作成 ✍\n",
    "\n",
    "まず、Pythonのコードを作成します。\n",
    "テキストエディタ（VSCode, PyCharm, Jupyter Notebook など）を開いて、以下のような .py ファイルを作成します。\n",
    "\n",
    "例：簡単な電卓プログラム (calculator.py)\n",
    "\n",
    "```py\n",
    "# ユーザーに2つの数値を入力してもらう\n",
    "num1 = float(input(\"1つ目の数字を入力: \"))\n",
    "num2 = float(input(\"2つ目の数字を入力: \"))\n",
    "\n",
    "# 足し算を実行\n",
    "result = num1 + num2\n",
    "\n",
    "# 結果を表示\n",
    "print(\"合計:\", result)\n",
    "```\n",
    "\n",
    "② 実行 ▶\n",
    "\n",
    "作成した .py ファイルを実行して、プログラムを動かします。\n",
    "\n",
    "方法 1: ターミナルで実行（Windows / Mac / Linux）\n",
    "ターミナルやコマンドプロンプトを開き、保存したファイルのあるフォルダへ移動して次のコマンドを実行：\n",
    "\n",
    "```sh\n",
    "python calculator.py\n",
    "```\n",
    "\n",
    "方法 2: エディタの「Run」ボタンで実行\n",
    "VSCode や PyCharm などのエディタでは、「▶（実行）」ボタン を押すだけでOK。"
   ]
  },
  {
   "cell_type": "markdown",
   "id": "4fa44c2e",
   "metadata": {},
   "source": [
    "### 統合開発環境（IDE: Integrated Development Environment）とは？\n",
    "\n",
    "統合開発環境（IDE）は、プログラムを効率的に開発するためのツールが一式揃ったソフトウェア です。\n",
    "\n",
    "✅ IDEの主な機能\n",
    "- コードエディタ ✍\n",
    "    - 色分け（シンタックスハイライト）で見やすい\n",
    "    - 補完機能（入力のサポート）\n",
    "- デバッガ 🐞\n",
    "    - エラーを見つけて修正しやすくする\n",
    "    - 変数の値を確認しながら実行できる\n",
    "- 実行環境 ▶\n",
    "    - 書いたコードをそのまま実行できる\n",
    "- パッケージ管理 📦\n",
    "    - 必要なライブラリを簡単にインストール（例: pip）\n",
    "- バージョン管理（Git連携） 🔄\n",
    "    - コードの変更履歴を管理できる\n",
    "\n",
    "✅ Python開発におすすめのIDE\n",
    "\n",
    "🔹 初心者向け\n",
    "\n",
    "|IDE|特徴|\n",
    "|-|-|\n",
    "|IDLE|Python標準搭載。シンプルで軽量だが機能は少なめ|\n",
    "|Thonny|初心者向け。デバッグ機能がわかりやすい|\n",
    "\n",
    "🔹 中級・上級者向け\n",
    "\n",
    "|IDE|特徴|\n",
    "|-|-|\n",
    "|VSCode|拡張機能が豊富で軽量。Pythonにも最適|\n",
    "|PyCharm|強力な補完・デバッグ機能を搭載。プロ向け|\n",
    "|Jupyter Notebook|データ分析やAI向け。セルごとに実行可能|\n",
    "\n",
    "✅ IDEを使うメリット\n",
    "- ✅ エラーを素早く発見できる 🐞\n",
    "- ✅ コーディングが効率化する ⏳\n",
    "- ✅ プログラムの動作確認がスムーズにできる 🚀"
   ]
  },
  {
   "cell_type": "markdown",
   "id": "61def53d",
   "metadata": {},
   "source": [
    "### 「正しくて読みやすいコード」の書き方 😊✨\n",
    "Pythonを学ぶときに大切なのは、\n",
    "① 正確に記述すること と ② 読みやすいコードを書くこと です！\n",
    "これを意識するだけで、プログラムがスムーズに動き、自分も他の人も理解しやすくなります。\n",
    "\n",
    "① 正確に記述する 📝\n",
    "\n",
    "プログラムは ほんの少しのミスでもエラー になります。\n",
    "「正確に書く」ことを意識すると、エラーが減り、スムーズに開発できます！\n",
    "\n",
    "🌟 正確に書くためのポイント\n",
    "1. 文法ルールを守る\n",
    "    - クォート (' や \") を閉じ忘れない\n",
    "    - : や () などの記号を正しく使う\n",
    "    - インデント（字下げ）を適切に入れる\n",
    "    \n",
    "✅ 例（正しい書き方）\n",
    "```py\n",
    "print(\"こんにちは！\")  # クォートを閉じる\n",
    "```\n",
    "\n",
    "❌ 間違い（エラーになる）\n",
    "```py\n",
    "print(\"こんにちは！   # クォートが閉じられていない\n",
    "```\n",
    "👉 こういうミスが原因で SyntaxError になることが多いので注意！\n",
    "\n",
    "2. エラーメッセージをよく読む\n",
    "    - Pythonはエラーが発生すると、その原因を教えてくれます。\n",
    "    - エラーメッセージを読み、問題を修正するクセ をつけると、上達が早くなります！\n",
    "\n",
    "② 読みやすいソースコードを記述する 👀\n",
    "\n",
    "Pythonは「人が読みやすいコードを書く」ことを大切にしています。\n",
    "将来の自分や他の人が すぐに理解できるコード を書くことがポイントです。\n",
    "\n",
    "🌟 読みやすいコードを書くためのポイント\n",
    "1. わかりやすい変数名をつける 🏷️\n",
    "    - x や y だけでなく、意味がわかる名前を使おう！\n",
    "\n",
    "✅ 良い例\n",
    "```py\n",
    "age = 25  # 年齢\n",
    "user_name = \"ひろゆき\"  # ユーザーの名前\n",
    "```\n",
    "\n",
    "❌ 悪い例\n",
    "```py\n",
    "a = 25\n",
    "b = \"ひろゆき\"\n",
    "```\n",
    "👉 どんな値が入っているのかわかりづらいですね💦\n",
    "\n",
    "2. 適切にコメントを書く 💬\n",
    "    - コードの意味がすぐにわかるように、コメント (#) を使おう！\n",
    "\n",
    "✅ 良い例\n",
    "```py\n",
    "# 2つの数を足し算するプログラム\n",
    "num1 = 5\n",
    "num2 = 10\n",
    "result = num1 + num2  # 合計を計算\n",
    "print(result)  # 結果を表示\n",
    "```\n",
    "\n",
    "❌ 悪い例\n",
    "```py\n",
    "n1 = 5\n",
    "n2 = 10\n",
    "r = n1 + n2\n",
    "print(r)\n",
    "```\n",
    "👉 何をしているプログラムかわかりづらいですね💦\n",
    "\n",
    "「プログラムは \"コンピュータのため\" だけじゃなく、\"人間のため\" にも書くものだよ！」\n",
    "「ミスしても大丈夫！エラーと仲良くなりながら、一歩ずつ成長しよう😊✨」\n",
    "\n",
    "コツコツ練習すれば、どんどん書けるようになるよ！💪🔥"
   ]
  },
  {
   "cell_type": "markdown",
   "id": "ac003a81",
   "metadata": {},
   "source": [
    "## はじめてプログラムを開発して"
   ]
  },
  {
   "cell_type": "markdown",
   "id": "c1b36802",
   "metadata": {},
   "source": [
    "🎉 お疲れさまでした！Pythonで最初のプログラム実行完了！ 🎉\n",
    "\n",
    "はじめてのPythonプログラムを実行できましたね！✨\n",
    "\n",
    "「コードを書いて → 実行して → 結果を確認する」この基本の流れを体験できたのは、大きな一歩です！💡\n",
    "\n",
    "💡 Pythonってどんなところで使われているの？\n",
    "\n",
    "実は、Pythonは 世界中のあらゆる分野で活躍しているプログラミング言語 です！ 🌍\n",
    "\n",
    "- ✅ Webサービス開発 🌐\n",
    "    → YouTube や Instagram などの大手サービスもPythonで作られています！\n",
    "\n",
    "- ✅ データ分析・AI開発 🤖\n",
    "    → Google や Netflix もPythonを活用してデータ解析＆機械学習を行っています！\n",
    "\n",
    "- ✅ 自動化（業務効率化） ⚡\n",
    "    → エクセル操作やメール送信などをPythonで自動化できます！\n",
    "\n",
    "- ✅ ゲーム開発 🎮\n",
    "    → Pythonを使って 簡単なゲーム を作ることもできます！\n",
    "\n",
    "🚀 これからの学習に向けて 🌱\n",
    "今日の経験をもとに、Pythonをもっと活用できるように少しずつ学んでいきましょう！\n",
    "\n",
    "コードを書けば書くほど、できることが増えていきます💪✨\n",
    "\n",
    "次のステップでは、もっと便利なプログラム を作れるように練習していきます！\n",
    "\n",
    "これからも一緒にPythonを楽しみながら学んでいきましょう！😊🎵"
   ]
  }
 ],
 "metadata": {
  "kernelspec": {
   "display_name": "Python 3 (ipykernel)",
   "language": "python",
   "name": "python3"
  },
  "language_info": {
   "codemirror_mode": {
    "name": "ipython",
    "version": 3
   },
   "file_extension": ".py",
   "mimetype": "text/x-python",
   "name": "python",
   "nbconvert_exporter": "python",
   "pygments_lexer": "ipython3",
   "version": "3.9.13"
  }
 },
 "nbformat": 4,
 "nbformat_minor": 5
}
