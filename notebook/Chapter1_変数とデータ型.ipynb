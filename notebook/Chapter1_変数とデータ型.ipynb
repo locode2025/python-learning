{
 "cells": [
  {
   "cell_type": "markdown",
   "id": "8a82323c",
   "metadata": {},
   "source": [
    "第Ⅰ部\n",
    "\n",
    "Pythonの基礎を学ぼう\n",
    "\n",
    "# Chapter 1 変数とデータ型\n",
    "\n",
    "1. 式と演算\n",
    "    1. 数値の演算\n",
    "    1. 文字列の演算\n",
    "    1. エスケープシーケンス\n",
    "    1. ヒアドキュメント\n",
    "    1. 式と評価\n",
    "1. 変数\n",
    "    1. 変数の利用\n",
    "    1. 変数名のルール\n",
    "    1. 変数の上書き\n",
    "    1. アンパック代入\n",
    "    1. 自分自身への代入\n",
    "    1. 複合代入演算子\n",
    "    1. キーボード入力値の代入\n",
    "1. データ型\n",
    "    1. データ型とは\n",
    "    1. データ型の変換\n",
    "    1. 文字列の中に数値を埋め込む\n",
    "    1. f-string"
   ]
  },
  {
   "cell_type": "markdown",
   "id": "03346c14",
   "metadata": {},
   "source": [
    "## 1. 式と演算\n",
    "\n",
    "Pythonでは、数値の演算を簡単に行うことができます。基本的な算術演算子を使って、加算、減算、乗算、除算などを実行できます。\n",
    "\n",
    "### 数値の演算\n",
    "\n",
    "Pythonでは、次のような算術演算子を使用できます。\n",
    "\n",
    "|演算子|説明|例|\n",
    "|:-:|:-|:-|\n",
    "| `+`    | 加算                     | `3 + 2  →  5` |\n",
    "| `-`    | 減算                     | `5 - 2  →  3` |\n",
    "| `*`    | 乗算                     | `3 * 4  →  12` |\n",
    "| `/`    | 除算（浮動小数点）       | `7 / 2  →  3.5` |\n",
    "| `//`   | 整数除算（切り捨て）     | `7 // 2  →  3` |\n",
    "| `%`    | 剰余（余り）             | `7 % 2  →  1` |\n",
    "| `**`   | 累乗                     | `2 ** 3  →  8` |\n",
    "\n",
    "Pythonのコードで、コンピュータに計算させるために用いる記号を演算子（**operator**）といいます。`+` や `-` などの数値の四則演算（足す・引く・掛ける・割る）をするための演算子を算術演算子といいます。\n",
    "\n",
    "実際に演算子を使ったコードを実装して、その動作を確認していきましょう。"
   ]
  },
  {
   "cell_type": "markdown",
   "id": "a5b7162b",
   "metadata": {},
   "source": [
    "Pythonでは `/` を使うと常に浮動小数点（**float型**）になります。"
   ]
  },
  {
   "cell_type": "code",
   "execution_count": 1,
   "id": "e69ef255",
   "metadata": {},
   "outputs": [
    {
     "name": "stdout",
     "output_type": "stream",
     "text": [
      "3.5\n",
      "4.0\n"
     ]
    }
   ],
   "source": [
    "print(7 / 2)\n",
    "print(8 / 2)"
   ]
  },
  {
   "cell_type": "markdown",
   "id": "df4e17a6",
   "metadata": {},
   "source": [
    "整数除算 `//` を使うと、小数点以下を切り捨てた整数結果が得られます。\n",
    "剰余 `%` を使うと、割り算の余りが得られます。"
   ]
  },
  {
   "cell_type": "code",
   "execution_count": 2,
   "id": "02d68b78",
   "metadata": {},
   "outputs": [
    {
     "name": "stdout",
     "output_type": "stream",
     "text": [
      "3\n",
      "1\n"
     ]
    }
   ],
   "source": [
    "print(7 // 2)\n",
    "print(7 % 2)"
   ]
  },
  {
   "cell_type": "markdown",
   "id": "def773c8",
   "metadata": {},
   "source": [
    "累乗を計算するには `**` を使います。"
   ]
  },
  {
   "cell_type": "code",
   "execution_count": 3,
   "id": "f35aa1bd",
   "metadata": {},
   "outputs": [
    {
     "name": "stdout",
     "output_type": "stream",
     "text": [
      "8\n",
      "25\n"
     ]
    }
   ],
   "source": [
    "print(2 ** 3)\n",
    "print(5 ** 2)"
   ]
  },
  {
   "cell_type": "markdown",
   "id": "8a1847df",
   "metadata": {},
   "source": [
    "Pythonには整数（**int**）と浮動小数点数（**float**）の2種類の数値型があります。"
   ]
  },
  {
   "cell_type": "code",
   "execution_count": 4,
   "id": "561e3051",
   "metadata": {},
   "outputs": [
    {
     "name": "stdout",
     "output_type": "stream",
     "text": [
      "<class 'int'>\n",
      "<class 'float'>\n"
     ]
    }
   ],
   "source": [
    "print(type(10))\n",
    "print(type(3.14))"
   ]
  },
  {
   "cell_type": "markdown",
   "id": "43ea1b02",
   "metadata": {},
   "source": [
    "数値の型を変換することもできます。"
   ]
  },
  {
   "cell_type": "code",
   "execution_count": 5,
   "id": "b0840275",
   "metadata": {},
   "outputs": [
    {
     "name": "stdout",
     "output_type": "stream",
     "text": [
      "3\n",
      "3.0\n"
     ]
    }
   ],
   "source": [
    "print(int(3.9))   # 小数点以下切り捨て\n",
    "print(float(3))"
   ]
  },
  {
   "cell_type": "markdown",
   "id": "efea922f",
   "metadata": {},
   "source": [
    "### 文字列の演算\n",
    "\n",
    "Pythonでは、数値だけでなく文字列 (`str`) も演算に利用できます。主に `+`（連結）と `*`（繰り返し）を使用します。\n",
    "\n",
    "文字列の結合（連結）\n",
    "\n",
    "`+` 演算子を使うと、文字列を結合できます。"
   ]
  },
  {
   "cell_type": "code",
   "execution_count": 6,
   "id": "bc1942ec",
   "metadata": {},
   "outputs": [
    {
     "name": "stdout",
     "output_type": "stream",
     "text": [
      "こんにちは世界\n"
     ]
    }
   ],
   "source": [
    "text1 = \"こんにちは\"\n",
    "text2 = \"世界\"\n",
    "result = text1 + text2\n",
    "print(result)"
   ]
  },
  {
   "cell_type": "markdown",
   "id": "85c3d0ed",
   "metadata": {},
   "source": [
    "ただし、数値 (**int** や **float**) と文字列 (**str**) を `+` で結合しようとするとエラーになります。"
   ]
  },
  {
   "cell_type": "code",
   "execution_count": 7,
   "id": "b71b8213",
   "metadata": {},
   "outputs": [
    {
     "ename": "TypeError",
     "evalue": "can only concatenate str (not \"int\") to str",
     "output_type": "error",
     "traceback": [
      "\u001b[0;31m---------------------------------------------------------------------------\u001b[0m",
      "\u001b[0;31mTypeError\u001b[0m                                 Traceback (most recent call last)",
      "\u001b[0;32m/var/folders/lc/k7jt3gx9283453ptp9t9ty5m0000gn/T/ipykernel_16119/3203378158.py\u001b[0m in \u001b[0;36m<module>\u001b[0;34m\u001b[0m\n\u001b[1;32m      1\u001b[0m \u001b[0mage\u001b[0m \u001b[0;34m=\u001b[0m \u001b[0;36m25\u001b[0m\u001b[0;34m\u001b[0m\u001b[0;34m\u001b[0m\u001b[0m\n\u001b[0;32m----> 2\u001b[0;31m \u001b[0mmessage\u001b[0m \u001b[0;34m=\u001b[0m \u001b[0;34m\"私は\"\u001b[0m \u001b[0;34m+\u001b[0m \u001b[0mage\u001b[0m \u001b[0;34m+\u001b[0m \u001b[0;34m\"歳です。\"\u001b[0m\u001b[0;34m\u001b[0m\u001b[0;34m\u001b[0m\u001b[0m\n\u001b[0m",
      "\u001b[0;31mTypeError\u001b[0m: can only concatenate str (not \"int\") to str"
     ]
    }
   ],
   "source": [
    "age = 25\n",
    "message = \"私は\" + age + \"歳です。\""
   ]
  },
  {
   "cell_type": "markdown",
   "id": "3b65ce0b",
   "metadata": {},
   "source": [
    "システム開発においても、計算しようとする変数のデータ型の考慮漏れによってよくエラーが発生します。\n",
    "この場合、`str()` を使って数値を文字列に変換すればOKです。"
   ]
  },
  {
   "cell_type": "code",
   "execution_count": 8,
   "id": "20bb80c8",
   "metadata": {},
   "outputs": [
    {
     "name": "stdout",
     "output_type": "stream",
     "text": [
      "私は25歳です。\n"
     ]
    }
   ],
   "source": [
    "message = \"私は\" + str(age) + \"歳です。\"\n",
    "print(message)"
   ]
  },
  {
   "cell_type": "markdown",
   "id": "5b5d8a89",
   "metadata": {},
   "source": [
    "文字列の繰り返し\n",
    "\n",
    "`*` 演算子を使うと、文字列を指定回数繰り返せます。"
   ]
  },
  {
   "cell_type": "code",
   "execution_count": 9,
   "id": "e43965ba",
   "metadata": {},
   "outputs": [
    {
     "name": "stdout",
     "output_type": "stream",
     "text": [
      "Hello Hello Hello \n"
     ]
    }
   ],
   "source": [
    "text = \"Hello \"\n",
    "result = text * 3\n",
    "print(result)"
   ]
  },
  {
   "cell_type": "markdown",
   "id": "b74b94f3",
   "metadata": {},
   "source": [
    "数値リテラルと文字列リテラルの違い\n",
    "数値リテラル（**int** や **float**）と文字列リテラル（**str**）は、見た目が似ていても動作が異なります。\n",
    "\n",
    "|リテラル|例|型|挙動|\n",
    "|:-:|-:|:-:|:-|\n",
    "| 数値リテラル   | `123`  | `int`       | `123 + 1 → 124` |\n",
    "| 数値リテラル   | `3.14` | `float`     | `3.14 * 2 → 6.28` |\n",
    "| 文字列リテラル | `\"123\"` | `str`       | `\"123\" + \"1\" → \"1231\"` |\n",
    "\n",
    "例えば、`\"123\"` は数値ではなく文字列なので、`+` を使うと足し算ではなく連結になります。"
   ]
  },
  {
   "cell_type": "code",
   "execution_count": 10,
   "id": "3453a105",
   "metadata": {},
   "outputs": [
    {
     "name": "stdout",
     "output_type": "stream",
     "text": [
      "1231\n"
     ]
    }
   ],
   "source": [
    "print(\"123\" + \"1\")"
   ]
  },
  {
   "cell_type": "markdown",
   "id": "0da7cd49",
   "metadata": {},
   "source": [
    "数値として計算するには `int()` を使って変換が必要です。"
   ]
  },
  {
   "cell_type": "code",
   "execution_count": 11,
   "id": "37b98f8d",
   "metadata": {},
   "outputs": [
    {
     "name": "stdout",
     "output_type": "stream",
     "text": [
      "124\n"
     ]
    }
   ],
   "source": [
    "print(int(\"123\") + 1)"
   ]
  },
  {
   "cell_type": "markdown",
   "id": "ee5603c6",
   "metadata": {},
   "source": [
    "このように、文字列の演算には `+`（連結）と `*`（繰り返し）が使えます。\n",
    "また、数値リテラルと文字列リテラルは見た目が似ていても動作が異なるので注意が必要です。"
   ]
  },
  {
   "cell_type": "markdown",
   "id": "19edb67f",
   "metadata": {},
   "source": [
    "### エスケープシーケンス\n",
    "\n",
    "エスケープシーケンスとは、文字列の中で特殊な意味を持つ記号を使うための方法です。  \n",
    "Pythonでは `\\`（バックスラッシュ）を使って、改行やタブ、特殊文字を表現できます。\n",
    "\n",
    "エスケープシーケンスの一覧\n",
    "\n",
    "以下は、Pythonでよく使われるエスケープシーケンスの一覧です。\n",
    "\n",
    "| エスケープシーケンス | 説明                | 例 |\n",
    "|:--:|:-|:-|\n",
    "| `\\n`            | 改行              | `\"Hello\\nWorld\"` → Hello（改行）World |\n",
    "| `\\t`            | タブ              | `\"Hello\\tWorld\"` → Hello    World |\n",
    "| `\\\\`            | バックスラッシュ  | `\"C:\\\\Program Files\\\\\"` → C:\\Program Files\\ |\n",
    "| `\\'`            | シングルクォート  | `'It\\'s OK'` → It's OK |\n",
    "| `\\\"`            | ダブルクォート    | `\"He said \\\"Hello\\\"\"` → He said \"Hello\" |\n",
    "\n"
   ]
  },
  {
   "cell_type": "markdown",
   "id": "03725b15",
   "metadata": {},
   "source": [
    "改行（`\\n`）\n",
    "\n",
    "文字列の途中で改行したい場合は `\\n` を使います。"
   ]
  },
  {
   "cell_type": "code",
   "execution_count": 12,
   "id": "b83a8688",
   "metadata": {},
   "outputs": [
    {
     "name": "stdout",
     "output_type": "stream",
     "text": [
      "こんにちは\n",
      "世界\n"
     ]
    }
   ],
   "source": [
    "text = \"こんにちは\\n世界\"\n",
    "print(text)"
   ]
  },
  {
   "cell_type": "markdown",
   "id": "e2f4e0fd",
   "metadata": {},
   "source": [
    "タブ（`\\t`）\n",
    "\n",
    "タブ（スペース4つ分または8つ分の空白）を入れたいときは `\\t` を使います。"
   ]
  },
  {
   "cell_type": "code",
   "execution_count": 13,
   "id": "e6d1f5bd",
   "metadata": {},
   "outputs": [
    {
     "name": "stdout",
     "output_type": "stream",
     "text": [
      "名前:\t田中\n",
      "年齢:\t25\n"
     ]
    }
   ],
   "source": [
    "text = \"名前:\\t田中\\n年齢:\\t25\"\n",
    "print(text)"
   ]
  },
  {
   "cell_type": "markdown",
   "id": "aabe328b",
   "metadata": {},
   "source": [
    "バックスラッシュ（`\\\\`）\n",
    "\n",
    "パスなどで `\\`（バックスラッシュ）を使いたい場合は `\\\\` と書きます。"
   ]
  },
  {
   "cell_type": "code",
   "execution_count": 14,
   "id": "97ff0411",
   "metadata": {},
   "outputs": [
    {
     "name": "stdout",
     "output_type": "stream",
     "text": [
      "C:\\Users\\User\\Documents\n"
     ]
    }
   ],
   "source": [
    "path = \"C:\\\\Users\\\\User\\\\Documents\"\n",
    "print(path)"
   ]
  },
  {
   "cell_type": "markdown",
   "id": "d450778a",
   "metadata": {},
   "source": [
    "クォートのエスケープ（`\\'` と `\\\"`）\n",
    "\n",
    "シングルクォート（`'`）やダブルクォート（`\"`）を文字列内に含めたい場合に使います。"
   ]
  },
  {
   "cell_type": "code",
   "execution_count": 15,
   "id": "f6985c91",
   "metadata": {},
   "outputs": [
    {
     "name": "stdout",
     "output_type": "stream",
     "text": [
      "It's a pen.\n",
      "He said \"Hello\"\n"
     ]
    }
   ],
   "source": [
    "text1 = 'It\\'s a pen.'\n",
    "text2 = \"He said \\\"Hello\\\"\"\n",
    "print(text1)\n",
    "print(text2)"
   ]
  },
  {
   "cell_type": "markdown",
   "id": "7d65370a",
   "metadata": {},
   "source": [
    "### ヒアドキュメント（複数行の文字列）\n",
    "\n",
    "Pythonでは、長い文字列を複数行にわたって記述したい場合、ヒアドキュメント（複数行文字列リテラル）を使用できます。  \n",
    "ヒアドキュメントとは、`\"\"\"`（ダブルクォート3つ）または `'''`（シングルクォート3つ）で囲んだ文字列のことです。\n",
    "\n",
    "ヒアドキュメントの基本\n",
    "\n",
    "通常、文字列は `\"` または `'` で囲みますが、1行が長くなると見づらくなります。  \n",
    "そのため、複数行の文字列を扱うときは `\"\"\"` または `'''` を使います。"
   ]
  },
  {
   "cell_type": "code",
   "execution_count": 16,
   "id": "6de5494b",
   "metadata": {},
   "outputs": [
    {
     "name": "stdout",
     "output_type": "stream",
     "text": [
      "これは\n",
      "複数行の\n",
      "文字列です。\n"
     ]
    }
   ],
   "source": [
    "text = \"\"\"これは\n",
    "複数行の\n",
    "文字列です。\"\"\"\n",
    "print(text)"
   ]
  },
  {
   "cell_type": "markdown",
   "id": "af4e54af",
   "metadata": {},
   "source": [
    "ヒアドキュメントの特徴\n",
    "\n",
    "- `\"\"\"`（ダブルクォート3つ）と `'''`（シングルクォート3つ）のどちらでもOK\n",
    "- `\\n` を使わなくても改行される\n",
    "- 変数への代入や関数の返り値として使える"
   ]
  },
  {
   "cell_type": "code",
   "execution_count": 17,
   "id": "d7b7dfcd",
   "metadata": {},
   "outputs": [
    {
     "name": "stdout",
     "output_type": "stream",
     "text": [
      "Pythonでは\n",
      "ヒアドキュメントを使うと\n",
      "長い文字列を簡単に扱えます。\n"
     ]
    }
   ],
   "source": [
    "message = '''Pythonでは\n",
    "ヒアドキュメントを使うと\n",
    "長い文字列を簡単に扱えます。'''\n",
    "print(message)"
   ]
  },
  {
   "cell_type": "markdown",
   "id": "fed16827",
   "metadata": {},
   "source": [
    "ヒアドキュメントのインデント調整\n",
    "\n",
    "関数やクラスの中でヒアドキュメントを使うと、インデントによって余計なスペースが入ることがあります。\n",
    "その場合、`textwrap.dedent()` を使うときれいに整形できます。"
   ]
  },
  {
   "cell_type": "code",
   "execution_count": 18,
   "id": "bdb4a697",
   "metadata": {},
   "outputs": [
    {
     "name": "stdout",
     "output_type": "stream",
     "text": [
      "これは\n",
      "インデント付きの\n",
      "ヒアドキュメントです。\n"
     ]
    }
   ],
   "source": [
    "import textwrap\n",
    "\n",
    "def get_message():\n",
    "    text = \"\"\"\\\n",
    "    これは\n",
    "    インデント付きの\n",
    "    ヒアドキュメントです。\"\"\"\n",
    "    return textwrap.dedent(text)\n",
    "\n",
    "print(get_message())"
   ]
  },
  {
   "cell_type": "markdown",
   "id": "5b2856f2",
   "metadata": {},
   "source": [
    "ヒアドキュメントをコメントとして使う\n",
    "\n",
    "`\"\"\"` や `'''` で囲まれた文字列は変数に代入しなければ無視されるため、コメントのように使うこともできます。"
   ]
  },
  {
   "cell_type": "code",
   "execution_count": 19,
   "id": "364a1225",
   "metadata": {},
   "outputs": [
    {
     "name": "stdout",
     "output_type": "stream",
     "text": [
      "関数が実行されました。\n"
     ]
    }
   ],
   "source": [
    "def sample_function():\n",
    "    \"\"\"\n",
    "    これは関数の説明です。\n",
    "    ここに関数の仕様や使い方を書きます。\n",
    "    \"\"\"\n",
    "    print(\"関数が実行されました。\")\n",
    "\n",
    "sample_function()"
   ]
  },
  {
   "cell_type": "markdown",
   "id": "9fb2a08e",
   "metadata": {},
   "source": [
    "このようなコメントは 「ドキュメンテーション文字列（**Docstring**）」 と呼ばれ、`help()` で確認できます。"
   ]
  },
  {
   "cell_type": "code",
   "execution_count": 20,
   "id": "2e61e509",
   "metadata": {},
   "outputs": [
    {
     "name": "stdout",
     "output_type": "stream",
     "text": [
      "Help on function sample_function in module __main__:\n",
      "\n",
      "sample_function()\n",
      "    これは関数の説明です。\n",
      "    ここに関数の仕様や使い方を書きます。\n",
      "\n"
     ]
    }
   ],
   "source": [
    "help(sample_function)"
   ]
  },
  {
   "cell_type": "markdown",
   "id": "72cd03d8",
   "metadata": {},
   "source": [
    "### 式と評価\n",
    "\n",
    "Pythonでは、**式（Expression）** は **オペランド（値）と演算子（`+`, `-`, `*`, `/` など）** で構成されます。  \n",
    "式が実行されると、演算子ごとに処理が行われ、最終的に1つの値に置き換えられます。この **計算の過程** を **評価（Evaluation）** と呼びます。\n",
    "\n",
    "例えば、以下の式を考えてみます。\n",
    "\n",
    "```python\n",
    "result = 10 + 5 * 2\n",
    "```\n",
    "\n",
    "この式の評価（計算の流れ）は、次のように進みます。\n",
    "\n",
    "| ステップ | 式の状態     | 説明                          |\n",
    "|:-|:-|:-|\n",
    "| 1       | `10 + 5 * 2` | 演算子の優先順位を確認する    |\n",
    "| 2       | `10 + 10`    | `5 * 2` を計算（乗算が優先） |\n",
    "| 3       | `20`         | `10 + 10` を計算（加算）    |\n",
    "\n",
    "Python は 演算子の優先順位 に従い、まず `*`（掛け算）を評価し、その結果を `+`（足し算）に適用します。\n",
    "\n",
    "より複雑な式を見てみましょう。\n",
    "\n",
    "```python\n",
    "x = 2\n",
    "y = 3\n",
    "result = (x + y) ** 2 / 2 - 4\n",
    "```\n",
    "\n",
    "この式の評価の流れは以下のようになります。\n",
    "\n",
    "| ステップ | 式の状態            | 説明                           |\n",
    "|:-|:-|:-|\n",
    "| 1       | `(2 + 3) ** 2 / 2 - 4` | `x` と `y` をそれぞれ `2`, `3` に置き換える |\n",
    "| 2       | `5 ** 2 / 2 - 4`       | `2 + 3 = 5` を計算 |\n",
    "| 3       | `25 / 2 - 4`           | `5 ** 2 = 25` を計算（べき乗） |\n",
    "| 4       | `12.5 - 4`             | `25 / 2 = 12.5` を計算（除算） |\n",
    "| 5       | `8.5`                  | `12.5 - 4 = 8.5` を計算（減算） |\n",
    "\n",
    "このように、優先順位の高い演算から順に評価 され、最終的に `8.5` という値が `result` に代入されます。\n",
    "\n",
    "Python では、式がどのように評価されるかを `print()` を使って確認できます。"
   ]
  },
  {
   "cell_type": "code",
   "execution_count": 21,
   "id": "87a51af5",
   "metadata": {},
   "outputs": [
    {
     "name": "stdout",
     "output_type": "stream",
     "text": [
      "Step 1: 5\n",
      "Step 2: 25\n",
      "Step 3: 12.5\n",
      "Step 4: 8.5\n"
     ]
    }
   ],
   "source": [
    "x = 2\n",
    "y = 3\n",
    "\n",
    "step1 = x + y\n",
    "print(\"Step 1:\", step1)\n",
    "\n",
    "step2 = step1 ** 2\n",
    "print(\"Step 2:\", step2)\n",
    "\n",
    "step3 = step2 / 2\n",
    "print(\"Step 3:\", step3)\n",
    "\n",
    "step4 = step3 - 4\n",
    "print(\"Step 4:\", step4)"
   ]
  },
  {
   "cell_type": "markdown",
   "id": "a7bc26cf",
   "metadata": {},
   "source": [
    "このように、演算の途中経過を表示することで、式の評価の流れを追う ことができます。\n",
    "\n",
    "まとめ\n",
    "- 式（Expression） はオペランド（値）と演算子（`+`, `-`, `*`, `/` など）で構成される。\n",
    "- 評価（Evaluation） とは、式が計算されて最終的な値に変わっていく過程のこと。\n",
    "- 演算の優先順位 に従って、高いものから順に評価 される。\n",
    "- `print()` を使うことで、評価の流れを確認 できる。\n",
    "\n",
    "この考え方を理解すると、プログラムがどのように実行されるのかが明確になり、バグを防ぐ助けにもなります！"
   ]
  },
  {
   "cell_type": "markdown",
   "id": "72d003cc",
   "metadata": {},
   "source": [
    "## 2. 変数\n",
    "\n",
    "キーワード：変数（**variable**）、代入する、参照する、定義する、代入演算子（**=**）、識別子（**identifier**）、予約後（**keyword**）、アッパーキャメルケース、ロワーキャメルケース、スネークケース、チェインケース、アンパック代入、複合代入演算子"
   ]
  },
  {
   "cell_type": "markdown",
   "id": "e07e256a",
   "metadata": {},
   "source": [
    "### 変数の利用\n",
    "\n",
    "プログラミングにおいて **変数（variable）** は、データを一時的に保存するための **識別子（identifier）** です。Python では、変数に値を 代入することで使用でき、その値を参照することができます。\n",
    "\n",
    "\n",
    "変数を定義する\n",
    "\n",
    "変数を使用するためには、まず定義する必要があります。Pythonでは、`=` を使って変数に値を代入します。この `=` は **代入演算子（assignment operator）** と呼ばれます。\n",
    "\n",
    "```python\n",
    "x = 10  # x に 10 を代入\n",
    "y = 20  # y に 20 を代入\n",
    "print(x)  # 変数 x を参照し、その値を出力（10）\n",
    "print(y)  # 変数 y を参照し、その値を出力（20）\n",
    "```"
   ]
  },
  {
   "cell_type": "markdown",
   "id": "24e448b3",
   "metadata": {},
   "source": [
    "### 変数名のルール\n",
    "\n",
    "変数名（識別子）は、自由に決められますが、以下のルールを守る必要があります。\n",
    "\n",
    "✅ 使用できる文字\n",
    "- 英字（a-z, A-Z）、数字（0-9）、アンダースコア（_）が使える。\n",
    "- 数字で始めることはできない（1var ❌）\n",
    "\n",
    "✅ Pythonの予約語（keyword）を使えない\n",
    "- if, for, while, def, class などの 予約語（keyword） は変数名にできない。\n",
    "\n",
    "✅ 変数名のケース（記法） 変数の命名方法として、次のスタイルがよく使われます。\n",
    "\n",
    "|スタイル名|例|説明|\n",
    "|:-|:-:|:-|\n",
    "| **スネークケース（snake_case）** | `my_variable` | Python では一般的 |\n",
    "| **キャメルケース（camelCase）** | `myVariable` | JavaScript などで使用される |\n",
    "| **アッパーキャメルケース（UpperCamelCase）** | `MyVariable` | クラス名によく使われる |\n",
    "| **チェインケース（chain-case）** | `my-variable` | Python の変数名では使えない |\n",
    "\n",
    "Pythonでは、一般的に スネークケース（snake_case） を使用するのが推奨されます。\n",
    "\n",
    "```python\n",
    "user_name = \"Alice\"  # スネークケース（推奨）\n",
    "userAge = 25         # ロワーキャメルケース（非推奨）\n",
    "UserAge = 25         # アッパーキャメルケース（クラス名向き）\n",
    "```\n",
    "\n",
    "Python の予約後は次のコードで出力することもできます。"
   ]
  },
  {
   "cell_type": "code",
   "execution_count": 22,
   "id": "07acc01b",
   "metadata": {},
   "outputs": [
    {
     "name": "stdout",
     "output_type": "stream",
     "text": [
      "['False', 'None', 'True', '__peg_parser__', 'and', 'as', 'assert', 'async', 'await', 'break', 'class', 'continue', 'def', 'del', 'elif', 'else', 'except', 'finally', 'for', 'from', 'global', 'if', 'import', 'in', 'is', 'lambda', 'nonlocal', 'not', 'or', 'pass', 'raise', 'return', 'try', 'while', 'with', 'yield']\n"
     ]
    }
   ],
   "source": [
    "import keyword\n",
    "print(keyword.kwlist)"
   ]
  },
  {
   "cell_type": "markdown",
   "id": "08ff50a3",
   "metadata": {},
   "source": [
    "### 変数の上書き\n",
    "\n",
    "変数に値を代入し、その後に参照することでプログラム内でデータを扱えます。\n",
    "\n",
    "```python\n",
    "name = \"Python\"\n",
    "print(name)  # 変数 name を参照し、出力（Python）\n",
    "```\n",
    "\n",
    "Python は **動的型付け言語** なので、異なる型の値を同じ変数に代入できます。"
   ]
  },
  {
   "cell_type": "code",
   "execution_count": 23,
   "id": "a052513a",
   "metadata": {},
   "outputs": [
    {
     "name": "stdout",
     "output_type": "stream",
     "text": [
      "10\n",
      "hello\n"
     ]
    }
   ],
   "source": [
    "num = 10\n",
    "print(num)\n",
    "\n",
    "num = \"hello\"\n",
    "print(num)"
   ]
  },
  {
   "cell_type": "markdown",
   "id": "37e934c3",
   "metadata": {},
   "source": [
    "### アンパック代入\n",
    "\n",
    "プログラムが複雑になっていきたくさんの変数を利用すると、それだけでコード量が多くなる場合があります。そんな時に複数の変数をいっぺんに代入する方法としてアンパック代入があります。"
   ]
  },
  {
   "cell_type": "code",
   "execution_count": 24,
   "id": "a6496a79",
   "metadata": {},
   "outputs": [
    {
     "name": "stdout",
     "output_type": "stream",
     "text": [
      "まさゆき\n",
      "32\n"
     ]
    }
   ],
   "source": [
    "name, age = 'まさゆき', 32\n",
    "print(name)\n",
    "print(age)"
   ]
  },
  {
   "cell_type": "markdown",
   "id": "0c3994b2",
   "metadata": {},
   "source": [
    "### 自分自身の変数に代入する\n",
    "\n",
    "Python では、変数に新しい値を代入すると、それまでの値は **上書き** されます。  \n",
    "この仕組みを利用して、**自分自身の変数を使って値を更新** することができます。\n",
    "\n",
    "例えば、カウンターを 1 ずつ増やす処理を考えてみましょう。\n",
    "\n",
    "```python\n",
    "count = 0  # 初期値を 0 に設定\n",
    "count = count + 1  # 自分自身の値に 1 を加える\n",
    "print(count)  # 1 が出力される\n",
    "```\n",
    "\n",
    "このコードでは、count = count + 1 という式が次のように評価されます。\n",
    "\n",
    "1. count の現在の値（0）を取得\n",
    "1. 0 + 1 を計算し、新しい値 1 を求める\n",
    "1. count に 1 を再代入（上書き）\n",
    "\n",
    "このように、変数の現在の値を使って、新しい値を計算し 再代入 することができます。"
   ]
  },
  {
   "cell_type": "markdown",
   "id": "eb0864ce",
   "metadata": {},
   "source": [
    "### 複合代入演算子\n",
    "\n",
    "上記のような 自分自身の変数に新しい値を代入する処理 は、複合代入演算子（**compound assignment operator**） を使うと より簡潔に記述 できます。\n",
    "\n",
    "例えば、次の 2 つのコードは同じ意味を持ちます。\n",
    "\n",
    "```python\n",
    "x = 5\n",
    "x = x + 3  # x に 3 を加算\n",
    "```\n",
    "\n",
    "```python\n",
    "x = 5\n",
    "x += 3  # x に 3 を加算（簡潔な書き方）\n",
    "```\n",
    "\n",
    "| 演算子  | 意味      | 例         | 同じ意味の通常の式 |\n",
    "|:-:|:-|:-|:-|\n",
    "| `+=`   | 加算    | `x += 2`  | `x = x + 2`     |\n",
    "| `-=`   | 減算    | `x -= 2`  | `x = x - 2`     |\n",
    "| `*=`   | 乗算    | `x *= 2`  | `x = x * 2`     |\n",
    "| `/=`   | 除算    | `x /= 2`  | `x = x / 2`     |\n",
    "| `//=`  | 整数除算 | `x //= 2` | `x = x // 2`    |\n",
    "| `%=`   | 剰余    | `x %= 2`  | `x = x % 2`     |\n",
    "| `**=`  | 累乗    | `x **= 2` | `x = x ** 2`    |\n"
   ]
  },
  {
   "cell_type": "code",
   "execution_count": 25,
   "id": "b1a9be3f",
   "metadata": {},
   "outputs": [
    {
     "name": "stdout",
     "output_type": "stream",
     "text": [
      "15\n",
      "30\n",
      "20\n"
     ]
    }
   ],
   "source": [
    "num = 10\n",
    "\n",
    "num += 5  # num = num + 5 と同じ\n",
    "print(num)\n",
    "\n",
    "num *= 2  # num = num * 2 と同じ\n",
    "print(num)\n",
    "\n",
    "num -= 10  # num = num - 10 と同じ\n",
    "print(num)"
   ]
  },
  {
   "cell_type": "markdown",
   "id": "7a986735",
   "metadata": {},
   "source": [
    "複合代入演算子を使うメリットとして、コードがシンプルになり、読みやすくなります。"
   ]
  },
  {
   "cell_type": "markdown",
   "id": "fd441ad5",
   "metadata": {},
   "source": [
    "### キーボード入力値の代入\n",
    "\n",
    "Python では、`input()` 関数を使ってキーボードから入力を受け取り、それを変数に代入できます。  \n",
    "この機能を利用すると、**ユーザーの入力をプログラム内で扱う** ことができます。\n",
    "\n",
    "\n",
    "キーボードから入力を受け取り、変数に代入する基本的なコードは次のようになります。"
   ]
  },
  {
   "cell_type": "code",
   "execution_count": 26,
   "id": "52ddfc69",
   "metadata": {},
   "outputs": [
    {
     "name": "stdout",
     "output_type": "stream",
     "text": [
      "あなたの名前を入力してください: まさゆき\n",
      "こんにちは、まさゆきさん！\n"
     ]
    }
   ],
   "source": [
    "name = input(\"あなたの名前を入力してください: \")\n",
    "print(\"こんにちは、\" + name + \"さん！\")"
   ]
  },
  {
   "cell_type": "markdown",
   "id": "e9469f7b",
   "metadata": {},
   "source": [
    "- input(\"メッセージ\") は、ユーザーにメッセージを表示し、入力を受け取る。\n",
    "- 入力された値は 文字列（str型） として変数 name に代入される。\n",
    "- print() を使って、入力された値を画面に表示できる。"
   ]
  },
  {
   "cell_type": "markdown",
   "id": "d43a694f",
   "metadata": {},
   "source": [
    "`input()` 関数で受け取った値は 常に文字列（`str`型） なので、数値として計算したい場合は 型変換（`キャスト`） が必要です。`int(input(...))` にすることで、入力された文字列を 整数（int型） に変換します。"
   ]
  },
  {
   "cell_type": "code",
   "execution_count": 27,
   "id": "63ff1c3e",
   "metadata": {},
   "outputs": [
    {
     "name": "stdout",
     "output_type": "stream",
     "text": [
      "あなたの年齢を入力してください: 32\n",
      "来年は 33 歳ですね！\n"
     ]
    }
   ],
   "source": [
    "age = int(input(\"あなたの年齢を入力してください: \"))\n",
    "print(\"来年は\", age + 1, \"歳ですね！\")"
   ]
  },
  {
   "cell_type": "markdown",
   "id": "e92785e2",
   "metadata": {},
   "source": [
    "`float(input(...))` にすることで、小数を含む 浮動小数点数（`float`型） に変換。"
   ]
  },
  {
   "cell_type": "code",
   "execution_count": 28,
   "id": "38f01a4e",
   "metadata": {},
   "outputs": [
    {
     "name": "stdout",
     "output_type": "stream",
     "text": [
      "あなたの身長を入力してください（cm）: 167.5\n",
      "あなたの身長は 167.5 cm ですね！\n"
     ]
    }
   ],
   "source": [
    "height = float(input(\"あなたの身長を入力してください（cm）: \"))\n",
    "print(\"あなたの身長は\", height, \"cm ですね！\")"
   ]
  },
  {
   "cell_type": "markdown",
   "id": "b7e87fbc",
   "metadata": {},
   "source": [
    "Python では `split()` を使うことで、スペース区切りの入力を 複数の変数に同時に代入 できます。`split()` を使うことで、ユーザーが **Alice Smith** のようにスペース区切りで入力した場合、`first_name` に **Alice**、`last_name` に **Smith** が代入される。"
   ]
  },
  {
   "cell_type": "code",
   "execution_count": 29,
   "id": "f50ff6a9",
   "metadata": {},
   "outputs": [
    {
     "name": "stdout",
     "output_type": "stream",
     "text": [
      "名前と名字をスペースで区切って入力してください: John Doe\n",
      "あなたの名前は John Doe ですね！\n"
     ]
    }
   ],
   "source": [
    "first_name, last_name = input(\"名前と名字をスペースで区切って入力してください: \").split()\n",
    "print(\"あなたの名前は\", first_name, last_name, \"ですね！\")"
   ]
  },
  {
   "cell_type": "markdown",
   "id": "a011f2a8",
   "metadata": {},
   "source": [
    "## 3. データ型\n",
    "\n",
    "### データ型とは\n",
    "Python では、データには **「型（データ型）」** という概念があり、値の種類によって分類されます。  \n",
    "データ型を正しく理解することで、適切な計算やデータの操作ができるようになります。\n",
    "\n",
    "\n",
    "Python にはさまざまなデータ型がありますが、基本的なものは次のとおりです。\n",
    "\n",
    "| データ型   | 説明                       | 例 |\n",
    "|-----------|:-|:-|\n",
    "| `int`     | **整数型**（小数なし）       | `10, -3, 1000` |\n",
    "| `float`   | **浮動小数点数型**（小数あり）| `3.14, -0.5, 2.0` |\n",
    "| `str`     | **文字列型**（テキスト）      | `\"Hello\", 'Python'` |\n",
    "| `bool`    | **真偽値型**（真 or 偽）     | `True, False` |\n",
    "| `list`    | **リスト型**（複数の値を格納） | `[1, 2, 3]` |\n",
    "| `tuple`   | **タプル型**（変更不可のリスト） | `(1, 2, 3)` |\n",
    "| `dict`    | **辞書型**（キーと値のペア） | `{\"name\": \"Alice\", \"age\": 25}` |\n",
    "\n",
    "Python では、**変数に値を代入すると、その値のデータ型が自動的に決まります**。"
   ]
  },
  {
   "cell_type": "code",
   "execution_count": 30,
   "id": "2581bb7b",
   "metadata": {},
   "outputs": [
    {
     "name": "stdout",
     "output_type": "stream",
     "text": [
      "<class 'int'>\n",
      "<class 'float'>\n",
      "<class 'str'>\n"
     ]
    }
   ],
   "source": [
    "x = 10      # 整数型 (int)\n",
    "y = 3.14    # 浮動小数点型 (float)\n",
    "name = \"Alice\"  # 文字列型 (str)\n",
    "\n",
    "print(type(x))\n",
    "print(type(y))\n",
    "print(type(name))"
   ]
  },
  {
   "cell_type": "markdown",
   "id": "549229c5",
   "metadata": {},
   "source": [
    "Python では、異なるデータ型を混ぜて計算しようとするとエラーが発生することがあります。"
   ]
  },
  {
   "cell_type": "code",
   "execution_count": 31,
   "id": "985df76f",
   "metadata": {},
   "outputs": [
    {
     "ename": "TypeError",
     "evalue": "can only concatenate str (not \"int\") to str",
     "output_type": "error",
     "traceback": [
      "\u001b[0;31m---------------------------------------------------------------------------\u001b[0m",
      "\u001b[0;31mTypeError\u001b[0m                                 Traceback (most recent call last)",
      "\u001b[0;32m/var/folders/lc/k7jt3gx9283453ptp9t9ty5m0000gn/T/ipykernel_16119/43467500.py\u001b[0m in \u001b[0;36m<module>\u001b[0;34m\u001b[0m\n\u001b[1;32m      1\u001b[0m \u001b[0mage\u001b[0m \u001b[0;34m=\u001b[0m \u001b[0;36m25\u001b[0m\u001b[0;34m\u001b[0m\u001b[0;34m\u001b[0m\u001b[0m\n\u001b[0;32m----> 2\u001b[0;31m \u001b[0mmessage\u001b[0m \u001b[0;34m=\u001b[0m \u001b[0;34m\"あなたの年齢は \"\u001b[0m \u001b[0;34m+\u001b[0m \u001b[0mage\u001b[0m \u001b[0;34m+\u001b[0m \u001b[0;34m\" 歳です。\"\u001b[0m\u001b[0;34m\u001b[0m\u001b[0;34m\u001b[0m\u001b[0m\n\u001b[0m",
      "\u001b[0;31mTypeError\u001b[0m: can only concatenate str (not \"int\") to str"
     ]
    }
   ],
   "source": [
    "age = 25\n",
    "message = \"あなたの年齢は \" + age + \" 歳です。\""
   ]
  },
  {
   "cell_type": "markdown",
   "id": "685b1937",
   "metadata": {},
   "source": [
    "これは、**age**（整数型 `int`）と **message**（文字列型 `str`）を直接結合できない ためです。\n",
    "このようなエラーを防ぐには、データ型を適切に変換（**キャスト**） する必要があります。"
   ]
  },
  {
   "cell_type": "markdown",
   "id": "aa963094",
   "metadata": {},
   "source": [
    "### データ型の変換\n",
    "\n",
    "プログラムを作成する際、異なるデータ型を適切に扱うことが重要です。  \n",
    "Python では、**データ型を変換（キャスト）** することで、型の違いによるエラーを防ぎ、適切な処理を行うことができます。\n",
    "\n",
    "\n",
    "**暗黙的な型変換（自動変換）**\n",
    "\n",
    "Python では、**異なるデータ型が混在する演算を行うと、自動的に型変換が行われることがあります。**  \n",
    "このことを **暗黙的な型変換（implicit type conversion）** といいます。"
   ]
  },
  {
   "cell_type": "code",
   "execution_count": 32,
   "id": "da1ad570",
   "metadata": {},
   "outputs": [
    {
     "name": "stdout",
     "output_type": "stream",
     "text": [
      "12.5\n",
      "<class 'float'>\n"
     ]
    }
   ],
   "source": [
    "x = 10  # int型\n",
    "y = 2.5 # float型\n",
    "\n",
    "result = x + y  # int + float\n",
    "print(result)\n",
    "print(type(result))"
   ]
  },
  {
   "cell_type": "markdown",
   "id": "bc7a7741",
   "metadata": {},
   "source": [
    "整数（int）と小数（float）の計算結果は、自動的に float に変換されます。\n",
    "\n"
   ]
  },
  {
   "cell_type": "markdown",
   "id": "35bda2c8",
   "metadata": {},
   "source": [
    "**明示的な型変換（キャスト）**\n",
    "\n",
    "異なるデータ型を手動で変換することを「**明示的な型変換（explicit type conversion）**」または「**キャスト**」と呼びます。\n",
    "Python では、以下の関数を使ってデータ型を変換できます。\n",
    "\n",
    "|変換関数|説明|\n",
    "|:-:|:-|\n",
    "|int(x)| `x` を整数型（`int`）に変換|\n",
    "|float(x)| `x` を浮動小数点型（`float`）に変換|\n",
    "|str(x)| `x` を文字列型（`str`）に変換|"
   ]
  },
  {
   "cell_type": "code",
   "execution_count": 33,
   "id": "b6fecf9e",
   "metadata": {},
   "outputs": [
    {
     "name": "stdout",
     "output_type": "stream",
     "text": [
      "あなたの年齢は 25 歳です。\n"
     ]
    }
   ],
   "source": [
    "age = 25\n",
    "message = \"あなたの年齢は \" + str(age) + \" 歳です。\"\n",
    "print(message)"
   ]
  },
  {
   "cell_type": "markdown",
   "id": "2eabf181",
   "metadata": {},
   "source": [
    "- **age** は `int` 型なので、直接 `str` 型の文字列と結合するとエラーになります。\n",
    "- `str(age)` を使って **age** を `str` 型に変換することで、文字列の結合が可能になります。"
   ]
  },
  {
   "cell_type": "code",
   "execution_count": 34,
   "id": "79ab70a1",
   "metadata": {},
   "outputs": [
    {
     "name": "stdout",
     "output_type": "stream",
     "text": [
      "150\n"
     ]
    }
   ],
   "source": [
    "price = \"100\"\n",
    "total = int(price) + 50  # 文字列 \"100\" を整数 100 に変換\n",
    "print(total)"
   ]
  },
  {
   "cell_type": "markdown",
   "id": "caf34df5",
   "metadata": {},
   "source": [
    "**price** は文字列型（`str`）だが、数値として計算するために `int(price)` を使って `int` に変換。"
   ]
  },
  {
   "cell_type": "code",
   "execution_count": 35,
   "id": "d9bba827",
   "metadata": {},
   "outputs": [
    {
     "name": "stdout",
     "output_type": "stream",
     "text": [
      "3\n"
     ]
    }
   ],
   "source": [
    "x = 3.14\n",
    "y = int(x)  # 小数点以下を切り捨て\n",
    "print(y)"
   ]
  },
  {
   "cell_type": "markdown",
   "id": "08e5cb9d",
   "metadata": {},
   "source": [
    "`int()` を使うと、小数点以下を切り捨てた整数 になる。"
   ]
  },
  {
   "cell_type": "markdown",
   "id": "babbe5f1",
   "metadata": {},
   "source": [
    "**型変換の注意点**\n",
    "\n",
    "文字列を数値に変換するとき、数値以外の文字が含まれているとエラーになる ので注意。"
   ]
  },
  {
   "cell_type": "code",
   "execution_count": 36,
   "id": "e8b7b880",
   "metadata": {},
   "outputs": [
    {
     "ename": "ValueError",
     "evalue": "invalid literal for int() with base 10: '100円'",
     "output_type": "error",
     "traceback": [
      "\u001b[0;31m---------------------------------------------------------------------------\u001b[0m",
      "\u001b[0;31mValueError\u001b[0m                                Traceback (most recent call last)",
      "\u001b[0;32m/var/folders/lc/k7jt3gx9283453ptp9t9ty5m0000gn/T/ipykernel_16119/2455516455.py\u001b[0m in \u001b[0;36m<module>\u001b[0;34m\u001b[0m\n\u001b[1;32m      1\u001b[0m \u001b[0mvalue\u001b[0m \u001b[0;34m=\u001b[0m \u001b[0;34m\"100円\"\u001b[0m\u001b[0;34m\u001b[0m\u001b[0;34m\u001b[0m\u001b[0m\n\u001b[0;32m----> 2\u001b[0;31m \u001b[0mnum\u001b[0m \u001b[0;34m=\u001b[0m \u001b[0mint\u001b[0m\u001b[0;34m(\u001b[0m\u001b[0mvalue\u001b[0m\u001b[0;34m)\u001b[0m\u001b[0;34m\u001b[0m\u001b[0;34m\u001b[0m\u001b[0m\n\u001b[0m",
      "\u001b[0;31mValueError\u001b[0m: invalid literal for int() with base 10: '100円'"
     ]
    }
   ],
   "source": [
    "value = \"100円\"\n",
    "num = int(value)"
   ]
  },
  {
   "cell_type": "markdown",
   "id": "23b889f5",
   "metadata": {},
   "source": [
    "このような場合は、`replace()` などを使って不要な文字を削除する必要があります。"
   ]
  },
  {
   "cell_type": "code",
   "execution_count": 37,
   "id": "179bca1e",
   "metadata": {},
   "outputs": [
    {
     "name": "stdout",
     "output_type": "stream",
     "text": [
      "100\n"
     ]
    }
   ],
   "source": [
    "value = \"100円\"\n",
    "num = int(value.replace(\"円\", \"\"))  # \"100\" に変換してから数値に変換\n",
    "print(num)"
   ]
  },
  {
   "cell_type": "markdown",
   "id": "77161f58",
   "metadata": {},
   "source": [
    "### 文字列の中に数値を埋め込む方法\n",
    "\n",
    "文字列と数値を合わせて出力する方法として、`str()`を使ってデータ型を変換して、文字列として`+`結合する方法を学びました。\n",
    "\n",
    "```python\n",
    "age = 25\n",
    "message = \"あなたの年齢は \" + str(age) + \" 歳です。\"\n",
    "print(message)\n",
    "```\n",
    "\n",
    "この方法はシンプルですが、変数が多くなると可読性が悪くなります。Python ではその他にも`format()`を使うことで、より柔軟にも文字列を作成できます。"
   ]
  },
  {
   "cell_type": "code",
   "execution_count": 38,
   "id": "52ed39c4",
   "metadata": {},
   "outputs": [
    {
     "name": "stdout",
     "output_type": "stream",
     "text": [
      "私の名前は 太郎 です。年齢は 25 歳です。\n"
     ]
    }
   ],
   "source": [
    "name = \"太郎\"\n",
    "age = 25\n",
    "message = \"私の名前は {} です。年齢は {} 歳です。\".format(name, age)\n",
    "print(message)"
   ]
  },
  {
   "cell_type": "markdown",
   "id": "3d8c4bfa",
   "metadata": {},
   "source": [
    "`{}` の部分に `.format()` の引数が順番に埋め込まれます、位置を指定することも可能です。"
   ]
  },
  {
   "cell_type": "code",
   "execution_count": 39,
   "id": "b9186fe8",
   "metadata": {},
   "outputs": [
    {
     "name": "stdout",
     "output_type": "stream",
     "text": [
      "年齢は 25 歳です。名前は 太郎 です。\n"
     ]
    }
   ],
   "source": [
    "message = \"年齢は {1} 歳です。名前は {0} です。\".format(name, age)\n",
    "print(message)"
   ]
  },
  {
   "cell_type": "markdown",
   "id": "96fea3a4",
   "metadata": {},
   "source": [
    "出力する際に数値のフォーマットを指定することも可能です。"
   ]
  },
  {
   "cell_type": "code",
   "execution_count": 40,
   "id": "b06faaa9",
   "metadata": {},
   "outputs": [
    {
     "name": "stdout",
     "output_type": "stream",
     "text": [
      "円周率は 3.14 です。\n"
     ]
    }
   ],
   "source": [
    "pi = 3.1415926535\n",
    "print(\"円周率は {:.2f} です。\".format(pi))"
   ]
  },
  {
   "cell_type": "markdown",
   "id": "2ad0b6bf",
   "metadata": {},
   "source": [
    "### f-string\n",
    "\n",
    "Python 3.6 以降で導入された **f-string（フォーマット済み文字列）** は、変数の値を文字列に埋め込むための最も簡潔で可読性の高い方法です。\n",
    "\n",
    "f-string を使うと、**変数を `{}` の中にそのまま埋め込むことができます。**  \n",
    "文字列の前に **`f` を付ける** ことで、フォーマット済み文字列として扱われます。"
   ]
  },
  {
   "cell_type": "code",
   "execution_count": 41,
   "id": "02288d41",
   "metadata": {},
   "outputs": [
    {
     "name": "stdout",
     "output_type": "stream",
     "text": [
      "私の名前は 太郎 です。年齢は 25 歳です。\n"
     ]
    }
   ],
   "source": [
    "name = \"太郎\"\n",
    "age = 25\n",
    "message = f\"私の名前は {name} です。年齢は {age} 歳です。\"\n",
    "print(message)"
   ]
  },
  {
   "cell_type": "markdown",
   "id": "e9c83912",
   "metadata": {},
   "source": [
    "`f\"...\"` の中で `{}` を使うことで、変数の値がそのまま文字列に埋め込まれます。`format()` よりもシンプルで、コードが読みやすくなります。\n",
    "\n",
    "f-string は、数値のフォーマット（小数点以下の桁数、桁区切りなど）を簡単に指定できます。\n",
    "\n",
    "`{pi:.2f}` → 小数点以下 2桁 に丸める。"
   ]
  },
  {
   "cell_type": "code",
   "execution_count": 42,
   "id": "9d530bee",
   "metadata": {},
   "outputs": [
    {
     "name": "stdout",
     "output_type": "stream",
     "text": [
      "円周率は 3.14 です。\n"
     ]
    }
   ],
   "source": [
    "pi = 3.1415926535\n",
    "print(f\"円周率は {pi:.2f} です。\")  # 小数点以下2桁"
   ]
  },
  {
   "cell_type": "markdown",
   "id": "9dcea28b",
   "metadata": {},
   "source": [
    "`{price:,}` → 3桁ごとにカンマ（`,`）を追加。"
   ]
  },
  {
   "cell_type": "code",
   "execution_count": 43,
   "id": "beae4825",
   "metadata": {},
   "outputs": [
    {
     "name": "stdout",
     "output_type": "stream",
     "text": [
      "金額は 123,456,789 円です。\n"
     ]
    }
   ],
   "source": [
    "price = 123456789\n",
    "print(f\"金額は {price:,} 円です。\")"
   ]
  },
  {
   "cell_type": "markdown",
   "id": "83706e04",
   "metadata": {},
   "source": [
    "**f-string** の `{}` の中では、計算式を直接記述することも可能 です。"
   ]
  },
  {
   "cell_type": "code",
   "execution_count": 44,
   "id": "73017a92",
   "metadata": {},
   "outputs": [
    {
     "name": "stdout",
     "output_type": "stream",
     "text": [
      "5 + 3 = 8\n"
     ]
    }
   ],
   "source": [
    "a = 5\n",
    "b = 3\n",
    "print(f\"{a} + {b} = {a + b}\")"
   ]
  },
  {
   "cell_type": "markdown",
   "id": "3bd2a520",
   "metadata": {},
   "source": [
    "**f-string** 内で 関数の戻り値 を埋め込むこともできます。"
   ]
  },
  {
   "cell_type": "code",
   "execution_count": 45,
   "id": "28fac09b",
   "metadata": {},
   "outputs": [
    {
     "name": "stdout",
     "output_type": "stream",
     "text": [
      "こんにちは、花子 さん！\n"
     ]
    }
   ],
   "source": [
    "def get_name():\n",
    "    return \"花子\"\n",
    "\n",
    "print(f\"こんにちは、{get_name()} さん！\")"
   ]
  },
  {
   "cell_type": "markdown",
   "id": "263b9f49",
   "metadata": {},
   "source": [
    "辞書やリストの値も、`{}` の中で参照できます。"
   ]
  },
  {
   "cell_type": "code",
   "execution_count": 46,
   "id": "8a83ef78",
   "metadata": {},
   "outputs": [
    {
     "name": "stdout",
     "output_type": "stream",
     "text": [
      "名前: 太郎, 年齢: 25 歳\n"
     ]
    }
   ],
   "source": [
    "person = {\"name\": \"太郎\", \"age\": 25}\n",
    "print(f\"名前: {person['name']}, 年齢: {person['age']} 歳\")"
   ]
  },
  {
   "cell_type": "markdown",
   "id": "ede8b6d2",
   "metadata": {},
   "source": [
    "ゼロ埋め（`0` を前につける）も簡単にできます。"
   ]
  },
  {
   "cell_type": "code",
   "execution_count": 47,
   "id": "8aaa76f9",
   "metadata": {},
   "outputs": [
    {
     "name": "stdout",
     "output_type": "stream",
     "text": [
      "番号は 007 です。\n"
     ]
    }
   ],
   "source": [
    "number = 7\n",
    "print(f\"番号は {number:03} です。\")"
   ]
  },
  {
   "cell_type": "markdown",
   "id": "6f8e83d1",
   "metadata": {},
   "source": [
    "**f-string のメリット**\n",
    "\n",
    "| **メリット**                 | **説明** |\n",
    "|:-|:-|\n",
    "| **シンプルで直感的**       | `{}` 内に変数を書くことで、すぐに埋め込める。 |\n",
    "| **コードの可読性が高い**   | `format()` よりも短くて見やすい。 |\n",
    "| **計算や関数の戻り値を埋め込める** | `{a + b}` や `{get_name()}` など、直接記述が可能。 |\n",
    "| **書式指定が簡単**         | `{:.2f}` で小数点以下の桁数を調整、`{:,}` でカンマ区切りなどができる。 |\n",
    "\n",
    "Python 3.6 以降では **f-string** が最も簡単で推奨される方法 です！\n",
    "従来の `format()` に比べて、短く・分かりやすく・柔軟に 記述できます。\n",
    "\n",
    "次のステップでは、**f-string** を活用してより高度なフォーマットを実践してみましょう！"
   ]
  },
  {
   "cell_type": "markdown",
   "id": "b87abcdb",
   "metadata": {},
   "source": [
    "## まとめ\n",
    "\n",
    "**1. 式と演算**\n",
    "\n",
    "- **数値の演算**: `+`, `-`, `*`, `/`, `//`, `%`, `**` などの算術演算子を使って計算ができる。\n",
    "- **文字列の演算**: `+` で連結、`*` で繰り返しが可能。\n",
    "- **エスケープシーケンス**: `\\n`（改行）, `\\t`（タブ）など、特殊な文字を表現できる。\n",
    "- **ヒアドキュメント**: `\"\"\"` や `'''` を使って複数行の文字列を扱う。\n",
    "- **式と評価**: 演算の優先順位に従い、演算子が順に評価されて最終的な結果を得る。\n",
    "\n",
    "---\n",
    "\n",
    "**2. 変数**\n",
    "\n",
    "- **変数の利用**: `変数名 = 値` の形で変数を定義し、値を代入できる。\n",
    "- **変数名のルール**: アルファベット、数字、アンダースコア `_` を使用し、予約語は使用不可。\n",
    "- **変数の上書き**: 同じ変数名に新しい値を代入すると、元の値は上書きされる。\n",
    "- **アンパック代入**: `a, b = 10, 20` のように複数の変数に一度に値を代入できる。\n",
    "- **自分自身への代入**: `x = x + 1` のように、変数の値を更新できる。\n",
    "- **複合代入演算子**: `+=`, `-=`, `*=`, `/=`, `//=`, `%=`, `**=` などで簡潔に計算と代入を同時に行える。\n",
    "- **キーボード入力値の代入**: `input()` を使ってユーザーからの入力を受け取り、変数に代入できる。\n",
    "\n",
    "---\n",
    "\n",
    "**3. データ型**\n",
    "\n",
    "- **データ型とは**: `int`（整数）, `float`（浮動小数点数）, `str`（文字列）, `bool`（真偽値）などがある。\n",
    "- **データ型の変換**: `int()`, `float()`, `str()` を使って型を変換できる。\n",
    "- **文字列の中に数値を埋め込む**: `format()` や `f-string` を使って変数の値を文字列に組み込める。\n",
    "- **f-string**: `f\"{変数}\"` の形式で簡潔に文字列フォーマットができる。\n",
    "\n",
    "---\n",
    "\n",
    "Chapter 1 では、Python の基本的な **計算・変数・データ型** の基礎を学びました。  \n",
    "次の章では、条件分岐やループについて学び、より実用的なプログラムを作成していきましょう！\n"
   ]
  }
 ],
 "metadata": {
  "kernelspec": {
   "display_name": "Python 3 (ipykernel)",
   "language": "python",
   "name": "python3"
  },
  "language_info": {
   "codemirror_mode": {
    "name": "ipython",
    "version": 3
   },
   "file_extension": ".py",
   "mimetype": "text/x-python",
   "name": "python",
   "nbconvert_exporter": "python",
   "pygments_lexer": "ipython3",
   "version": "3.9.13"
  }
 },
 "nbformat": 4,
 "nbformat_minor": 5
}
