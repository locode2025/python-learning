{
 "cells": [
  {
   "cell_type": "markdown",
   "id": "3b628114",
   "metadata": {},
   "source": [
    "# Chapter 3 条件分岐\n",
    "\n",
    "1. プログラムの流れ\n",
    "    1. 文と制御構造\n",
    "1. 条件分岐の基本構造\n",
    "    1. if文\n",
    "    1. ブロックとインデント\n",
    "1. 条件式\n",
    "    1. 比較演算子\n",
    "    1. in 演算子\n",
    "    1. 真偽値\n",
    "    1. 論理演算子\n",
    "1. 分岐構文のバリエーション\n",
    "    1. 3種類のif文\n",
    "    1. if-else \n",
    "    1. ifのみの構文\n",
    "    1. if-elif 構文\n",
    "    1. ifのネスト"
   ]
  },
  {
   "cell_type": "markdown",
   "id": "cd6a9f31",
   "metadata": {},
   "source": [
    "## キーワード\n",
    "\n",
    "文（statement）、順次、分岐、繰り返し（ループ）、構造化定理、フローチャート、ブロック、インデント、比較演算子、関係演算子、\n"
   ]
  },
  {
   "cell_type": "markdown",
   "id": "7d2b57bc",
   "metadata": {},
   "source": [
    "## プログラムの流れ\n",
    "\n",
    "プログラムは基本的に上から順番に実行されますが、「制御構造」と呼ばれる仕組みを使うことで、実行の流れを変えることができます。これにより、より柔軟で賢いプログラムを作成できます。\n",
    "\n",
    "### 文と制御構造\n",
    "\n",
    "Pythonのプログラムは「文（**statement**）」の集合です。文は通常、上から順に1つずつ実行されます。しかし、以下のような「**制御構造**」を用いることで、実行の流れを変えることができます。\n",
    "\n",
    "- 順次実行: 通常の処理。上から下へ順番にコードが実行される。\n",
    "- 分岐（条件分岐）: 条件に応じて異なる処理を行う（例：**if文**）。\n",
    "- 繰り返し（ループ）: 同じ処理を繰り返す（例：**for文**、**while文**）。\n",
    "\n",
    "if文を使って「ある条件を満たすときだけ処理を行う」といったことが可能になります。\n",
    "\n",
    "__構造化定理__\n",
    "\n",
    "順次・分岐・繰り返しの3つの制御構造を組み合わせれば、どんなに複雑なプログラムでも、理論上作成可能でであること。"
   ]
  },
  {
   "cell_type": "markdown",
   "id": "09202a33",
   "metadata": {},
   "source": [
    "## 条件分岐の基本構造\n",
    "\n",
    "### if文\n",
    "\n",
    "__if文の基本構造__\n",
    "\n",
    "Pythonの `if` 文は、次のような構造になっています。\n",
    "\n",
    "```python\n",
    "if 条件式:\n",
    "    条件がTrueのときに実行する処理\n",
    "```\n",
    "\n",
    "- `if` の後に「条件式」を書きます。この条件が True（**真**） の場合、続く処理が実行されます。\n",
    "- 条件が False（**偽**） の場合、`if` 文の中の処理は スキップ されます。\n",
    "- `if` 文の後には コロン（`:`） を付ける必要があります。\n",
    "\n",
    "----\n",
    "\n",
    "__if文の基本的な例__\n",
    "\n",
    "例えば、ユーザーが入力した数が10以上なら「10以上です」と表示するプログラムを考えてみます。"
   ]
  },
  {
   "cell_type": "code",
   "execution_count": 1,
   "id": "c45dec1b",
   "metadata": {},
   "outputs": [
    {
     "name": "stdout",
     "output_type": "stream",
     "text": [
      "数値を入力してください: 15\n",
      "10以上です\n"
     ]
    }
   ],
   "source": [
    "number = int(input(\"数値を入力してください: \"))\n",
    "\n",
    "if number >= 10:\n",
    "    print(\"10以上です\")"
   ]
  },
  {
   "cell_type": "markdown",
   "id": "7aa32813",
   "metadata": {},
   "source": [
    "__条件を満たさない場合__\n",
    "\n",
    "上記のプログラムでは、もし `number` が10未満だった場合は、何も表示されません。\n",
    "\n",
    "例（入力が5の場合）\n",
    "\n",
    "```python\n",
    "数値を入力してください: 5\n",
    "（何も表示されない）\n",
    "```\n",
    "\n",
    "これは、`if` 文の条件 `number >= 10` が `False` になったため、`print(\"10以上です\")` の処理が実行されなかったからです。"
   ]
  },
  {
   "cell_type": "markdown",
   "id": "5bf02e7b",
   "metadata": {},
   "source": [
    "### ブロックとインデント\n",
    "\n",
    "Pythonでは、条件分岐やループの処理をまとめるときに 「**ブロック**」 という概念を使います。ブロックを区別するためには 「**インデント（字下げ）**」 を正しく使う必要があります。\n",
    "\n",
    "----\n",
    "\n",
    "__ブロックとは？__\n",
    "\n",
    "ブロックとは、 ある処理をまとめてひとつのグループにすること です。\n",
    "Pythonでは、`if` 文やループなどの制御構造の後に続く処理を **ブロック** として記述します。\n",
    "\n",
    "----\n",
    "\n",
    "__Pythonのインデント__\n",
    "\n",
    "Pythonでは、 ブロックの始まりをインデント（字下げ）で表現 します。\n",
    "\n",
    "```python\n",
    "if 条件式:\n",
    "    条件がTrueのときに実行する処理1\n",
    "    条件がTrueのときに実行する処理2\n",
    "```\n",
    "\n",
    "- `if` 文の 次の行から、半角スペース4つ分（またはTabキー1回）の インデント をつけて処理を記述** します。\n",
    "- インデントがあることで、`if` 文の条件が `True` のときに実行されるブロックであることがわかります。\n",
    "\n",
    "----\n",
    "\n",
    "__正しいインデントの例__\n",
    "\n",
    "以下のコードでは、`if` 文の条件が `True` のときに、2つの `print` 文が実行されます。"
   ]
  },
  {
   "cell_type": "code",
   "execution_count": 2,
   "id": "156fc7ad",
   "metadata": {},
   "outputs": [
    {
     "name": "stdout",
     "output_type": "stream",
     "text": [
      "合格です\n",
      "おめでとうございます！\n"
     ]
    }
   ],
   "source": [
    "score = 85\n",
    "\n",
    "if score >= 80:\n",
    "    print(\"合格です\")\n",
    "    print(\"おめでとうございます！\")"
   ]
  },
  {
   "cell_type": "markdown",
   "id": "b79d443a",
   "metadata": {},
   "source": [
    "__間違ったインデントの例（エラー）__\n",
    "\n",
    "Pythonでは、インデントを間違えると エラー になります。"
   ]
  },
  {
   "cell_type": "code",
   "execution_count": 3,
   "id": "9225d8e5",
   "metadata": {},
   "outputs": [
    {
     "ename": "IndentationError",
     "evalue": "expected an indented block (3720484765.py, line 4)",
     "output_type": "error",
     "traceback": [
      "\u001b[0;36m  File \u001b[0;32m\"/var/folders/lc/k7jt3gx9283453ptp9t9ty5m0000gn/T/ipykernel_29797/3720484765.py\"\u001b[0;36m, line \u001b[0;32m4\u001b[0m\n\u001b[0;31m    print(\"合格です\")  # ← インデントなし（エラー）\u001b[0m\n\u001b[0m    ^\u001b[0m\n\u001b[0;31mIndentationError\u001b[0m\u001b[0;31m:\u001b[0m expected an indented block\n"
     ]
    }
   ],
   "source": [
    "score = 85\n",
    "\n",
    "if score >= 80:\n",
    "print(\"合格です\")  # ← インデントなし（エラー）\n",
    "print(\"おめでとうございます！\")  # ← これもエラー"
   ]
  },
  {
   "cell_type": "markdown",
   "id": "0812d7c4",
   "metadata": {},
   "source": [
    "## 条件式\n",
    "\n",
    "条件分岐を使うためには、「**条件式**」を理解することが重要です。\n",
    "条件式は、 ある条件が「**真（True）**」か「**偽（False）**」かを判定するための式 です。\n",
    "\n",
    "### 比較演算子\n",
    "\n",
    "Pythonでは、数値や文字列を比較するときに「比較演算子」を使います。\n",
    "\n",
    "| **演算子** | **意味** | **例** (`a = 10, b = 20`) | **結果** |\n",
    "|:-:|:-:|:-:|:-:|\n",
    "| `==` | 等しい | `a == b` | `False` |\n",
    "| `!=` | 等しくない | `a != b` | `True` |\n",
    "| `<` | より小さい | `a < b` | `True` |\n",
    "| `>` | より大きい | `a > b` | `False` |\n",
    "| `<=` | 以下 | `a <= b` | `True` |\n",
    "| `>=` | 以上 | `a >= b` | `False` |\n",
    "\n",
    "----\n",
    "\n",
    "例：`and`の例"
   ]
  },
  {
   "cell_type": "code",
   "execution_count": 4,
   "id": "1e5d0805",
   "metadata": {},
   "outputs": [
    {
     "name": "stdout",
     "output_type": "stream",
     "text": [
      "合格です！\n"
     ]
    }
   ],
   "source": [
    "score = 85\n",
    "attendance = 90\n",
    "\n",
    "if score >= 80 and attendance >= 80:\n",
    "    print(\"合格です！\")"
   ]
  },
  {
   "cell_type": "markdown",
   "id": "095e5d0f",
   "metadata": {},
   "source": [
    "### `in` 演算子\n",
    "\n",
    "`in` 演算子は、リストや文字列、タプル、セット、辞書 などの中に 特定の値が含まれているかどうか を判定するときに使います。\n",
    "また、`not in` を使うと、値が含まれていないかどうか を判定できます。\n",
    "\n",
    "__`in` 演算子の基本__\n",
    "\n",
    "`in` を使うと、ある値がリストや文字列の中にあるかを確認できます。\n",
    "\n",
    "文字列の中での使用"
   ]
  },
  {
   "cell_type": "code",
   "execution_count": 5,
   "id": "a332fc18",
   "metadata": {},
   "outputs": [
    {
     "name": "stdout",
     "output_type": "stream",
     "text": [
      "h は含まれています！\n"
     ]
    }
   ],
   "source": [
    "word = \"hello\"\n",
    "\n",
    "if \"h\" in word:\n",
    "    print(\"h は含まれています！\")"
   ]
  },
  {
   "cell_type": "markdown",
   "id": "4ac6bf92",
   "metadata": {},
   "source": [
    "リストの中での利用"
   ]
  },
  {
   "cell_type": "code",
   "execution_count": 6,
   "id": "412cc4c2",
   "metadata": {},
   "outputs": [
    {
     "name": "stdout",
     "output_type": "stream",
     "text": [
      "バナナがあります！\n"
     ]
    }
   ],
   "source": [
    "fruits = [\"apple\", \"banana\", \"cherry\"]\n",
    "\n",
    "if \"banana\" in fruits:\n",
    "    print(\"バナナがあります！\")"
   ]
  },
  {
   "cell_type": "markdown",
   "id": "f2b0b66e",
   "metadata": {},
   "source": [
    "__辞書の中での使用__\n",
    "\n",
    "辞書に対して `in` を使うと、キーが存在するかどうか を判定できます。"
   ]
  },
  {
   "cell_type": "code",
   "execution_count": 7,
   "id": "822618cf",
   "metadata": {},
   "outputs": [
    {
     "name": "stdout",
     "output_type": "stream",
     "text": [
      "Alice のスコアがあります！\n"
     ]
    }
   ],
   "source": [
    "scores = {\"Alice\": 85, \"Bob\": 90, \"Charlie\": 78}\n",
    "\n",
    "if \"Alice\" in scores:\n",
    "    print(\"Alice のスコアがあります！\")"
   ]
  },
  {
   "cell_type": "markdown",
   "id": "72c828a5",
   "metadata": {},
   "source": [
    "値（`85` など）を検索する場合は、`values()` を使います。"
   ]
  },
  {
   "cell_type": "code",
   "execution_count": 8,
   "id": "e02c6eb8",
   "metadata": {},
   "outputs": [
    {
     "name": "stdout",
     "output_type": "stream",
     "text": [
      "スコア90が存在します！\n"
     ]
    }
   ],
   "source": [
    "if 90 in scores.values():\n",
    "    print(\"スコア90が存在します！\")"
   ]
  },
  {
   "cell_type": "markdown",
   "id": "487133a7",
   "metadata": {},
   "source": [
    "__not in 演算子__\n",
    "\n",
    "`not in` を使うと、値が含まれていない場合の判定 ができます。\n",
    "\n",
    "例：リストの中に値がない場合"
   ]
  },
  {
   "cell_type": "code",
   "execution_count": 9,
   "id": "e9ed71e8",
   "metadata": {},
   "outputs": [
    {
     "name": "stdout",
     "output_type": "stream",
     "text": [
      "グレープはありません！\n"
     ]
    }
   ],
   "source": [
    "fruits = [\"apple\", \"banana\", \"cherry\"]\n",
    "\n",
    "if \"grape\" not in fruits:\n",
    "    print(\"グレープはありません！\")"
   ]
  },
  {
   "cell_type": "markdown",
   "id": "313e376e",
   "metadata": {},
   "source": [
    "### 真偽値\n",
    "\n",
    "プログラムでは、「ある条件が真か偽か」を判断して処理を分岐させることがよくあります。\n",
    "この「真（True）か偽（False）か」を表すデータ型を 「**真偽値（Boolean型）**」 といいます。\n",
    "\n",
    "----\n",
    "\n",
    "__真偽値とは？__\n",
    "\n",
    "Python では、真偽値は以下の2つの値をとります：\n",
    "\n",
    "- `True`（真）\n",
    "- `False`（偽）\n",
    "\n",
    "Python では、大文字の `True` と `False` をそのまま使います。"
   ]
  },
  {
   "cell_type": "code",
   "execution_count": 10,
   "id": "8c230bb9",
   "metadata": {},
   "outputs": [
    {
     "name": "stdout",
     "output_type": "stream",
     "text": [
      "True\n",
      "False\n"
     ]
    }
   ],
   "source": [
    "x = True\n",
    "y = False\n",
    "\n",
    "print(x)\n",
    "print(y)"
   ]
  },
  {
   "cell_type": "markdown",
   "id": "a22ccf8b",
   "metadata": {},
   "source": [
    "__比較演算の結果としての真偽値__\n",
    "\n",
    "比較演算子（`==`, `!=`, `>`, `<`, `>=`, `<=` など）を使うと、結果として `True` か `False` が返されます。"
   ]
  },
  {
   "cell_type": "code",
   "execution_count": 11,
   "id": "7d5593a0",
   "metadata": {},
   "outputs": [
    {
     "name": "stdout",
     "output_type": "stream",
     "text": [
      "True\n",
      "False\n",
      "True\n",
      "False\n"
     ]
    }
   ],
   "source": [
    "print(5 > 3)\n",
    "print(5 < 3)\n",
    "print(10 == 10)\n",
    "print(10 != 10)"
   ]
  },
  {
   "cell_type": "markdown",
   "id": "982e1de7",
   "metadata": {},
   "source": [
    "例：条件分岐での利用"
   ]
  },
  {
   "cell_type": "code",
   "execution_count": 12,
   "id": "02848557",
   "metadata": {},
   "outputs": [
    {
     "name": "stdout",
     "output_type": "stream",
     "text": [
      "成人です\n"
     ]
    }
   ],
   "source": [
    "age = 18\n",
    "\n",
    "if age >= 18:\n",
    "    print(\"成人です\")\n",
    "else:\n",
    "    print(\"未成年です\")"
   ]
  },
  {
   "cell_type": "markdown",
   "id": "ecfd4a5a",
   "metadata": {},
   "source": [
    "### Pythonにおける「偽」と判定される値\n",
    "\n",
    "Pythonでは、以下の値は `False`（偽）と判定されます。\n",
    "\n",
    "| **データ型** | **偽と判定される値** |\n",
    "|:-:|:-:|\n",
    "| **数値型** | `0` |\n",
    "| **文字列型** | `\"\"`（空文字） |\n",
    "| **リスト型** | `[]`（空リスト） |\n",
    "| **タプル型** | `()`（空タプル） |\n",
    "| **セット型** | `set()`（空セット） |\n",
    "| **辞書型** | `{}`（空辞書） |\n",
    "| **特殊値** | `None` |\n",
    "\n",
    "上記以外の値は `True`（真）と判定されます。\n",
    "\n",
    "----\n",
    "\n",
    "例：条件分岐での判定"
   ]
  },
  {
   "cell_type": "code",
   "execution_count": 13,
   "id": "1458c03e",
   "metadata": {},
   "outputs": [
    {
     "name": "stdout",
     "output_type": "stream",
     "text": [
      "データが空です\n"
     ]
    }
   ],
   "source": [
    "data = []\n",
    "\n",
    "if data:\n",
    "    print(\"データがあります\")\n",
    "else:\n",
    "    print(\"データが空です\")"
   ]
  },
  {
   "cell_type": "markdown",
   "id": "08a6e008",
   "metadata": {},
   "source": [
    "__`bool()` を使った真偽値の確認__\n",
    "\n",
    "`bool()` 関数を使うと、任意の値が `True` か `False` かを調べることができます。"
   ]
  },
  {
   "cell_type": "code",
   "execution_count": 15,
   "id": "02933776",
   "metadata": {},
   "outputs": [
    {
     "name": "stdout",
     "output_type": "stream",
     "text": [
      "True\n",
      "False\n",
      "True\n",
      "False\n",
      "False\n",
      "True\n"
     ]
    }
   ],
   "source": [
    "print(bool(100))\n",
    "print(bool(0))\n",
    "print(bool(\"Hello\"))\n",
    "print(bool(\"\"))\n",
    "print(bool([]))\n",
    "print(bool([1, 2, 3]))"
   ]
  },
  {
   "cell_type": "markdown",
   "id": "50ba1931",
   "metadata": {},
   "source": [
    "__真偽値を使った実践例__\n",
    "\n",
    "例：パスワードの入力チェック"
   ]
  },
  {
   "cell_type": "code",
   "execution_count": 17,
   "id": "c443f46d",
   "metadata": {},
   "outputs": [
    {
     "name": "stdout",
     "output_type": "stream",
     "text": [
      "パスワードを入力してください: \n",
      "パスワードが入力されていません\n"
     ]
    }
   ],
   "source": [
    "password = input(\"パスワードを入力してください: \")\n",
    "\n",
    "if password:\n",
    "    print(\"パスワードが設定されました\")\n",
    "else:\n",
    "    print(\"パスワードが入力されていません\")"
   ]
  },
  {
   "cell_type": "markdown",
   "id": "e851208f",
   "metadata": {},
   "source": [
    "### 論理演算子\n",
    "\n",
    "論理演算子は、複数の条件式を組み合わせて、一つの条件式として評価するための演算子です。Pythonでは、主に次の3つの論理演算子が使われます。\n",
    "\n",
    "- and（かつ）\n",
    "- or（または）\n",
    "- not（否定）\n",
    "\n",
    "__`and`__\n",
    "\n",
    "`and` 演算子は、左側と右側の条件が両方ともTrue（真）である場合にのみ、全体がTrueになります。"
   ]
  },
  {
   "cell_type": "code",
   "execution_count": 18,
   "id": "979f24d6",
   "metadata": {},
   "outputs": [
    {
     "name": "stdout",
     "output_type": "stream",
     "text": [
      "xもyも正の数です\n"
     ]
    }
   ],
   "source": [
    "x = 5\n",
    "y = 10\n",
    "\n",
    "if x > 0 and y > 0:\n",
    "    print(\"xもyも正の数です\")"
   ]
  },
  {
   "cell_type": "markdown",
   "id": "4e5f737e",
   "metadata": {},
   "source": [
    "__`or`__\n",
    "\n",
    "`or` 演算子は、左側または右側の条件が少なくとも一方がTrueであれば、全体がTrueになります。"
   ]
  },
  {
   "cell_type": "code",
   "execution_count": 19,
   "id": "50147e30",
   "metadata": {},
   "outputs": [
    {
     "name": "stdout",
     "output_type": "stream",
     "text": [
      "xまたはyのいずれかが正の数です\n"
     ]
    }
   ],
   "source": [
    "x = 5\n",
    "y = -10\n",
    "\n",
    "if x > 0 or y > 0:\n",
    "    print(\"xまたはyのいずれかが正の数です\")"
   ]
  },
  {
   "cell_type": "markdown",
   "id": "3b6243a0",
   "metadata": {},
   "source": [
    "__`not`__\n",
    "\n",
    "`not` 演算子は、条件式の結果を反転させます。TrueがFalseになり、FalseがTrueになります。"
   ]
  },
  {
   "cell_type": "code",
   "execution_count": 20,
   "id": "f9ceb59e",
   "metadata": {},
   "outputs": [
    {
     "name": "stdout",
     "output_type": "stream",
     "text": [
      "xは負の数ではありません\n"
     ]
    }
   ],
   "source": [
    "x = 5\n",
    "\n",
    "if not x < 0:\n",
    "    print(\"xは負の数ではありません\")"
   ]
  },
  {
   "cell_type": "markdown",
   "id": "28a0ccf9",
   "metadata": {},
   "source": [
    "これらの論理演算子を使うことで、複雑な条件分岐を簡潔に表現できます。例えば、次のように複数の条件を組み合わせて使うこともできます。次の例では、`x > 0 and y > 0` がTrueであり、`z > 0` はFalseですが、`or` 演算子により条件全体がTrueとなります。"
   ]
  },
  {
   "cell_type": "code",
   "execution_count": 22,
   "id": "b06d575f",
   "metadata": {},
   "outputs": [
    {
     "name": "stdout",
     "output_type": "stream",
     "text": [
      "条件を満たしました\n"
     ]
    }
   ],
   "source": [
    "x = 5\n",
    "y = 10\n",
    "z = -3\n",
    "\n",
    "if x > 0 and y > 0 or z > 0:\n",
    "    print(\"条件を満たしました\")"
   ]
  },
  {
   "cell_type": "markdown",
   "id": "a3fcf867",
   "metadata": {},
   "source": [
    "## 分岐構文のバリエーション\n",
    "\n",
    "\n",
    "### 3種類のif文\n",
    "\n",
    "Pythonの`if`文にはいくつかの書き方がありますが、主に3つのパターンを覚えておくと便利です。\n",
    "\n",
    "- if-else構文\n",
    "- ifのみの構文\n",
    "- if-elif構文\n",
    "\n",
    "__1. if-else 構文__\n",
    "\n",
    "**if-else構文**は、条件がTrueの場合とFalseの場合の両方を処理する基本的な条件分岐です。\n",
    "\n",
    "構文：\n",
    "\n",
    "```python\n",
    "if 条件:\n",
    "    # 条件がTrueの時に実行される処理\n",
    "else:\n",
    "    # 条件がFalseの時に実行される処理\n",
    "```\n",
    "\n",
    "次の例では、`x > 0` がTrueなので、「xは正の数です」と表示されます。"
   ]
  },
  {
   "cell_type": "code",
   "execution_count": 23,
   "id": "d75e6924",
   "metadata": {},
   "outputs": [
    {
     "name": "stdout",
     "output_type": "stream",
     "text": [
      "xは正の数です\n"
     ]
    }
   ],
   "source": [
    "x = 10\n",
    "\n",
    "if x > 0:\n",
    "    print(\"xは正の数です\")\n",
    "else:\n",
    "    print(\"xは負の数またはゼロです\")"
   ]
  },
  {
   "cell_type": "markdown",
   "id": "76bd3dd1",
   "metadata": {},
   "source": [
    "__ifのみの構文__\n",
    "\n",
    "`if`のみを使って、条件がTrueの場合にのみ処理を実行するパターンです。条件がFalseの場合、何も実行されません。\n",
    "\n",
    "構文:\n",
    "\n",
    "```python\n",
    "if 条件:\n",
    "    # 条件がTrueの時に実行される処理\n",
    "```\n",
    "\n",
    "次の例では、`x > 0` がTrueなので、「xは正の数です」と表示されます。条件がFalseの場合は何も表示されません。"
   ]
  },
  {
   "cell_type": "code",
   "execution_count": 24,
   "id": "56610b91",
   "metadata": {},
   "outputs": [
    {
     "name": "stdout",
     "output_type": "stream",
     "text": [
      "xは正の数です\n"
     ]
    }
   ],
   "source": [
    "x = 10\n",
    "\n",
    "if x > 0:\n",
    "    print(\"xは正の数です\")"
   ]
  },
  {
   "cell_type": "markdown",
   "id": "5b112e17",
   "metadata": {},
   "source": [
    "__3. if-elif 構文__\n",
    "\n",
    "**if-elif構文**は、複数の条件をチェックするために使います。最初の条件がFalseだった場合に、次の条件を評価します。elseを使うと、どの条件にも当てはまらない場合の処理を記述できます。\n",
    "\n",
    "構文:\n",
    "\n",
    "```python\n",
    "if 条件1:\n",
    "    # 条件1がTrueの時に実行される処理\n",
    "elif 条件2:\n",
    "    # 条件2がTrueの時に実行される処理\n",
    "else:\n",
    "    # 条件1も条件2もFalseの時に実行される処理\n",
    "```\n",
    "\n",
    "次の例では、`x == 0` がTrueなので、「xはゼロです」と表示されます。もし`x`が負の数だった場合、`else`が実行されます。"
   ]
  },
  {
   "cell_type": "code",
   "execution_count": 25,
   "id": "1021d65c",
   "metadata": {},
   "outputs": [
    {
     "name": "stdout",
     "output_type": "stream",
     "text": [
      "xはゼロです\n"
     ]
    }
   ],
   "source": [
    "x = 0\n",
    "\n",
    "if x > 0:\n",
    "    print(\"xは正の数です\")\n",
    "elif x == 0:\n",
    "    print(\"xはゼロです\")\n",
    "else:\n",
    "    print(\"xは負の数です\")"
   ]
  },
  {
   "cell_type": "markdown",
   "id": "7bd52632",
   "metadata": {},
   "source": [
    "### ifのネスト（入れ子）\n",
    "\n",
    "複数の条件を組み合わせて処理したい場合、`if`文を入れ子にすることができます。これにより、複雑な条件を階層的に処理することが可能です。\n",
    "\n",
    "構文:\n",
    "\n",
    "```python\n",
    "if 条件1:\n",
    "    if 条件2:\n",
    "        # 条件1と条件2が両方ともTrueの時に実行される処理\n",
    "    else:\n",
    "        # 条件1がTrueで条件2がFalseの時に実行される処理\n",
    "else:\n",
    "    # 条件1がFalseの時に実行される処理\n",
    "```\n",
    "\n",
    "次の例では、`x > 0` がTrueで、その中で`y > 0`もTrueなので、「xもyも正の数です」と表示されます。"
   ]
  },
  {
   "cell_type": "code",
   "execution_count": 26,
   "id": "914ec0d3",
   "metadata": {},
   "outputs": [
    {
     "name": "stdout",
     "output_type": "stream",
     "text": [
      "xもyも正の数です\n"
     ]
    }
   ],
   "source": [
    "x = 10\n",
    "y = 20\n",
    "\n",
    "if x > 0:\n",
    "    if y > 0:\n",
    "        print(\"xもyも正の数です\")\n",
    "    else:\n",
    "        print(\"xは正の数だけど、yは負の数です\")\n",
    "else:\n",
    "    print(\"xは負の数です\")"
   ]
  },
  {
   "cell_type": "markdown",
   "id": "b383d65a",
   "metadata": {},
   "source": [
    "これらの構文バリエーションを使いこなすことで、Pythonでの条件分岐がより柔軟で強力に扱えるようになります。複雑なプログラムでも、条件を整理して読みやすく記述することが可能です。"
   ]
  },
  {
   "cell_type": "markdown",
   "id": "f69429e9",
   "metadata": {},
   "source": [
    "## まとめ\n",
    "\n",
    "この章では、Pythonの条件分岐について解説しました。\n",
    "\n",
    "### プログラムの流れ\n",
    "\n",
    "プログラムは「文」と「制御構造」で構成され、制御構造によりプログラムの実行順序を変更します。\n",
    "\n",
    "### 条件分岐の基本構造\n",
    "\n",
    "`if`文を使って、条件に応じた処理を実行する方法を学びます。ブロックとインデントが重要です。\n",
    "\n",
    "### 条件式\n",
    "\n",
    "条件式では、比較演算子、`in`演算子、真偽値を使って条件を評価します。また、論理演算子（`and`, `or`, `not`）を使って、複数の条件を組み合わせる方法を学びます。\n",
    "\n",
    "### 分岐構文のバリエーション\n",
    "\n",
    "さまざまな`if`文の使い方として、**if-else構文**、ifのみ、**if-elif構文**、ifのネストなどを紹介します。これにより、複雑な条件分岐をシンプルに記述できるようになります。\n",
    "\n",
    "これらを組み合わせることで、条件に応じた柔軟で読みやすいプログラムが書けるようになります。"
   ]
  },
  {
   "cell_type": "markdown",
   "id": "49e1b813",
   "metadata": {},
   "source": [
    "### 演習問題\n",
    "\n",
    "#### 基本的なif文の使い方\n",
    "\n",
    "xが0より大きい場合に「xは正の数です」と表示するプログラムを作成してください。xが0以下の場合は何も表示しないようにしてください。\n",
    "\n",
    "#### if-else文を使ってみよう\n",
    "\n",
    "ageが18以上の場合は「成人です」と表示し、18未満の場合は「未成年です」と表示するプログラムを作成してください。\n",
    "\n",
    "#### 論理演算子の使用\n",
    "\n",
    "xとyが両方とも正の数の場合に「xとyは正の数です」と表示し、どちらか一方が負の数の場合は「xかyのいずれかが負の数です」と表示するプログラムを作成してください。論理演算子andを使って条件を組み合わせてください。\n",
    "\n",
    "#### elif構文の活用\n",
    "\n",
    "temperatureが30以上の場合は「暑いです」、20以上30未満の場合は「快適です」、それ以外の場合は「寒いです」と表示するプログラムを作成してください。if-elif-else構文を使ってください。\n",
    "\n",
    "#### ifのネストを使った問題\n",
    "\n",
    "xが正の数の場合、さらにyが正の数であれば「xもyも正の数です」、そうでない場合は「xは正の数ですがyは正の数ではありません」と表示するプログラムを作成してください。if文をネストして使ってください。"
   ]
  }
 ],
 "metadata": {
  "kernelspec": {
   "display_name": "Python 3 (ipykernel)",
   "language": "python",
   "name": "python3"
  },
  "language_info": {
   "codemirror_mode": {
    "name": "ipython",
    "version": 3
   },
   "file_extension": ".py",
   "mimetype": "text/x-python",
   "name": "python",
   "nbconvert_exporter": "python",
   "pygments_lexer": "ipython3",
   "version": "3.9.13"
  }
 },
 "nbformat": 4,
 "nbformat_minor": 5
}
