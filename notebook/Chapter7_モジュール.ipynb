{
 "cells": [
  {
   "cell_type": "markdown",
   "id": "aff9b299-c399-4d80-9b5b-964d2f250710",
   "metadata": {},
   "source": [
    "# Chaprter7 モジュール\n",
    "\n",
    "1. 部品を使おう\n",
    "    1. Pythonで使える部品たち\n",
    "2. 組み込み関数\n",
    "    1. 組み込み関数とは\n",
    "    1. ファイル入出力\n",
    "3. モジュールの利用\n",
    "    1. モジュールとは\n",
    "    1. 標準ライブラリ\n",
    "    1. モジュールの取り込み\n",
    "    1. 特定の変数や関数だけを取り込む\n",
    "    1. ワイルドカードインポート\n",
    "    1. モジュールの取り込みまとめ\n",
    "4. パッケージの利用\n",
    "    1. パッケージとは\n",
    "    1. パッケージ内のモジュールを取り込む\n",
    "5. 外部ライブラリの利用\n",
    "    1. 外部ライブラリとは\n",
    "    1. 外部ライブラリの標準\n",
    "    1. matplotlib\n",
    "    1. requests"
   ]
  },
  {
   "cell_type": "markdown",
   "id": "36c6603b-3013-476e-8f15-8f0ddbdd0409",
   "metadata": {},
   "source": [
    "## 部品を使おう\n",
    "\n",
    "### Pythonで使える部品たち\n",
    "\n",
    "プログラムを書くときには、基本的な変数や関数だけでなく、さまざまな便利な「部品」を活用できます。Pythonには、標準で提供されている「組み込み関数」や「標準ライブラリ」、自作や他者が作成した「モジュール」や「パッケージ」、そしてインターネット上で配布されている「外部ライブラリ」など、多くの部品が用意されています。これらを活用することで、より効率的にプログラムを作成できます。\n",
    "\n",
    "ここでは、それぞれの部品について簡単に紹介します。\n",
    "\n",
    "---\n",
    "\n",
    "__1. 組み込み関数（Built-in Functions）__\n",
    "\n",
    "Pythonには、最初から使える便利な関数が多く用意されています。例えば：\n",
    "- `print()` : 画面に出力する\n",
    "- `len()` : 要素の数を取得する\n",
    "- `int()` / float() : 数値の型変換\n",
    "- `str()` : 文字列の型変換\n",
    "\n",
    "これらの関数は、特別な準備をしなくてもすぐに利用できます。\n",
    "\n",
    "---\n",
    "\n",
    "__2. モジュール（Module）__\n",
    "\n",
    "Pythonでは、便利な機能が「モジュール」としてまとめられています。例えば：\n",
    "- `math` : 数学関数（平方根や三角関数など）\n",
    "- `random` : 乱数を扱う\n",
    "- `datetime` : 日付や時間を扱う\n",
    "\n",
    "これらのモジュールを利用するには、`import` 文を使います。\n",
    "\n",
    "```python\n",
    "import math\n",
    "print(math.sqrt(16))  # 4.0\n",
    "```\n",
    "\n",
    "---\n",
    "\n",
    "__3. パッケージ（Package）__\n",
    "\n",
    "モジュールをさらに整理してまとめたものが「パッケージ」です。例えば `numpy` や `pandas` などのライブラリは、複数のモジュールから構成されています。\n",
    "\n",
    "```python\n",
    "import numpy as np\n",
    "print(np.array([1, 2, 3]))\n",
    "```\n",
    "\n",
    "---\n",
    "\n",
    "__4. 外部ライブラリ（External Libraries）__\n",
    "\n",
    "Pythonでは、世界中の開発者が作成した便利なライブラリをインストールして使うことができます。例えば：\n",
    "- `matplotlib` : グラフ描画\n",
    "- `requests` : Web API との通信\n",
    "- `pandas` : データ解析\n",
    "\n",
    "外部ライブラリを使うには、`pip` を利用してインストールします。\n",
    "\n",
    "```python\n",
    "pip install requests\n",
    "```\n",
    "\n",
    "このように、Pythonには便利な「部品」が豊富に用意されています。次の章では、それぞれの部品について詳しく学んでいきましょう。"
   ]
  },
  {
   "cell_type": "markdown",
   "id": "a6ff43b5-bb94-497b-9860-551b287083d9",
   "metadata": {},
   "source": [
    "## 組み込み関数\n",
    "\n",
    "### 組み込み関数とは\n",
    "\n",
    "Python には、あらかじめ用意されている「組み込み関数（Built-in Functions）」が多数あります。これらの関数は、特別な準備をしなくても、Python をインストールした時点でそのまま使うことができます。\n",
    "\n",
    "例えば、次のような機能を提供する組み込み関数があります：\n",
    "- データの出力: `print()`\n",
    "- データの型変換: `int()`, `float()`, `str()`\n",
    "- リストや文字列の長さ取得: `len()`\n",
    "- 数値の計算: `abs()`, `sum()`, `min()`, `max()`\n",
    "- データの並び替え: `sorted()`, `reversed()`\n",
    "- 要素の取得: `enumerate()`, `zip()`\n",
    "- 関数を適用する: `map()`, `filter()`\n",
    "\n",
    "組み込み関数を使うことで、プログラムを短くシンプルに書くことができ、より効率的なコーディングが可能になります。\n",
    "\n",
    "---\n",
    "\n",
    "__例：基本的な組み込み関数の使用__\n",
    "\n",
    "以下のコードでは、いくつかの組み込み関数を試してみます。"
   ]
  },
  {
   "cell_type": "code",
   "execution_count": 1,
   "id": "eed773af-244c-469b-be0d-7c9cb5039ca6",
   "metadata": {},
   "outputs": [
    {
     "name": "stdout",
     "output_type": "stream",
     "text": [
      "Hello, Python!\n"
     ]
    }
   ],
   "source": [
    "# 文字列を画面に出力\n",
    "print(\"Hello, Python!\")"
   ]
  },
  {
   "cell_type": "code",
   "execution_count": 2,
   "id": "d86e21c4-e7f5-42ed-b36a-b5cc1283d3b4",
   "metadata": {},
   "outputs": [
    {
     "name": "stdout",
     "output_type": "stream",
     "text": [
      "123\n"
     ]
    }
   ],
   "source": [
    "# 数値の型変換\n",
    "num_str = \"123\"\n",
    "num_int = int(num_str)\n",
    "print(num_int)"
   ]
  },
  {
   "cell_type": "code",
   "execution_count": 3,
   "id": "310ed88f-1866-44d7-8ed6-5653c89da848",
   "metadata": {},
   "outputs": [
    {
     "name": "stdout",
     "output_type": "stream",
     "text": [
      "3\n"
     ]
    }
   ],
   "source": [
    "# リストの要素数を取得\n",
    "fruits = [\"apple\", \"banana\", \"cherry\"]\n",
    "print(len(fruits))"
   ]
  },
  {
   "cell_type": "code",
   "execution_count": 4,
   "id": "ff5a5336-be7a-41ca-882f-22d294e849d7",
   "metadata": {},
   "outputs": [
    {
     "name": "stdout",
     "output_type": "stream",
     "text": [
      "5\n",
      "40\n"
     ]
    }
   ],
   "source": [
    "# 最小値・最大値を求める\n",
    "numbers = [10, 20, 5, 40]\n",
    "print(min(numbers))\n",
    "print(max(numbers))"
   ]
  },
  {
   "cell_type": "markdown",
   "id": "f522b92d-7bba-4015-9913-d02fa7d25015",
   "metadata": {},
   "source": [
    "__なぜ組み込み関数を使うのか？__\n",
    "\n",
    "組み込み関数を使うことで、次のようなメリットがあります。\n",
    "1. コードが簡潔になる\n",
    "    - 例えば、`sum(numbers)` を使えば、ループを使わずにリストの合計が求められます。\n",
    "1. パフォーマンスが向上する\n",
    "    - 組み込み関数は Python の内部で最適化されており、自作の関数より高速に動作することが多いです。\n",
    "1. 可読性が向上する\n",
    "    - `sorted(numbers)` のように、わかりやすい関数名がついているため、コードの意図が伝わりやすくなります。"
   ]
  },
  {
   "cell_type": "markdown",
   "id": "77b7a5b2-8290-4dbb-9df7-f1d260175219",
   "metadata": {},
   "source": [
    "### ファイル入出力\n",
    "\n",
    "Python では、`open()` 関数を使ってファイルを開き、データを読み書きすることができます。ファイルを扱う際は、正しく開閉することが重要です。ここでは、標準入力から受け取ったテキストをファイルに保存するプログラムを、段階的に説明します。\n",
    "\n",
    "---\n",
    "\n",
    "__1. `open()` と `close()` を使った基本的なファイル書き込み__\n",
    "\n",
    "まずは、`open()` と `close()` を使って、標準入力から受け取ったテキストをファイルに保存する方法を見てみましょう。"
   ]
  },
  {
   "cell_type": "code",
   "execution_count": 8,
   "id": "606f2440-ae64-4983-9bd6-3051ba2d688d",
   "metadata": {},
   "outputs": [
    {
     "name": "stdin",
     "output_type": "stream",
     "text": [
      "保存するテキストを入力してください:  好きなテレビ番組はありますか\n"
     ]
    },
    {
     "name": "stdout",
     "output_type": "stream",
     "text": [
      "テキストを output.txt に保存しました。\n"
     ]
    }
   ],
   "source": [
    "file = open(\"output.txt\", \"a\")  # \"a\" は追記モード\n",
    "text = input(\"保存するテキストを入力してください: \")\n",
    "file.write(text + '\\n')\n",
    "file.close()\n",
    "print(\"テキストを output.txt に保存しました。\")"
   ]
  },
  {
   "cell_type": "code",
   "execution_count": 9,
   "id": "ba2bbc8b-9b7c-42a1-b2a0-e60d160a91d6",
   "metadata": {},
   "outputs": [
    {
     "name": "stdin",
     "output_type": "stream",
     "text": [
      "保存するテキストを入力してください:  ネットテレビをよく見ます\n"
     ]
    },
    {
     "name": "stdout",
     "output_type": "stream",
     "text": [
      "テキストを output.txt に保存しました。\n"
     ]
    }
   ],
   "source": [
    "#2回目\n",
    "\n",
    "file = open(\"output.txt\", \"a\")\n",
    "text = input(\"保存するテキストを入力してください: \")\n",
    "file.write(text + '\\n')\n",
    "file.close()\n",
    "print(\"テキストを output.txt に保存しました。\")"
   ]
  },
  {
   "cell_type": "markdown",
   "id": "b3ccbc0f-5a77-4dcc-a39a-083565cc7fa4",
   "metadata": {},
   "source": [
    "ポイント\n",
    "- `open(\"output.txt\", \"a\")` でファイルを開く。\n",
    "    - `\"a\"` は「追記モード（add）」を意味します。既存のファイルがある場合は上書きされます。\n",
    "- `file.write(text)` でテキストを書き込む。\n",
    "- `file.close()` でファイルを閉じる。\n",
    "    - ファイルを閉じないと、データが正しく保存されなかったり、メモリを無駄に消費したりする可能性があります。\n",
    " \n",
    "---\n",
    "\n",
    "__2. with 文を使ってファイルを開く__\n",
    "\n",
    "ファイルを開いたら必ず `close()` しなければなりませんが、もし `close()` を忘れると、データが保存されないことがあります。\n",
    "そこで、`with` 文を使うと、自動的に `close()` してくれるので便利です。"
   ]
  },
  {
   "cell_type": "code",
   "execution_count": 10,
   "id": "87c5645d-785c-461e-a917-1633a5e08eb7",
   "metadata": {},
   "outputs": [
    {
     "name": "stdin",
     "output_type": "stream",
     "text": [
      "保存するテキストを入力してください:  タイムリープしている\n"
     ]
    },
    {
     "name": "stdout",
     "output_type": "stream",
     "text": [
      "テキストを output.txt に保存しました。\n"
     ]
    }
   ],
   "source": [
    "with open(\"output.txt\", \"a\") as file:\n",
    "    text = input(\"保存するテキストを入力してください: \")\n",
    "    file.write(text + '\\n')\n",
    "\n",
    "print(\"テキストを output.txt に保存しました。\")"
   ]
  },
  {
   "cell_type": "markdown",
   "id": "7cb30aa8-b7b4-4619-9d23-bf82f5ff04cd",
   "metadata": {},
   "source": [
    "`with` 文を使うメリット\n",
    "- `with` ブロックを抜けると、自動的に `close()` される。\n",
    "- `close()` の書き忘れを防げる。\n",
    "- エラーが発生した場合でも、ファイルが適切に閉じられる。"
   ]
  },
  {
   "cell_type": "markdown",
   "id": "eb48b074-eacc-425c-9401-06f1ef6460e1",
   "metadata": {},
   "source": [
    "## モジュールの利用\n",
    "\n",
    "### モジュールとは\n",
    "Python には、「モジュール（Module）」という仕組みがあります。モジュールとは、Python の機能をまとめたファイルのことで、再利用可能なコードを整理して管理するために使われます。\n",
    "Python には標準で用意されている「標準モジュール」のほか、自分で作成する「自作モジュール」や、外部からインストールできる「外部モジュール」があります。\n",
    "\n",
    "---\n",
    "\n",
    "__モジュールを使うメリット__\n",
    "\n",
    "1. コードの再利用\n",
    "    - 一度作成した関数やクラスを、別のプログラムでも簡単に使い回せます。\n",
    "1. コードの整理\n",
    "    - 機能ごとに分割して管理できるため、コードが見やすくなります。\n",
    "1. Python の標準機能を簡単に利用\n",
    "    - Python には多くの便利な標準モジュールがあり、すぐに活用できます。"
   ]
  },
  {
   "cell_type": "markdown",
   "id": "df9913da-f94c-4693-8701-d39806041684",
   "metadata": {},
   "source": [
    "### 標準ライブラリ\n",
    "\n",
    "Python には、あらかじめ多くの便利なモジュールが「標準ライブラリ（Standard Library）」として用意されています。\n",
    "標準ライブラリは、追加のインストールなしで Python に最初から含まれており、`import` するだけですぐに使うことができます。\n",
    "\n",
    "例えば、以下のような標準ライブラリがあります：\n",
    "\n",
    "| モジュール   | 主な機能                              |\n",
    "|:-|:-|\n",
    "| `math`    | 数学計算（平方根、三角関数、対数など） |\n",
    "| `random`  | 乱数の生成                          |\n",
    "| `datetime`| 日付・時刻の操作                      |\n",
    "| `os`      | OS の操作（ファイル・ディレクトリ操作）  |\n",
    "| `sys`     | システム情報の取得（コマンドライン引数など） |\n",
    "| `json`    | JSON 形式のデータを扱う                |\n",
    "| `csv`     | CSV ファイルを読み書きする             |\n",
    "| `re`      | 正規表現を使った文字列処理             |\n",
    "| `urllib`  | Web からデータを取得する              |\n",
    "| `collections` | 高度なデータ構造（デフォルト辞書、キューなど） |\n"
   ]
  },
  {
   "cell_type": "markdown",
   "id": "8f15f5dd-3968-47b1-ad32-31c4c176bf7d",
   "metadata": {},
   "source": [
    "### モジュールの取り込み\n",
    "\n",
    "Python では、`import` 文を使ってモジュールを取り込み、さまざまな機能を利用できます。\n",
    "モジュールの取り込み方にはいくつかの方法があり、それぞれ用途に応じて使い分けることが重要です。\n",
    "\n",
    "---\n",
    "\n",
    "__1. 基本的な import の使い方__\n",
    "\n",
    "最も基本的な方法は、`import モジュール名` でモジュール全体を取り込む方法です。\n",
    "この場合、モジュール内の関数や変数を使うときは `モジュール名.関数名` のように記述します。"
   ]
  },
  {
   "cell_type": "code",
   "execution_count": 11,
   "id": "c58ff82c-1920-43bc-a66c-ad1b0d8f07eb",
   "metadata": {},
   "outputs": [
    {
     "name": "stdout",
     "output_type": "stream",
     "text": [
      "4.0\n",
      "3.141592653589793\n"
     ]
    }
   ],
   "source": [
    "import math\n",
    "\n",
    "print(math.sqrt(16))\n",
    "print(math.pi)"
   ]
  },
  {
   "cell_type": "markdown",
   "id": "00f45e10-21ac-467c-a550-237f700c93a9",
   "metadata": {},
   "source": [
    "✅ メリット\n",
    "- モジュール名を明示するため、どのモジュールの関数を使っているか分かりやすい。\n",
    "\n",
    "⚠️ 注意点\n",
    "- モジュール名を毎回書く必要があるため、コードが長くなることがある。\n",
    " \n",
    "---\n",
    "\n",
    "__2. 別名（エイリアス）をつける__\n",
    "\n",
    "モジュール名が長い場合や、短く書きたい場合は `as` を使って別名（エイリアス）をつけられます。"
   ]
  },
  {
   "cell_type": "code",
   "execution_count": 13,
   "id": "10bb2646-74e8-4cdd-9119-5e46a7ef4c72",
   "metadata": {},
   "outputs": [
    {
     "name": "stdout",
     "output_type": "stream",
     "text": [
      "4.0\n"
     ]
    }
   ],
   "source": [
    "import numpy as np\n",
    "\n",
    "print(np.sqrt(16))"
   ]
  },
  {
   "cell_type": "markdown",
   "id": "5dfec4bb-0862-4cb7-a908-a44772825c4e",
   "metadata": {},
   "source": [
    "✅ メリット\n",
    "- コードを短くできる。\n",
    "- よく使うモジュールに対して一般的な別名をつけることで、可読性が向上する（例: `numpy` → `np`、`pandas` → `pd`）。\n",
    "\n",
    "--- \n",
    "\n",
    "### 特定の関数や変数だけを取り込む\n",
    "\n",
    "モジュール全体ではなく、一部の関数や変数だけを使いたい場合は、`from` を使います。"
   ]
  },
  {
   "cell_type": "code",
   "execution_count": 14,
   "id": "907ef81c-05cf-49f6-9da0-d0b8ec4a4c87",
   "metadata": {},
   "outputs": [
    {
     "name": "stdout",
     "output_type": "stream",
     "text": [
      "4.0\n",
      "3.141592653589793\n"
     ]
    }
   ],
   "source": [
    "from math import sqrt, pi\n",
    "\n",
    "print(sqrt(16))\n",
    "print(pi)"
   ]
  },
  {
   "cell_type": "markdown",
   "id": "424ac763-1c2f-43a2-9ce8-e680509ff6d6",
   "metadata": {},
   "source": [
    "✅ メリット\n",
    "- `math.sqrt()` ではなく、`sqrt()` のように直接関数を呼び出せる。\n",
    "- 必要な機能だけをインポートするので、コードがシンプルになる。\n",
    "\n",
    "⚠️ 注意点\n",
    "- どのモジュールの関数かわかりにくくなることがある。\n",
    "\n",
    "---\n",
    "\n",
    "### ワイルドカードインポート\n",
    "\n",
    "すべての関数や変数をインポートしたい場合は、`*`（ワイルドカード）を使います。"
   ]
  },
  {
   "cell_type": "code",
   "execution_count": 15,
   "id": "8599f102-ff5f-4814-abd7-b5d87f535ae1",
   "metadata": {},
   "outputs": [
    {
     "name": "stdout",
     "output_type": "stream",
     "text": [
      "4.0\n",
      "3.141592653589793\n"
     ]
    }
   ],
   "source": [
    "from math import *\n",
    "\n",
    "print(sqrt(16))\n",
    "print(pi)"
   ]
  },
  {
   "cell_type": "markdown",
   "id": "91815996-b354-4c5c-86fb-27227223648a",
   "metadata": {},
   "source": [
    "⚠️ 注意点（非推奨）\n",
    "- どの関数がどのモジュール由来なのか分かりにくくなる。\n",
    "- 他のモジュールと関数名が衝突する可能性があるため、基本的には避ける。\n",
    "\n",
    "---\n",
    "\n",
    "### モジュール取り込みのまとめ\n",
    "\n",
    "| 方法 | 記述例 | 特徴 |\n",
    "|:-|:-|:-|\n",
    "| `import モジュール名` | `import math` | 標準的な方法。`math.sqrt()` のようにモジュール名をつけて使う。 |\n",
    "| `import モジュール名 as 別名` | `import numpy as np` | モジュール名を短縮できる。よく使うモジュールに便利。 |\n",
    "| `from モジュール名 import 関数名` | `from math import sqrt, pi` | 必要な関数のみをインポートでき、短く書ける。 |\n",
    "| `from モジュール名 import *` | `from math import *` | すべての関数をインポート。関数名の衝突に注意。 |\n"
   ]
  },
  {
   "cell_type": "markdown",
   "id": "5730546b-34c1-4182-a9ad-f77ae7b876c7",
   "metadata": {},
   "source": [
    "## パッケージの利用\n",
    "\n",
    "### パッケージとは\n",
    "Python における「パッケージ」は、関連するモジュールをまとめたディレクトリのことを指します。\n",
    "パッケージを使うことで、大規模なプロジェクトやライブラリを管理しやすくすることができます。パッケージは、モジュールが整理された形で提供され、各モジュールのファイルを簡単にインポートして利用できます。\n",
    "\n",
    "---\n",
    "\n",
    "__1. パッケージの構成__\n",
    "\n",
    "パッケージは、基本的に以下のような構造を持っています。\n",
    "\n",
    "\n",
    "```bash\n",
    "mypackage/                # パッケージのディレクトリ\n",
    "    __init__.py           # パッケージの初期化ファイル（必須）\n",
    "    module1.py            # モジュール1\n",
    "    module2.py            # モジュール2\n",
    "    subpackage/           # サブパッケージ（さらにモジュールを持つディレクトリ）\n",
    "        __init__.py\n",
    "        submodule.py\n",
    "```\n",
    "\n",
    "- `mypackage/` がパッケージのディレクトリです。\n",
    "- `__init__.py` はそのディレクトリがパッケージであることを示すために必要なファイルです。このファイルは空でも構いませんが、パッケージがインポートされたときに初期化処理を行うために使われることもあります。\n",
    "- 各モジュール（`module1.py` や `module2.py`）やサブパッケージ（`subpackage/`）は、パッケージ内の機能を構成するファイルです。\n",
    "\n",
    "---\n",
    "\n",
    "__2. パッケージのインポート__\n",
    "\n",
    "パッケージ内のモジュールをインポートするには、次のように記述します。\n",
    "\n",
    "1. モジュールのインポート\n",
    "\n",
    "```python\n",
    "import mypackage.module1\n",
    "\n",
    "mypackage.module1.some_function()\n",
    "```\n",
    "\n",
    "2. サブパッケージ内のモジュールのインポート\n",
    "\n",
    "```python\n",
    "import mypackage.subpackage.submodule\n",
    "\n",
    "mypackage.subpackage.submodule.some_function()\n",
    "```\n",
    "\n",
    "3. パッケージ全体をインポート\n",
    "\n",
    "```python\n",
    "import mypackage\n",
    "\n",
    "mypackage.module1.some_function()\n",
    "mypackage.module2.another_function()\n",
    "```"
   ]
  },
  {
   "cell_type": "markdown",
   "id": "bc880963-6505-46e4-9575-9be6dcf37b0b",
   "metadata": {},
   "source": [
    "### パッケージ内のモジュールを取り込む\n",
    "\n",
    "__1. パッケージの利用例__\n",
    "\n",
    "たとえば、`requests` という人気のある外部ライブラリは、実際には多くのモジュールを含むパッケージです。\n",
    "\n",
    "```python\n",
    "import requests\n",
    "\n",
    "response = requests.get(\"https://example.com\")\n",
    "print(response.text)\n",
    "```\n",
    "\n",
    "`requests` は、HTTP 通信に関するさまざまな機能を提供するモジュールを集めたパッケージです。\n",
    "\n",
    "---\n",
    "\n",
    "__2. サブパッケージ__\n",
    "\n",
    "パッケージはサブパッケージを持つことができます。サブパッケージもパッケージと同じようにモジュールや他のサブパッケージを持つことができ、さらに階層的に管理できます。\n",
    "\n",
    "```python\n",
    "import mypackage.subpackage.submodule\n",
    "```\n",
    "\n",
    "このように、パッケージは階層的に構造を持つことができます。"
   ]
  },
  {
   "cell_type": "markdown",
   "id": "148914cb-46cb-453c-bf55-e18c89a7c949",
   "metadata": {},
   "source": [
    "## 外部ライブラリの利用\n",
    "\n",
    "### 外部ライブラリとは\n",
    "\n",
    "外部ライブラリ（または外部モジュール）とは、Pythonの標準ライブラリには含まれていないが、Pythonコミュニティや第三者の開発者が提供している、追加機能を持ったモジュールやパッケージです。これらのライブラリは、特定の問題を解決するために非常に便利で、しばしば公式のパッケージリポジトリである Python Package Index (PyPI) からインストールして利用します。\n",
    "\n",
    "外部ライブラリを使うことで、標準ライブラリではできないような特定の機能や、複雑な処理を簡単に実現できます。\n",
    "\n",
    "---\n",
    "\n",
    "### 外部ライブラリの準備\n",
    "\n",
    "外部ライブラリは、Python のパッケージ管理ツールである `pip` を使ってインストールします。pip は、PyPI からパッケージを簡単にインストールできるツールです。\n",
    "\n",
    "```bash\n",
    "pip install パッケージ名\n",
    "```\n",
    "\n",
    "例えば、`requests` ライブラリをインストールするには次のようにします。\n",
    "\n",
    "```bash\n",
    "pip install requests\n",
    "```"
   ]
  },
  {
   "cell_type": "markdown",
   "id": "70654220-32fe-48e2-8e98-62b26ad0d267",
   "metadata": {},
   "source": [
    "### matplotlib\n",
    "\n",
    "`matplotlib` は、データの可視化に非常に便利なライブラリです。特に、グラフやプロットを作成するために広く利用されます。以下は、`matplotlib` を使って簡単な折れ線グラフを描く例です。\n",
    "\n",
    "__インストール__\n",
    "\n",
    "まず、`matplotlib` をインストールします。"
   ]
  },
  {
   "cell_type": "code",
   "execution_count": 18,
   "id": "92ea04f4-b0fd-4aff-b0af-9f5f7eceb2db",
   "metadata": {},
   "outputs": [
    {
     "name": "stdout",
     "output_type": "stream",
     "text": [
      "Defaulting to user installation because normal site-packages is not writeable\n",
      "Collecting matplotlib\n",
      "  Downloading matplotlib-3.9.4-cp39-cp39-macosx_11_0_arm64.whl (7.8 MB)\n",
      "\u001b[K     |████████████████████████████████| 7.8 MB 6.1 MB/s eta 0:00:01\n",
      "\u001b[?25hRequirement already satisfied: packaging>=20.0 in /Users/masayuki/Library/Python/3.9/lib/python/site-packages (from matplotlib) (24.2)\n",
      "Collecting pyparsing>=2.3.1\n",
      "  Downloading pyparsing-3.2.3-py3-none-any.whl (111 kB)\n",
      "\u001b[K     |████████████████████████████████| 111 kB 9.7 MB/s eta 0:00:01\n",
      "\u001b[?25hCollecting fonttools>=4.22.0\n",
      "  Downloading fonttools-4.56.0-cp39-cp39-macosx_10_9_universal2.whl (2.8 MB)\n",
      "\u001b[K     |████████████████████████████████| 2.8 MB 7.2 MB/s eta 0:00:01\n",
      "\u001b[?25hCollecting cycler>=0.10\n",
      "  Downloading cycler-0.12.1-py3-none-any.whl (8.3 kB)\n",
      "Collecting importlib-resources>=3.2.0\n",
      "  Downloading importlib_resources-6.5.2-py3-none-any.whl (37 kB)\n",
      "Collecting pillow>=8\n",
      "  Downloading pillow-11.1.0-cp39-cp39-macosx_11_0_arm64.whl (3.1 MB)\n",
      "\u001b[K     |████████████████████████████████| 3.1 MB 5.5 MB/s eta 0:00:01\n",
      "\u001b[?25hRequirement already satisfied: python-dateutil>=2.7 in /Users/masayuki/Library/Python/3.9/lib/python/site-packages (from matplotlib) (2.9.0.post0)\n",
      "Collecting kiwisolver>=1.3.1\n",
      "  Downloading kiwisolver-1.4.7-cp39-cp39-macosx_11_0_arm64.whl (64 kB)\n",
      "\u001b[K     |████████████████████████████████| 64 kB 9.2 MB/s  eta 0:00:01\n",
      "\u001b[?25hCollecting contourpy>=1.0.1\n",
      "  Downloading contourpy-1.3.0-cp39-cp39-macosx_11_0_arm64.whl (249 kB)\n",
      "\u001b[K     |████████████████████████████████| 249 kB 6.9 MB/s eta 0:00:01\n",
      "\u001b[?25hRequirement already satisfied: numpy>=1.23 in /Users/masayuki/Library/Python/3.9/lib/python/site-packages (from matplotlib) (2.0.2)\n",
      "Requirement already satisfied: zipp>=3.1.0 in /Users/masayuki/Library/Python/3.9/lib/python/site-packages (from importlib-resources>=3.2.0->matplotlib) (3.21.0)\n",
      "Requirement already satisfied: six>=1.5 in /Library/Developer/CommandLineTools/Library/Frameworks/Python3.framework/Versions/3.9/lib/python3.9/site-packages (from python-dateutil>=2.7->matplotlib) (1.15.0)\n",
      "Installing collected packages: pyparsing, pillow, kiwisolver, importlib-resources, fonttools, cycler, contourpy, matplotlib\n",
      "Successfully installed contourpy-1.3.0 cycler-0.12.1 fonttools-4.56.0 importlib-resources-6.5.2 kiwisolver-1.4.7 matplotlib-3.9.4 pillow-11.1.0 pyparsing-3.2.3\n",
      "\u001b[33mWARNING: You are using pip version 21.2.4; however, version 25.0.1 is available.\n",
      "You should consider upgrading via the '/Library/Developer/CommandLineTools/usr/bin/python3 -m pip install --upgrade pip' command.\u001b[0m\n"
     ]
    }
   ],
   "source": [
    "!pip3 install matplotlib"
   ]
  },
  {
   "cell_type": "code",
   "execution_count": 22,
   "id": "c212e234-043d-4174-90ec-3e05a85922fe",
   "metadata": {},
   "outputs": [
    {
     "data": {
      "image/png": "[encoded data removed]",
      "text/plain": [
       "<Figure size 640x480 with 1 Axes>"
      ]
     },
     "metadata": {},
     "output_type": "display_data"
    }
   ],
   "source": [
    "import matplotlib.pyplot as plt\n",
    "\n",
    "x = [1, 2, 3, 4]\n",
    "y = [10, 20, 25, 30]\n",
    "\n",
    "plt.plot(x, y)\n",
    "\n",
    "plt.title('Simple Line Plot')\n",
    "plt.xlabel('X Axis')\n",
    "plt.ylabel('Y Axis')\n",
    "\n",
    "plt.show()"
   ]
  },
  {
   "cell_type": "markdown",
   "id": "e7b50ca7-f6b6-4e35-826a-04018bb88ae4",
   "metadata": {},
   "source": [
    "解説\n",
    "- `plt.plot(x, y)` で `x` と `y` のデータを元に折れ線グラフを作成します。\n",
    "- `plt.title()` や `plt.xlabel()`, `plt.ylabel()` でグラフのタイトルや軸ラベルを設定します。\n",
    "- `plt.show()` でグラフを画面に表示します。\n",
    "\n",
    "このように、`matplotlib` を使うことで、データの可視化が簡単に行えます。"
   ]
  },
  {
   "cell_type": "markdown",
   "id": "501e5b04-2572-4c3a-b8d9-33432a312647",
   "metadata": {},
   "source": [
    "### requests\n",
    "\n",
    "`requests` は、Web サイトからデータを取得したり、API と通信したりする際に便利なライブラリです。例えば、指定した URL からデータを取得し、その内容を表示するプログラムを作成できます。\n",
    "\n",
    "__インストール__\n",
    "\n",
    "まず、`requests` をインストールします。"
   ]
  },
  {
   "cell_type": "code",
   "execution_count": 23,
   "id": "df02dfbf-fe15-4ce4-b084-e2a48d378695",
   "metadata": {},
   "outputs": [
    {
     "name": "stdout",
     "output_type": "stream",
     "text": [
      "Defaulting to user installation because normal site-packages is not writeable\n",
      "Requirement already satisfied: requests in /Users/masayuki/Library/Python/3.9/lib/python/site-packages (2.32.3)\n",
      "Requirement already satisfied: urllib3<3,>=1.21.1 in /Users/masayuki/Library/Python/3.9/lib/python/site-packages (from requests) (2.3.0)\n",
      "Requirement already satisfied: idna<4,>=2.5 in /Users/masayuki/Library/Python/3.9/lib/python/site-packages (from requests) (3.10)\n",
      "Requirement already satisfied: certifi>=2017.4.17 in /Users/masayuki/Library/Python/3.9/lib/python/site-packages (from requests) (2025.1.31)\n",
      "Requirement already satisfied: charset-normalizer<4,>=2 in /Users/masayuki/Library/Python/3.9/lib/python/site-packages (from requests) (3.4.1)\n",
      "\u001b[33mWARNING: You are using pip version 21.2.4; however, version 25.0.1 is available.\n",
      "You should consider upgrading via the '/Library/Developer/CommandLineTools/usr/bin/python3 -m pip install --upgrade pip' command.\u001b[0m\n"
     ]
    }
   ],
   "source": [
    "!pip3 install requests"
   ]
  },
  {
   "cell_type": "code",
   "execution_count": 24,
   "id": "f4e9abfe-cfbc-4934-8943-185ceb67bfdc",
   "metadata": {},
   "outputs": [
    {
     "name": "stdout",
     "output_type": "stream",
     "text": [
      "Request was successful!\n",
      "{'userId': 1, 'id': 1, 'title': 'sunt aut facere repellat provident occaecati excepturi optio reprehenderit', 'body': 'quia et suscipit\\nsuscipit recusandae consequuntur expedita et cum\\nreprehenderit molestiae ut ut quas totam\\nnostrum rerum est autem sunt rem eveniet architecto'}\n"
     ]
    },
    {
     "name": "stderr",
     "output_type": "stream",
     "text": [
      "/Users/masayuki/Library/Python/3.9/lib/python/site-packages/urllib3/__init__.py:35: NotOpenSSLWarning: urllib3 v2 only supports OpenSSL 1.1.1+, currently the 'ssl' module is compiled with 'LibreSSL 2.8.3'. See: https://github.com/urllib3/urllib3/issues/3020\n",
      "  warnings.warn(\n"
     ]
    }
   ],
   "source": [
    "import requests\n",
    "\n",
    "response = requests.get(\"https://jsonplaceholder.typicode.com/posts\")\n",
    "\n",
    "if response.status_code == 200:\n",
    "    print(\"Request was successful!\")\n",
    "    posts = response.json()\n",
    "    print(posts[0])  # 最初の投稿を表示\n",
    "else:\n",
    "    print(\"Request failed with status code:\", response.status_code)"
   ]
  },
  {
   "cell_type": "markdown",
   "id": "3c859400-57f0-42b0-b9e8-922dd52f03f7",
   "metadata": {},
   "source": [
    "解説\n",
    "- `requests.get()` メソッドを使って、指定した URL に HTTP GET リクエストを送信します。\n",
    "- `response.status_code` でリクエストのステータスコードを確認できます。200 は成功を意味します。\n",
    "- `response.json()` で、レスポンスを JSON 形式で解析し、Python の辞書型として利用できます。\n",
    "\n",
    "この例では、JSONPlaceholder という無料のデモ用 API から投稿データを取得し、その内容を表示しています。"
   ]
  },
  {
   "cell_type": "markdown",
   "id": "91d96cdc-7b2e-467f-81b1-160d22d47620",
   "metadata": {},
   "source": [
    "## Chapter 7 モジュールのまとめ\n",
    "\n",
    "### 1. 組み込み関数\n",
    "- 組み込み関数 は、Python の言語仕様として最初から提供されている関数です。\n",
    "- これらの関数は、特別なインポートなしで使用でき、日常的なプログラミングに欠かせないものです。\n",
    "- 例として、`print()` や `len()`、`type()` などがあり、これらはPythonを使う上で頻繁に利用されます。\n",
    "\n",
    "---\n",
    "\n",
    "### 2. 標準ライブラリ\n",
    "- 標準ライブラリ は、Python のインストール時に最初から含まれているモジュールやパッケージの集まりです。\n",
    "- これにより、ファイル操作、数学計算、日付と時刻の操作、データ構造の操作などが簡単に行えます。\n",
    "- 例: `math`, `os`, `datetime`, `sys` など。\n",
    "\n",
    "---\n",
    "\n",
    "### 3. 外部ライブラリ\n",
    "- 外部ライブラリ は、Python 標準ライブラリには含まれていないが、コミュニティや開発者が提供するライブラリです。\n",
    "- 外部ライブラリは、Python Package Index (PyPI) からインストールし、より高度な機能を簡単に追加できます。\n",
    "- 代表的なものとして、`requests`（HTTP通信）、`matplotlib`（グラフ描画）、`pandas`（データ解析）などがあります。\n",
    "\n",
    "---\n",
    "\n",
    "### 4. パッケージ\n",
    "- パッケージ は、関連するモジュールをディレクトリ単位でまとめたものです。\n",
    "- パッケージを使うことで、複数のモジュールを整理し、階層構造で管理できます。\n",
    "- パッケージは `__init__.py` ファイルを持ち、モジュールやサブパッケージを含むことができます。\n",
    "- 例: `numpy`, `matplotlib`, `requests` などのライブラリはパッケージとして提供されます。"
   ]
  },
  {
   "cell_type": "markdown",
   "id": "7e44fad3-f6c1-4afd-9ebc-fabf8d6bf4b1",
   "metadata": {},
   "source": [
    "## Chapter 7 練習問題\n",
    "\n",
    "### 問題 1: 組み込み関数の利用\n",
    "\n",
    "次のリスト `numbers = [10, 20, 30, 40, 50]` に対して、以下の操作を行ってください。\n",
    "\n",
    "1. リスト numbers の要素の数を求める。\n",
    "1. リストの最初の要素を取得する。\n",
    "1. リスト内の最大値を求める。\n",
    "\n",
    "出力結果をコメントとして書いてください。\n",
    "\n",
    "---\n",
    "\n",
    "### 問題 2: 標準ライブラリを使ったファイル操作\n",
    "\n",
    "次の操作を行うプログラムを作成してください。\n",
    "- `\"sample.txt\"` というファイルを作成し、その中に文字列 `\"Hello, Python!\"` を書き込む。\n",
    "- `\"sample.txt\"` を読み込み、内容を表示する。\n",
    "\n",
    "---\n",
    "\n",
    "### 問題 3: 外部ライブラリ `requests` の使用\n",
    "\n",
    "`requests` ライブラリを使って、以下の手順で Web サイトからデータを取得するプログラムを作成してください。\n",
    "\n",
    "1. `https://jsonplaceholder.typicode.com/posts/1` から **GET** リクエストを送信し、レスポンスを受け取る。\n",
    "1. レスポンスの内容を JSON として解析し、取得したデータを表示する。\n",
    "\n",
    "ヒント: `response.json()` メソッドを使用してください。\n",
    "\n",
    "---\n",
    "\n",
    "### 問題 4: パッケージ内のモジュールのインポート\n",
    "\n",
    "次のパッケージ構造を想定します。\n",
    "\n",
    "```bash\n",
    "mypackage/\n",
    "    __init__.py\n",
    "    module1.py\n",
    "    module2.py\n",
    "```\n",
    "\n",
    "1. `mypackage/module1.py` に定義された関数 `function1()` を、`mypackage/module2.py` からインポートして呼び出してください。\n",
    "1. `function1()` が返す文字列 `\"Hello from module1!\"` を表示させるようにプログラムを書いてください。\n",
    "\n",
    "---\n",
    "\n",
    "### 問題 5: パッケージの利用\n",
    "\n",
    "次の操作を行うプログラムを作成してください。\n",
    "- 標準ライブラリの `math` パッケージをインポートし、平方根を計算してください。\n",
    "- 例えば、数値 `16` の平方根を求めると、出力は `4.0` となるようにしてください。\n",
    "\n",
    "ヒント: `math.sqrt()` 関数を使用してください。"
   ]
  }
 ],
 "metadata": {
  "kernelspec": {
   "display_name": "Python 3 (ipykernel)",
   "language": "python",
   "name": "python3"
  },
  "language_info": {
   "codemirror_mode": {
    "name": "ipython",
    "version": 3
   },
   "file_extension": ".py",
   "mimetype": "text/x-python",
   "name": "python",
   "nbconvert_exporter": "python",
   "pygments_lexer": "ipython3",
   "version": "3.9.6"
  }
 },
 "nbformat": 4,
 "nbformat_minor": 5
}
