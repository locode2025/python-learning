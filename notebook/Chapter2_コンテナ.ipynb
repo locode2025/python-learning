{
 "cells": [
  {
   "cell_type": "markdown",
   "id": "3334d936",
   "metadata": {},
   "source": [
    "# Chapter 2 コンテナ\n",
    "\n",
    "1. データの集まり\n",
    "    1. 変数が持つ不便さ\n",
    "1. リスト\n",
    "    1. リストの特徴\n",
    "    1. リストの作成\n",
    "    1. リストの要素を参照\n",
    "    1. リスト要素の合計と要素数の取得\n",
    "    1. リスト要素の追加・削除・変更\n",
    "    1. 高度な要素の指定\n",
    "1. ディクショナリ\n",
    "    1. ディクショナリの特徴\n",
    "    1. ディクショナリの作成\n",
    "    1. ディクショナリ要素の参照\n",
    "    1. ディクショナリ要素の追加と変更\n",
    "    1. ディクショナリ要素の削除\n",
    "    1. ディクショナリとリストの比較\n",
    "1. タプルとセット\n",
    "    1. タプル\n",
    "    1. セット\n",
    "1. コンテナの応用\n",
    "    1. コンテナの相互変換\n",
    "    1. コンテナのネスト\n",
    "    1. 集合演算"
   ]
  },
  {
   "cell_type": "markdown",
   "id": "e8f18113",
   "metadata": {},
   "source": [
    "## キーワード\n",
    "\n",
    "データ構造（data structure）、コンテナ（container）、コレクション（collection）、リスト（list）、要素（element）、インデックス（index）、ディクショナリ（dictironary）、キー（key）、タプル（tupple）、シーケンス（sequence）、セット（set）、ネスト、入れ子、集合演算"
   ]
  },
  {
   "cell_type": "markdown",
   "id": "c8bd5a12",
   "metadata": {},
   "source": [
    "## 1. 変数が持つ不便さ\n",
    "\n",
    "プログラムを作る上で「変数」は非常に重要な概念です。変数を使うことで、数値や文字列を一時的に記憶し、必要に応じて計算や処理を行えます。\n",
    "\n",
    "例えば、次のように **score1** や **score2** に数値を入れ、合計を計算できます。"
   ]
  },
  {
   "cell_type": "code",
   "execution_count": 1,
   "id": "4f6d4b7d",
   "metadata": {},
   "outputs": [
    {
     "name": "stdout",
     "output_type": "stream",
     "text": [
      "175\n"
     ]
    }
   ],
   "source": [
    "score1 = 85\n",
    "score2 = 90\n",
    "total = score1 + score2\n",
    "print(total)"
   ]
  },
  {
   "cell_type": "markdown",
   "id": "11594eac",
   "metadata": {},
   "source": [
    "このように、変数を使えば値を保存し、計算に活用できます。\n",
    "\n",
    "__変数の不便な点__\n",
    "\n",
    "しかし、プログラムが複雑になると、変数だけでデータを扱うのは大変になります。例えば、次のように10人分のテストの点数を管理する場合を考えましょう。\n",
    "\n",
    "```python\n",
    "score1 = 85\n",
    "score2 = 90\n",
    "score3 = 78\n",
    "score4 = 92\n",
    "score5 = 88\n",
    "score6 = 76\n",
    "score7 = 95\n",
    "score8 = 89\n",
    "score9 = 84\n",
    "score10 = 91\n",
    "```\n",
    "\n",
    "この状態では、「10人以上になったらどうするのか？」 「全員の平均点を求めるとき、どう計算するのか？」 という問題が発生します。\n",
    "\n",
    "変数だけでデータを管理するのは手間がかかり、拡張性に乏しいのです。\n",
    "\n",
    "__もっと便利な方法とは？__\n",
    "\n",
    "そこで登場するのが、「データの集まり（コンテナ）」です。Pythonには、リスト、ディクショナリ、タプル、セット という便利なデータ構造が用意されています。\n",
    "\n",
    "例えば、リストを使うと、先ほどの10人分のスコアを簡単に管理できます。そして、リストを使えば、平均点も簡単に計算できます。"
   ]
  },
  {
   "cell_type": "code",
   "execution_count": 2,
   "id": "679a3dba",
   "metadata": {},
   "outputs": [
    {
     "name": "stdout",
     "output_type": "stream",
     "text": [
      "86.8\n"
     ]
    }
   ],
   "source": [
    "scores = [85, 90, 78, 92, 88, 76, 95, 89, 84, 91]\n",
    "average = sum(scores) / len(scores)\n",
    "print(average)"
   ]
  },
  {
   "cell_type": "markdown",
   "id": "db7a5920",
   "metadata": {},
   "source": [
    "このように、データを「まとめて管理する」ことで、より柔軟で便利なプログラムが作れるようになります。\n",
    "\n",
    "この章では、Pythonの「データの集まり（コンテナ）」について詳しく学んでいきましょう。"
   ]
  },
  {
   "cell_type": "markdown",
   "id": "1a01105f",
   "metadata": {},
   "source": [
    "## 2. リスト\n",
    "\n",
    "プログラムを作る上で、複数のデータをまとめて管理することは非常に重要です。Pythonでは、データの集まりを扱うために「リスト」というデータ構造が用意されています。\n",
    "\n",
    "### リストの特徴\n",
    "\n",
    "リストは、複数の値を順番に並べて格納できるデータ構造 です。\n",
    "リストを使うことで、一つの変数で複数のデータをまとめて扱う ことができます。\n",
    "\n",
    "例えば、10人分のテストの点数をリストで表すと、次のようになります。\n",
    "\n",
    "```python\n",
    "scores = [85, 90, 78, 92, 88, 76, 95, 89, 84, 91]\n",
    "```\n",
    "\n",
    "リストには次のような特徴があります。\n",
    "\n",
    "__① 順番（インデックス）がある__\n",
    "\n",
    "リストのデータには「インデックス（index）」と呼ばれる番号が振られており、順番にアクセスできる ようになっています。\n",
    "Pythonのリストは **0から始まるインデックス** を持っています。\n",
    "\n",
    "| インデックス | 0  | 1  | 2  | 3  | 4  | 5  | 6  | 7  | 8  | 9  |\n",
    "|-------------|----|----|----|----|----|----|----|----|----|----|\n",
    "| 値（スコア）| 85 | 90 | 78 | 92 | 88 | 76 | 95 | 89 | 84 | 91 |\n",
    "\n",
    "例えば、1番目のスコア（**85**）を取得するには、`scores[0]` を使います。"
   ]
  },
  {
   "cell_type": "code",
   "execution_count": 3,
   "id": "568fdcf2",
   "metadata": {},
   "outputs": [
    {
     "name": "stdout",
     "output_type": "stream",
     "text": [
      "85\n"
     ]
    }
   ],
   "source": [
    "print(scores[0])"
   ]
  },
  {
   "cell_type": "markdown",
   "id": "93b7316d",
   "metadata": {},
   "source": [
    "__② 異なるデータ型を混ぜて格納できる__\n",
    "\n",
    "リストには、整数・小数・文字列など、異なるデータ型を混ぜて格納することが可能 です。\n",
    "\n",
    "```python\n",
    "data = [100, \"Python\", 3.14, True]\n",
    "```\n",
    "\n",
    "__③ 要素の追加・変更・削除ができる__\n",
    "\n",
    "リストは、一度作成した後でも、データの追加・変更・削除が可能 です。\n",
    "例えば、新しいスコアを追加したり、既存のスコアを変更したりできます。\n",
    "\n",
    "では、リストの作成方法について詳しく解説していきます。"
   ]
  },
  {
   "cell_type": "markdown",
   "id": "8ffa6d2c",
   "metadata": {},
   "source": [
    "### リストの作成\n",
    "\n",
    "__リストを作る基本的な方法__\n",
    "\n",
    "実際にリストを作成する方法を詳しく見ていきましょう。リストを作るには、角かっこ（`[]`）を使って、データをカンマ（`,`）で区切って並べる だけです。"
   ]
  },
  {
   "cell_type": "code",
   "execution_count": 4,
   "id": "d24676a0",
   "metadata": {},
   "outputs": [
    {
     "name": "stdout",
     "output_type": "stream",
     "text": [
      "[85, 90, 78, 92, 88]\n"
     ]
    }
   ],
   "source": [
    "scores = [85, 90, 78, 92, 88]\n",
    "print(scores)"
   ]
  },
  {
   "cell_type": "markdown",
   "id": "bb04db4e",
   "metadata": {},
   "source": [
    "__空のリストを作る方法__\n",
    "\n",
    "最初は中身がないリストを作って、あとからデータを追加したい場合もあります。\n",
    "その場合は、空の角かっこ `[]` を使う か、`list()` を使います。\n",
    "\n",
    "```python\n",
    "empty_list1 = []  # 空のリスト\n",
    "empty_list2 = list()  # こちらも空のリスト\n",
    "\n",
    "print(empty_list1)  # []\n",
    "print(empty_list2)  # []\n",
    "```\n",
    "\n",
    "どちらの方法でも、「最初はデータが空のリスト」を作成できる ので、状況に応じて使い分けましょう。"
   ]
  },
  {
   "cell_type": "markdown",
   "id": "51aa4d2c",
   "metadata": {},
   "source": [
    "__異なるデータ型を混ぜたリスト__\n",
    "\n",
    "リストには、整数（**int**）、小数（**float**）、文字列（**str**）、真偽値（**bool**）など、さまざまなデータ型を混ぜて入れることができます。"
   ]
  },
  {
   "cell_type": "code",
   "execution_count": 5,
   "id": "c7d7a358",
   "metadata": {},
   "outputs": [
    {
     "name": "stdout",
     "output_type": "stream",
     "text": [
      "[100, 'Python', 3.14, True]\n"
     ]
    }
   ],
   "source": [
    "data = [100, \"Python\", 3.14, True]\n",
    "print(data)"
   ]
  },
  {
   "cell_type": "markdown",
   "id": "6f8c39ca",
   "metadata": {},
   "source": [
    "__`range()` を使ってリストを作る__\n",
    "\n",
    "Pythonには、連続した数値を簡単にリストにする方法 があります。\n",
    "それが `range()` という関数を使う方法です。\n",
    "\n",
    "例えば、1から10までの数値をリストにするには、次のように書きます。"
   ]
  },
  {
   "cell_type": "code",
   "execution_count": 6,
   "id": "f090206f",
   "metadata": {},
   "outputs": [
    {
     "name": "stdout",
     "output_type": "stream",
     "text": [
      "[1, 2, 3, 4, 5, 6, 7, 8, 9, 10]\n"
     ]
    }
   ],
   "source": [
    "numbers = list(range(1, 11))\n",
    "print(numbers)"
   ]
  },
  {
   "cell_type": "markdown",
   "id": "c235d28c",
   "metadata": {},
   "source": [
    "この `range(1, 11)` は、**「1 から 10 までの数値」** を順番に生成し、それを `list()` でリストに変換しています。\n",
    "\n",
    "__リストの作成まとめ__\n",
    "\n",
    "リストの作成方法には、次のようなものがあります。\n",
    "\n",
    "| 方法                      | 例                                | 説明 |\n",
    "|:-|:-:|:-|\n",
    "| 普通のリストを作る        | `[85, 90, 78]`                 | 角かっこ `[]` を使う |\n",
    "| 空のリストを作る          | `[]` または `list()`           | 最初にデータを入れない |\n",
    "| 異なるデータ型を入れる    | `[100, \"Python\", 3.14]`        | 文字や数値を混ぜられる |\n",
    "| `range()` を使う          | `list(range(1, 6))`            | 連続した数値のリスト |\n",
    "\n",
    "このように、Pythonのリストは柔軟にデータを扱うことができます。"
   ]
  },
  {
   "cell_type": "markdown",
   "id": "71759144",
   "metadata": {},
   "source": [
    "### リストの要素を参照\n",
    "\n",
    "今回は、**リストの中のデータ（要素）を取り出す方法** を詳しく解説していきます。\n",
    "\n",
    "__インデックスを使って要素を取り出す__\n",
    "\n",
    "リストの要素を参照（取得）するには、**インデックス（index）** を使います。\n",
    "Pythonのリストは、**0番目から順番に番号が振られている** ことを思い出しましょう。\n",
    "\n",
    "例えば、以下のリストを考えます。\n",
    "\n",
    "```python\n",
    "scores = [85, 90, 78, 92, 88]\n",
    "```\n",
    "\n",
    "このリストは、次のようにインデックスが振られています。\n",
    "\n",
    "| インデックス | 0  | 1  | 2  | 3  | 4  |\n",
    "|-------------|----|----|----|----|----|\n",
    "| 値（スコア）| 85 | 90 | 78 | 92 | 88 |\n",
    "\n",
    "例えば、**2番目のスコア（インデックス1）を取得** するには、`scores[1]` と書きます。\n"
   ]
  },
  {
   "cell_type": "code",
   "execution_count": 7,
   "id": "66da5afc",
   "metadata": {},
   "outputs": [
    {
     "name": "stdout",
     "output_type": "stream",
     "text": [
      "90\n"
     ]
    }
   ],
   "source": [
    "print(scores[1])"
   ]
  },
  {
   "cell_type": "markdown",
   "id": "48510cf8",
   "metadata": {},
   "source": [
    "### リストの要素の合計と要素数の取得\n",
    "\n",
    "今回は、リストの合計や要素数（長さ） を取得する方法を解説していきます。\n",
    "\n",
    "__リストの要素の合計を求める__\n",
    "\n",
    "Pythonでは、`sum()` 関数を使ってリスト内の数値の合計を求めることができます。\n",
    "\n",
    "例えば、以下のリストの合計を計算してみましょう。"
   ]
  },
  {
   "cell_type": "code",
   "execution_count": 8,
   "id": "7079aad3",
   "metadata": {},
   "outputs": [
    {
     "name": "stdout",
     "output_type": "stream",
     "text": [
      "433\n"
     ]
    }
   ],
   "source": [
    "scores = [85, 90, 78, 92, 88]\n",
    "total = sum(scores)\n",
    "print(total)"
   ]
  },
  {
   "cell_type": "markdown",
   "id": "97c0c414",
   "metadata": {},
   "source": [
    "__リストの要素数（長さ）を求める__\n",
    "\n",
    "リストの要素数（長さ）を求めるには、`len()` 関数を使います。"
   ]
  },
  {
   "cell_type": "code",
   "execution_count": 9,
   "id": "6a27714b",
   "metadata": {},
   "outputs": [
    {
     "name": "stdout",
     "output_type": "stream",
     "text": [
      "5\n"
     ]
    }
   ],
   "source": [
    "scores = [85, 90, 78, 92, 88]\n",
    "count = len(scores)\n",
    "print(count)"
   ]
  },
  {
   "cell_type": "markdown",
   "id": "c347afff",
   "metadata": {},
   "source": [
    "__平均値を求める__\n",
    "\n",
    "合計と要素数が分かれば、平均値も計算できます。"
   ]
  },
  {
   "cell_type": "code",
   "execution_count": 10,
   "id": "a50a61f1",
   "metadata": {},
   "outputs": [
    {
     "name": "stdout",
     "output_type": "stream",
     "text": [
      "86.6\n"
     ]
    }
   ],
   "source": [
    "scores = [85, 90, 78, 92, 88]\n",
    "average = sum(scores) / len(scores) \n",
    "print(average)"
   ]
  },
  {
   "cell_type": "markdown",
   "id": "d5a40e09",
   "metadata": {},
   "source": [
    "Pythonでは、リストの数値を使って簡単に統計的な計算ができます。\n",
    "例えば、最大値や最小値も `max()` や `min()` を使って取得できます。"
   ]
  },
  {
   "cell_type": "markdown",
   "id": "406e588a",
   "metadata": {},
   "source": [
    "__リストの要素に対する演算のまとめ__\n",
    "\n",
    "| 操作              | 書き方                     | 説明 |\n",
    "|:-|:-:|:-|\n",
    "| 合計を求める     | `sum(scores)`             | リストの要素の合計を計算 |\n",
    "| 要素数を求める   | `len(scores)`             | リストの要素の数（長さ）を取得 |\n",
    "| 平均値を求める   | `sum(scores) / len(scores)` | 合計を要素数で割る |\n",
    "| 最大値を求める   | `max(scores)`             | リスト内の最大値を取得 |\n",
    "| 最小値を求める   | `min(scores)`             | リスト内の最小値を取得 |"
   ]
  },
  {
   "cell_type": "markdown",
   "id": "9dfcc8e1",
   "metadata": {},
   "source": [
    "### リスト要素の追加・削除・変更\n",
    "\n",
    "リストに要素を追加・削除・変更する方法 を解説していきます。\n",
    "\n",
    "#### リストに要素を追加する\n",
    "\n",
    "リストに新しい要素を追加するには、`append()` や `insert()` を使います。\n",
    "\n",
    "__`append()` で末尾に追加__\n",
    "\n",
    "`append()` を使うと、リストの最後 に新しい要素を追加できます。"
   ]
  },
  {
   "cell_type": "code",
   "execution_count": 11,
   "id": "68fbe936",
   "metadata": {},
   "outputs": [
    {
     "name": "stdout",
     "output_type": "stream",
     "text": [
      "[85, 90, 78, 92]\n"
     ]
    }
   ],
   "source": [
    "scores = [85, 90, 78]\n",
    "scores.append(92)\n",
    "print(scores)"
   ]
  },
  {
   "cell_type": "markdown",
   "id": "34ce3d82",
   "metadata": {},
   "source": [
    "__`insert()` で指定位置に追加__\n",
    "\n",
    "`insert(位置, 値)` を使うと、リストの途中 に要素を挿入できます。"
   ]
  },
  {
   "cell_type": "code",
   "execution_count": 12,
   "id": "84926d90",
   "metadata": {},
   "outputs": [
    {
     "name": "stdout",
     "output_type": "stream",
     "text": [
      "[85, 88, 90, 78]\n"
     ]
    }
   ],
   "source": [
    "scores = [85, 90, 78]\n",
    "scores.insert(1, 88)\n",
    "print(scores)"
   ]
  },
  {
   "cell_type": "markdown",
   "id": "4129fe57",
   "metadata": {},
   "source": [
    "#### リストの要素を削除する\n",
    "\n",
    "リストの要素を削除する方法はいくつかあります。\n",
    "\n",
    "__`pop()` で要素を取り出す__\n",
    "\n",
    "`pop()` は、リストの末尾の要素 を取り出して削除します。"
   ]
  },
  {
   "cell_type": "code",
   "execution_count": 13,
   "id": "bca3e13c",
   "metadata": {},
   "outputs": [
    {
     "name": "stdout",
     "output_type": "stream",
     "text": [
      "[85, 90]\n",
      "78\n"
     ]
    }
   ],
   "source": [
    "scores = [85, 90, 78]\n",
    "last_score = scores.pop()\n",
    "print(scores)\n",
    "print(last_score)"
   ]
  },
  {
   "cell_type": "markdown",
   "id": "2de560b3",
   "metadata": {},
   "source": [
    "指定した位置 の要素を削除することもできます。"
   ]
  },
  {
   "cell_type": "code",
   "execution_count": 14,
   "id": "7f3e06cd",
   "metadata": {},
   "outputs": [
    {
     "name": "stdout",
     "output_type": "stream",
     "text": [
      "[85, 78]\n"
     ]
    }
   ],
   "source": [
    "scores = [85, 90, 78]\n",
    "scores.pop(1)\n",
    "print(scores)"
   ]
  },
  {
   "cell_type": "markdown",
   "id": "821840cd",
   "metadata": {},
   "source": [
    "__`remove()` で指定の値を削除__\n",
    "\n",
    "`remove(値)` を使うと、指定した値を削除 できます。※ 同じ値が複数ある場合、最初に見つかったものだけ 削除されるので注意しましょう。"
   ]
  },
  {
   "cell_type": "code",
   "execution_count": 15,
   "id": "52fa3371",
   "metadata": {},
   "outputs": [
    {
     "name": "stdout",
     "output_type": "stream",
     "text": [
      "[85, 78, 90]\n"
     ]
    }
   ],
   "source": [
    "scores = [85, 90, 78, 90]\n",
    "scores.remove(90)\n",
    "print(scores)"
   ]
  },
  {
   "cell_type": "markdown",
   "id": "cc5e00d0",
   "metadata": {},
   "source": [
    "__`del` を使う__\n",
    "\n",
    "`del` を使うと、特定の要素を削除できます。"
   ]
  },
  {
   "cell_type": "code",
   "execution_count": 16,
   "id": "46a13d00",
   "metadata": {},
   "outputs": [
    {
     "name": "stdout",
     "output_type": "stream",
     "text": [
      "[85, 78]\n"
     ]
    }
   ],
   "source": [
    "scores = [85, 90, 78]\n",
    "del scores[1]\n",
    "print(scores)"
   ]
  },
  {
   "cell_type": "markdown",
   "id": "01b1cd76",
   "metadata": {},
   "source": [
    "__リストの要素を変更する__\n",
    "\n",
    "リストの要素は、インデックスを指定して書き換える ことができます。"
   ]
  },
  {
   "cell_type": "code",
   "execution_count": 17,
   "id": "bd21bff3",
   "metadata": {},
   "outputs": [
    {
     "name": "stdout",
     "output_type": "stream",
     "text": [
      "[85, 88, 78]\n"
     ]
    }
   ],
   "source": [
    "scores = [85, 90, 78]\n",
    "scores[1] = 88\n",
    "print(scores)"
   ]
  },
  {
   "cell_type": "markdown",
   "id": "05fc6a39",
   "metadata": {},
   "source": [
    "複数の要素をまとめて変更することも可能です。"
   ]
  },
  {
   "cell_type": "code",
   "execution_count": 18,
   "id": "0f847357",
   "metadata": {},
   "outputs": [
    {
     "name": "stdout",
     "output_type": "stream",
     "text": [
      "[85, 80, 75, 92, 88]\n"
     ]
    }
   ],
   "source": [
    "scores = [85, 90, 78, 92, 88]\n",
    "scores[1:3] = [80, 75]\n",
    "print(scores)"
   ]
  },
  {
   "cell_type": "markdown",
   "id": "9876178a",
   "metadata": {},
   "source": [
    "リストの要素に対する追加・変更・削除のまとめ\n",
    "\n",
    "| 操作               | 書き方                       | 説明 |\n",
    "|:-|:-:|:-|\n",
    "| 要素を末尾に追加   | `scores.append(92)`       | リストの最後に要素を追加 |\n",
    "| 指定位置に追加     | `scores.insert(1, 88)`    | インデックス1に88を挿入 |\n",
    "| 末尾の要素を削除   | `scores.pop()`            | 最後の要素を取り出して削除 |\n",
    "| 指定位置の要素を削除 | `scores.pop(1)`          | インデックス1の要素を削除 |\n",
    "| 指定の値を削除     | `scores.remove(90)`       | 最初に見つかった90を削除 |\n",
    "| 指定の要素を削除   | `del scores[1]`          | インデックス1の要素を削除 |\n",
    "| 要素を変更         | `scores[1] = 88`         | インデックス1の値を88に変更 |\n",
    "| 複数の要素を変更   | `scores[1:3] = [80, 75]` | インデックス1～2の要素を変更 |\n"
   ]
  },
  {
   "cell_type": "markdown",
   "id": "1ef34e72",
   "metadata": {},
   "source": [
    "### 高度な要素の指定\n",
    "\n",
    "\n",
    "__マイナスのインデックスを使う__\n",
    "\n",
    "Pythonのリストでは、負のインデックス（マイナスの番号）を使って、後ろから要素を取得する こともできます。"
   ]
  },
  {
   "cell_type": "code",
   "execution_count": 19,
   "id": "709ed691",
   "metadata": {},
   "outputs": [
    {
     "name": "stdout",
     "output_type": "stream",
     "text": [
      "88\n",
      "92\n"
     ]
    }
   ],
   "source": [
    "print(scores[-1])\n",
    "print(scores[-2])"
   ]
  },
  {
   "cell_type": "markdown",
   "id": "d4848c35",
   "metadata": {},
   "source": [
    "マイナスのインデックスを使うと、リストの長さが分からなくても最後の要素を簡単に取得できる ので便利です。\n",
    "\n",
    "|インデックス|-5|-4|-3|-2|-1|\n",
    "|-------------|----|----|----|----|----|\n",
    "| 値（スコア）| 85 | 90 | 78 | 92 | 88 |\n",
    "\n",
    "__範囲を指定して複数の要素を取得する（スライス）__\n",
    "\n",
    "**スライス（slice）** を使うと、リストの一部をまとめて取得できます。\n",
    "スライスの書き方は、以下のようになります。\n",
    "\n",
    "```python\n",
    "リスト[開始インデックス:終了インデックス]\n",
    "```\n",
    "\n",
    "例を見てみましょう。"
   ]
  },
  {
   "cell_type": "code",
   "execution_count": 20,
   "id": "0d104c2d",
   "metadata": {},
   "outputs": [
    {
     "name": "stdout",
     "output_type": "stream",
     "text": [
      "[80, 75, 92]\n"
     ]
    }
   ],
   "source": [
    "print(scores[1:4])"
   ]
  },
  {
   "cell_type": "markdown",
   "id": "44179705",
   "metadata": {},
   "source": [
    "これは、**インデックス1から3までの要素を取り出す** という意味です。\n",
    "（終了インデックス（4） は含まれず、**1以上4未満** の範囲になる点に注意してください。）\n",
    "\n",
    "また、省略して書くこともできます。"
   ]
  },
  {
   "cell_type": "code",
   "execution_count": 21,
   "id": "7b6f94ee",
   "metadata": {},
   "outputs": [
    {
     "name": "stdout",
     "output_type": "stream",
     "text": [
      "[85, 80, 75]\n",
      "[75, 92, 88]\n",
      "[85, 80, 75, 92, 88]\n"
     ]
    }
   ],
   "source": [
    "print(scores[:3])  # 最初から3つ目まで\n",
    "print(scores[2:])  # インデックス2から最後まで\n",
    "print(scores[:])   # すべての要素"
   ]
  },
  {
   "cell_type": "markdown",
   "id": "e85af31c",
   "metadata": {},
   "source": [
    "__ステップを指定して要素を取得する__\n",
    "\n",
    "スライスには、**ステップ（何個おきに取得するか）** も指定できます。\n",
    "ステップは、スライスの3番目の値 に指定します。\n",
    "\n",
    "```python\n",
    "リスト[開始:終了:ステップ]\n",
    "```\n",
    "\n",
    "例えば、2つおきに要素を取り出すには、次のように書きます。"
   ]
  },
  {
   "cell_type": "code",
   "execution_count": 22,
   "id": "89f611ed",
   "metadata": {},
   "outputs": [
    {
     "name": "stdout",
     "output_type": "stream",
     "text": [
      "[85, 75, 88]\n"
     ]
    }
   ],
   "source": [
    "print(scores[::2])"
   ]
  },
  {
   "cell_type": "markdown",
   "id": "f9ef689c",
   "metadata": {},
   "source": [
    "マイナスのステップを指定すると、**逆順に取得** できます。"
   ]
  },
  {
   "cell_type": "code",
   "execution_count": 23,
   "id": "45e5fa2e",
   "metadata": {},
   "outputs": [
    {
     "name": "stdout",
     "output_type": "stream",
     "text": [
      "[88, 92, 75, 80, 85]\n"
     ]
    }
   ],
   "source": [
    "print(scores[::-1]) "
   ]
  },
  {
   "cell_type": "markdown",
   "id": "b3ef6c59",
   "metadata": {},
   "source": [
    "__リスト要素の参照方法のまとめ__\n",
    "\n",
    "| 操作                           | 書き方             | 説明 |\n",
    "|:-|:-:|:-|\n",
    "| 1つの要素を取得する             | `scores[1]`       | インデックス1の要素（2番目の要素）を取得 |\n",
    "| 最後の要素を取得する           | `scores[-1]`      | 負のインデックスを使う |\n",
    "| 一部の要素を取得する（スライス） | `scores[1:4]`     | インデックス1以上4未満の要素を取得 |\n",
    "| 先頭からスライス               | `scores[:3]`      | 最初からインデックス3未満まで |\n",
    "| 途中からスライス               | `scores[2:]`      | インデックス2から最後まで |\n",
    "| すべての要素を取得             | `scores[:]`       | 全要素を取得 |\n",
    "| 2つおきに取得                 | `scores[::2]`     | ステップを2にする |\n",
    "| 逆順に取得                    | `scores[::-1]`    | 逆順のリストを取得 |"
   ]
  },
  {
   "cell_type": "markdown",
   "id": "ac5c3339",
   "metadata": {},
   "source": [
    "## ディクショナリ\n",
    "\n",
    "ディクショナリ（**辞書型**）は、キーと値のペアを格納するデータ構造です。\n",
    "リストがインデックスで要素を管理するのに対して、ディクショナリは**任意のキー**（数値、文字列など）を使って、対応する値を格納します。\n",
    "\n",
    "### ディクショナリの特徴\n",
    "\n",
    "ディクショナリは、キーと値のペアを管理するため、リストやタプルとは異なる特徴を持っています。\n",
    "\n",
    "- 順序は保証されない（Python 3.7以降は挿入順序が保持されますが、基本的に順序に依存しません）\n",
    "- キーはユニークでなければならない\n",
    "- 値は任意のデータ型（文字列、リスト、数値など）を格納できます\n",
    "\n",
    "### ディクショナリの作成\n",
    "\n",
    "__基本的なディクショナリの作成__\n",
    "\n",
    "ディクショナリは波括弧 `{}` を使って作成します。\n",
    "また、キーと値はコロン `:` で区切り、複数のペアはコンマ `,` で区切ります。\n",
    "\n",
    "例えば、以下のようにnameというキーに対して\"Alice\"という値を設定することができます。`\"name\"`, `\"age\"`, `\"city\"` がキーで、`\"Alice\"`, `30`, `\"Tokyo\"` がそれぞれ対応する値です。"
   ]
  },
  {
   "cell_type": "code",
   "execution_count": 24,
   "id": "b4a7913e",
   "metadata": {},
   "outputs": [
    {
     "name": "stdout",
     "output_type": "stream",
     "text": [
      "{'name': 'Alice', 'age': 30, 'city': 'Tokyo'}\n"
     ]
    }
   ],
   "source": [
    "person = {\"name\": \"Alice\", \"age\": 30, \"city\": \"Tokyo\"}\n",
    "print(person)"
   ]
  },
  {
   "cell_type": "markdown",
   "id": "7d61cd3e",
   "metadata": {},
   "source": [
    "__空のディクショナリの作成__\n",
    "\n",
    "空のディクショナリも簡単に作成できます。\n",
    "空のディクショナリは、波括弧 `{}` を使って作成します。"
   ]
  },
  {
   "cell_type": "code",
   "execution_count": 25,
   "id": "fc59c3c6",
   "metadata": {},
   "outputs": [
    {
     "name": "stdout",
     "output_type": "stream",
     "text": [
      "{}\n"
     ]
    }
   ],
   "source": [
    "empty_dict = {}\n",
    "print(empty_dict)"
   ]
  },
  {
   "cell_type": "markdown",
   "id": "03b42089",
   "metadata": {},
   "source": [
    "ディクショナリに後から要素を追加することもできます。"
   ]
  },
  {
   "cell_type": "code",
   "execution_count": 26,
   "id": "d8e87c0a",
   "metadata": {},
   "outputs": [
    {
     "name": "stdout",
     "output_type": "stream",
     "text": [
      "{'name': 'Alice', 'age': 30}\n"
     ]
    }
   ],
   "source": [
    "empty_dict[\"name\"] = \"Alice\"\n",
    "empty_dict[\"age\"] = 30\n",
    "print(empty_dict)"
   ]
  },
  {
   "cell_type": "markdown",
   "id": "39840c96",
   "metadata": {},
   "source": [
    "__`dict()` を使ってディクショナリを作成__\n",
    "\n",
    "Pythonには `dict()` という関数もあり、これを使ってディクショナリを作成することもできます。\n",
    "例えば、以下のようにキーと値をタプルとして渡してディクショナリを作成します。"
   ]
  },
  {
   "cell_type": "code",
   "execution_count": 27,
   "id": "2b984583",
   "metadata": {},
   "outputs": [
    {
     "name": "stdout",
     "output_type": "stream",
     "text": [
      "{'name': 'Alice', 'age': 30, 'city': 'Tokyo'}\n"
     ]
    }
   ],
   "source": [
    "person = dict(name=\"Alice\", age=30, city=\"Tokyo\")\n",
    "print(person)"
   ]
  },
  {
   "cell_type": "markdown",
   "id": "ff940891",
   "metadata": {},
   "source": [
    "### ディクショナリの要素の参照\n",
    "\n",
    "ディクショナリでは、キーを使って対応する値を参照できます。\n",
    "リストと異なり、ディクショナリはインデックスではなくキーを使ってアクセスするため、非常に柔軟にデータを扱うことができます。\n",
    "今回は、ディクショナリの要素を参照する方法について学びましょう。\n",
    "\n",
    "__キーを使って値を取得する__\n",
    "\n",
    "ディクショナリの要素にアクセスする最も基本的な方法は、キーを使うことです。\n",
    "キーを指定して、対応する値を取得します。"
   ]
  },
  {
   "cell_type": "code",
   "execution_count": 28,
   "id": "b25ce1a6",
   "metadata": {},
   "outputs": [
    {
     "name": "stdout",
     "output_type": "stream",
     "text": [
      "Alice\n",
      "30\n",
      "Tokyo\n"
     ]
    }
   ],
   "source": [
    "person = {\n",
    "    \"name\": \"Alice\",\n",
    "    \"age\": 30,\n",
    "    \"city\": \"Tokyo\"\n",
    "}\n",
    "\n",
    "print(person[\"name\"])\n",
    "print(person[\"age\"])\n",
    "print(person[\"city\"])"
   ]
  },
  {
   "cell_type": "markdown",
   "id": "74efffff",
   "metadata": {},
   "source": [
    "このように、`person[\"name\"]` という形でキーを指定することで、対応する値を取得できます。\n",
    "もし、指定したキーが存在しない場合は、KeyError が発生します。"
   ]
  },
  {
   "cell_type": "code",
   "execution_count": 29,
   "id": "b1b2da6d",
   "metadata": {},
   "outputs": [
    {
     "ename": "KeyError",
     "evalue": "'unknown'",
     "output_type": "error",
     "traceback": [
      "\u001b[0;31m---------------------------------------------------------------------------\u001b[0m",
      "\u001b[0;31mKeyError\u001b[0m                                  Traceback (most recent call last)",
      "\u001b[0;32m/var/folders/lc/k7jt3gx9283453ptp9t9ty5m0000gn/T/ipykernel_26027/3585071311.py\u001b[0m in \u001b[0;36m<module>\u001b[0;34m\u001b[0m\n\u001b[0;32m----> 1\u001b[0;31m \u001b[0mperson\u001b[0m\u001b[0;34m[\u001b[0m\u001b[0;34m'unknown'\u001b[0m\u001b[0;34m]\u001b[0m\u001b[0;34m\u001b[0m\u001b[0;34m\u001b[0m\u001b[0m\n\u001b[0m",
      "\u001b[0;31mKeyError\u001b[0m: 'unknown'"
     ]
    }
   ],
   "source": [
    "person['unknown']"
   ]
  },
  {
   "cell_type": "markdown",
   "id": "8512e8b0",
   "metadata": {},
   "source": [
    "__`get()` メソッドを使って値を取得する__\n",
    "\n",
    "`get()` メソッドを使うと、キーが存在しない場合でもエラーを防ぐことができます。\n",
    "`get()` メソッドは、キーが見つかった場合は対応する値を返し、見つからなかった場合には指定したデフォルト値（省略すると None）を返します。"
   ]
  },
  {
   "cell_type": "code",
   "execution_count": 30,
   "id": "1c449aca",
   "metadata": {},
   "outputs": [
    {
     "name": "stdout",
     "output_type": "stream",
     "text": [
      "Alice\n",
      "Not available\n"
     ]
    }
   ],
   "source": [
    "person = {\n",
    "    \"name\": \"Alice\",\n",
    "    \"age\": 30,\n",
    "    \"city\": \"Tokyo\"\n",
    "}\n",
    "\n",
    "print(person.get(\"name\"))\n",
    "print(person.get(\"address\", \"Not available\"))"
   ]
  },
  {
   "cell_type": "markdown",
   "id": "99553a7b",
   "metadata": {},
   "source": [
    "`person.get(\"name\")` は、`\"name\"` に対応する値 `\"Alice\"` を返します。\n",
    "`person.get(\"address\", \"Not available\")` は、`\"address\"` キーがないため、デフォルトの `\"Not available\"` を返します。"
   ]
  },
  {
   "cell_type": "markdown",
   "id": "55e2a8ef",
   "metadata": {},
   "source": [
    "__キーが存在するか確認する (`in` 演算子)__\n",
    "\n",
    "ディクショナリのキーが存在するかどうかを確認するには、`in` 演算子を使います。\n",
    "もし指定したキーがディクショナリに存在すれば `True` を、存在しなければ `False` を返します。\n",
    "これを使えば、キーの存在確認を簡単に行うことができます。"
   ]
  },
  {
   "cell_type": "code",
   "execution_count": 31,
   "id": "413d438d",
   "metadata": {},
   "outputs": [
    {
     "name": "stdout",
     "output_type": "stream",
     "text": [
      "True\n",
      "False\n"
     ]
    }
   ],
   "source": [
    "person = {\n",
    "    \"name\": \"Alice\",\n",
    "    \"age\": 30,\n",
    "    \"city\": \"Tokyo\"\n",
    "}\n",
    "\n",
    "print(\"name\" in person)\n",
    "print(\"address\" in person) "
   ]
  },
  {
   "cell_type": "markdown",
   "id": "139d590c",
   "metadata": {},
   "source": [
    "__複数の要素を取得する（`items()` メソッド）__\n",
    "\n",
    "ディクショナリには、キーと値のペアを全て取得するための `items()` メソッドがあります。\n",
    "`items()` メソッドを使うと、ディクショナリ内のすべてのキーと値をタプルの形で取得できます。\n",
    "次のように、`for` ループを使ってディクショナリ内のすべてのキーと値を順に参照できます。"
   ]
  },
  {
   "cell_type": "code",
   "execution_count": 32,
   "id": "26ee4568",
   "metadata": {},
   "outputs": [
    {
     "name": "stdout",
     "output_type": "stream",
     "text": [
      "name Alice\n",
      "age 30\n",
      "city Tokyo\n"
     ]
    }
   ],
   "source": [
    "person = {\n",
    "    \"name\": \"Alice\",\n",
    "    \"age\": 30,\n",
    "    \"city\": \"Tokyo\"\n",
    "}\n",
    "\n",
    "for key, value in person.items():\n",
    "    print(key, value)"
   ]
  },
  {
   "cell_type": "markdown",
   "id": "4769db9b",
   "metadata": {},
   "source": [
    "__キーのリストを取得する（`keys()` メソッド）__\n",
    "\n",
    "`keys()` メソッドを使うと、ディクショナリ内のすべてのキーをリストとして取得することができます。\n",
    "取得されるのは、`dict_keys` という特殊なオブジェクトですが、リストのように扱えます。"
   ]
  },
  {
   "cell_type": "code",
   "execution_count": 33,
   "id": "b54cb304",
   "metadata": {},
   "outputs": [
    {
     "name": "stdout",
     "output_type": "stream",
     "text": [
      "dict_keys(['name', 'age', 'city'])\n",
      "<class 'dict_keys'>\n"
     ]
    }
   ],
   "source": [
    "person = {\n",
    "    \"name\": \"Alice\",\n",
    "    \"age\": 30,\n",
    "    \"city\": \"Tokyo\"\n",
    "}\n",
    "\n",
    "print(person.keys())\n",
    "print(type(person.keys()))"
   ]
  },
  {
   "cell_type": "markdown",
   "id": "b36528b5",
   "metadata": {},
   "source": [
    "__値のリストを取得する（`values()` メソッド）__\n",
    "\n",
    "`values()` メソッドを使うと、ディクショナリ内のすべての値をリストとして取得することができます。\n",
    "これも、`dict_values` というオブジェクトが返されますが、リストのように扱えます。"
   ]
  },
  {
   "cell_type": "code",
   "execution_count": 34,
   "id": "fc21a786",
   "metadata": {},
   "outputs": [
    {
     "name": "stdout",
     "output_type": "stream",
     "text": [
      "dict_values(['Alice', 30, 'Tokyo'])\n",
      "<class 'dict_values'>\n"
     ]
    }
   ],
   "source": [
    "person = {\n",
    "    \"name\": \"Alice\",\n",
    "    \"age\": 30,\n",
    "    \"city\": \"Tokyo\"\n",
    "}\n",
    "\n",
    "print(person.values())\n",
    "print(type(person.values()))"
   ]
  },
  {
   "cell_type": "markdown",
   "id": "c5ad95b5",
   "metadata": {},
   "source": [
    "__ディクショナリの要素の参照方法のまとめ__\n",
    "\n",
    "| 操作                              | 書き方                                | 説明                                |\n",
    "|:-|:-|:-|\n",
    "| キーを使って値を取得             | `person[\"name\"]`                    | キーを使って値を取得                 |\n",
    "| `get()` メソッドで値を取得       | `person.get(\"name\")`                | `get()` メソッドで値を取得（エラー回避） |\n",
    "| キーが存在するか確認 (`in` 演算子) | `\"name\" in person`                  | キーが存在するか確認                 |\n",
    "| `items()` メソッドで複数の要素を取得 | `person.items()`                    | キーと値のペアを全て取得             |\n",
    "| `keys()` メソッドでキーのリストを取得 | `person.keys()`                     | ディクショナリのキーを取得           |\n",
    "| `values()` メソッドで値のリストを取得 | `person.values()`                   | ディクショナリの値を取得             |"
   ]
  },
  {
   "cell_type": "markdown",
   "id": "343b1c64",
   "metadata": {},
   "source": [
    "### ディクショナリの要素の追加と変更\n",
    "\n",
    "ディクショナリに新しい要素を追加したり、既存の要素の値を変更する方法について解説します。\n",
    "ディクショナリは、キーと値のペアを管理しているため、簡単に要素を追加・変更できます。\n",
    "\n",
    "__要素の追加__\n",
    "\n",
    "ディクショナリに要素を追加するには、新しいキーを指定し、そのキーに対応する値を代入します。\n",
    "新しいキーを指定すると、そのキーと値のペアがディクショナリに追加されます。\n",
    "次の例では、`person[\"city\"] = \"Tokyo\"` という形で新しいキー `\"city\"` を追加しています。"
   ]
  },
  {
   "cell_type": "code",
   "execution_count": 35,
   "id": "06228d38",
   "metadata": {},
   "outputs": [
    {
     "name": "stdout",
     "output_type": "stream",
     "text": [
      "{'name': 'Alice', 'age': 30, 'city': 'Tokyo'}\n"
     ]
    }
   ],
   "source": [
    "person = {\n",
    "    \"name\": \"Alice\",\n",
    "    \"age\": 30\n",
    "}\n",
    "\n",
    "person[\"city\"] = \"Tokyo\"\n",
    "print(person)"
   ]
  },
  {
   "cell_type": "markdown",
   "id": "21aed4a8",
   "metadata": {},
   "source": [
    "__要素の変更__\n",
    "\n",
    "ディクショナリの要素を変更するには、既存のキーを指定して新しい値を代入します。\n",
    "もし指定したキーがすでに存在していれば、その値が新しい値に変更されます。\n",
    "次の例では、`\"age\"` の値が `30` から `31` に変更されています。"
   ]
  },
  {
   "cell_type": "code",
   "execution_count": 36,
   "id": "98f61bf6",
   "metadata": {},
   "outputs": [
    {
     "name": "stdout",
     "output_type": "stream",
     "text": [
      "{'name': 'Alice', 'age': 31, 'city': 'Tokyo'}\n"
     ]
    }
   ],
   "source": [
    "person = {\n",
    "    \"name\": \"Alice\",\n",
    "    \"age\": 30,\n",
    "    \"city\": \"Tokyo\"\n",
    "}\n",
    "\n",
    "person[\"age\"] = 31\n",
    "print(person)"
   ]
  },
  {
   "cell_type": "markdown",
   "id": "669cd323",
   "metadata": {},
   "source": [
    "__ディクショナリ内での更新（`update()` メソッド）__\n",
    "\n",
    "複数の要素を同時に追加したり変更したりするには、`update()` メソッドを使います。\n",
    "`update()` メソッドは、別のディクショナリやキーと値のペアを指定して、ディクショナリを更新することができます。"
   ]
  },
  {
   "cell_type": "code",
   "execution_count": 37,
   "id": "babc58e9",
   "metadata": {},
   "outputs": [
    {
     "name": "stdout",
     "output_type": "stream",
     "text": [
      "{'name': 'Alice', 'age': 31, 'city': 'Tokyo'}\n"
     ]
    }
   ],
   "source": [
    "person = {\n",
    "    \"name\": \"Alice\",\n",
    "    \"age\": 30\n",
    "}\n",
    "\n",
    "person.update({\"city\": \"Tokyo\", \"age\": 31})\n",
    "print(person)"
   ]
  },
  {
   "cell_type": "markdown",
   "id": "42f0a134",
   "metadata": {},
   "source": [
    "### ディクショナリの要素の削除\n",
    "\n",
    "ディクショナリから要素を削除する方法について解説します。\n",
    "ディクショナリでは、キーを使ってそのキーに対応する値を削除できます。\n",
    "\n",
    "__`del` を使った削除__\n",
    "\n",
    "`del` を使うことで、指定したキーをディクショナリから削除することができます。\n",
    "指定したキーが存在しない場合は、`KeyError` が発生します。\n",
    "次の例では、`\"city\"` キーを削除しています。"
   ]
  },
  {
   "cell_type": "code",
   "execution_count": 38,
   "id": "cb3e51d8",
   "metadata": {},
   "outputs": [
    {
     "name": "stdout",
     "output_type": "stream",
     "text": [
      "{'name': 'Alice', 'age': 30}\n"
     ]
    }
   ],
   "source": [
    "person = {\n",
    "    \"name\": \"Alice\",\n",
    "    \"age\": 30,\n",
    "    \"city\": \"Tokyo\"\n",
    "}\n",
    "\n",
    "del person[\"city\"]\n",
    "print(person)"
   ]
  },
  {
   "cell_type": "markdown",
   "id": "c0a42c60",
   "metadata": {},
   "source": [
    "__`pop()` メソッドを使った削除__\n",
    "\n",
    "`pop()` メソッドを使うことで、指定したキーに対応する値を削除すると同時に、その値を返すことができます。\n",
    "`pop()` メソッドを使うと、削除した値を取得できるため、削除した値が必要な場合に便利です。\n",
    "次の例では、`pop(\"age\")` で `\"age\"` キーを削除し、削除した値 `30` を返しています。"
   ]
  },
  {
   "cell_type": "code",
   "execution_count": 39,
   "id": "de9cfe1f",
   "metadata": {},
   "outputs": [
    {
     "name": "stdout",
     "output_type": "stream",
     "text": [
      "{'name': 'Alice', 'city': 'Tokyo'}\n",
      "30\n"
     ]
    }
   ],
   "source": [
    "person = {\n",
    "    \"name\": \"Alice\",\n",
    "    \"age\": 30,\n",
    "    \"city\": \"Tokyo\"\n",
    "}\n",
    "\n",
    "age = person.pop(\"age\")\n",
    "\n",
    "print(person)\n",
    "print(age)"
   ]
  },
  {
   "cell_type": "markdown",
   "id": "77b06500",
   "metadata": {},
   "source": [
    "__`popitem()` メソッドを使った削除__\n",
    "\n",
    "`popitem()` メソッドを使うと、ディクショナリから最後の要素（キーと値のペア）を削除することができます。\n",
    "これも削除したペアを返します。\n",
    "次の例では、ディクショナリの最後の要素（`\"city\": \"Tokyo\"`) を削除し、そのペアがタプルとして返されています。"
   ]
  },
  {
   "cell_type": "code",
   "execution_count": 40,
   "id": "da227831",
   "metadata": {},
   "outputs": [
    {
     "name": "stdout",
     "output_type": "stream",
     "text": [
      "{'name': 'Alice', 'age': 30}\n",
      "('city', 'Tokyo')\n"
     ]
    }
   ],
   "source": [
    "person = {\n",
    "    \"name\": \"Alice\",\n",
    "    \"age\": 30,\n",
    "    \"city\": \"Tokyo\"\n",
    "}\n",
    "\n",
    "item = person.popitem()\n",
    "\n",
    "print(person)\n",
    "print(item)"
   ]
  },
  {
   "cell_type": "markdown",
   "id": "e4152d78",
   "metadata": {},
   "source": [
    "__ディクショナリ要素の追加・変更・削除のまとめ__\n",
    "\n",
    "| 操作                         | 書き方                                              | 説明                                               |\n",
    "|:-|:-|:-|\n",
    "| 要素の追加                  | `person[\"city\"] = \"Tokyo\"`                        | 新しいキーと値のペアを追加                           |\n",
    "| 要素の変更                  | `person[\"age\"] = 31`                              | 既存のキーの値を変更                                 |\n",
    "| 複数の要素を追加・変更      | `person.update({\"city\": \"Tokyo\", \"age\": 31})`      | update() メソッドで複数の要素を一度に変更・追加     |\n",
    "| `del` を使った削除           | `del person[\"city\"]`                              | 指定したキーと対応する値を削除                       |\n",
    "| `pop()` メソッドを使った削除 | `person.pop(\"age\")`                               | 指定したキーを削除し、その値を返す                   |\n",
    "| `popitem()` メソッドを使った削除 | `person.popitem()`                              | 最後の要素（キーと値のペア）を削除し、そのペアを返す  |"
   ]
  },
  {
   "cell_type": "markdown",
   "id": "fe5106aa",
   "metadata": {},
   "source": [
    "# ディクショナリとリストの比較\n",
    "リストとディクショナリは、どちらもデータを格納するためのコンテナですが、それぞれの特徴にはいくつかの違いがあります。\n",
    "ここでは、リストとディクショナリを比較し、それぞれの適した使い方を理解しましょう。\n",
    "\n",
    "__1. データの格納方法__\n",
    "\n",
    "リストは、 インデックス（順番）を使ってデータを格納します。\n",
    "リストの要素は順番が重要で、インデックス番号（0, 1, 2, ...）でアクセスします。\n",
    "\n",
    "```python\n",
    "fruits = [\"apple\", \"banana\", \"cherry\"]\n",
    "print(fruits[0])  # \"apple\"\n",
    "```\n",
    "\n",
    "ディクショナリは、キーと値のペアでデータを格納します。\n",
    "ディクショナリではキーを使ってデータにアクセスしますが、順番は基本的に関係ありません（Python 3.7以降、挿入順序が保持されますが、それでも順番よりキーの意味が重要です）。\n",
    "\n",
    "```python\n",
    "person = {\"name\": \"Alice\", \"age\": 30, \"city\": \"Tokyo\"}\n",
    "print(person[\"name\"])  # \"Alice\"\n",
    "```\n",
    "\n",
    "__2. データへのアクセス方法__\n",
    "\n",
    "リストは、インデックス番号を使って要素にアクセスします。\n",
    "インデックスは整数であり、順番に依存しています。\n",
    "\n",
    "```python\n",
    "fruits = [\"apple\", \"banana\", \"cherry\"]\n",
    "print(fruits[1])  # \"banana\"\n",
    "```\n",
    "\n",
    "ディクショナリは、キーを使って値にアクセスします。\n",
    "キーは任意の **不変の型（文字列、整数、タプルなど）** であり、順番に依存せず、キーで明示的に指定して値を取得します。\n",
    "\n",
    "```python\n",
    "person = {\"name\": \"Alice\", \"age\": 30, \"city\": \"Tokyo\"}\n",
    "print(person[\"age\"])  # 30\n",
    "```\n",
    "\n",
    "__3. データの順序__\n",
    "\n",
    "リストは、要素が順番通り格納されます。\n",
    "インデックス番号に基づいて要素が並べられているため、順番が重要です。\n",
    "\n",
    "```python\n",
    "fruits = [\"apple\", \"banana\", \"cherry\"]\n",
    "print(fruits)  # ['apple', 'banana', 'cherry']\n",
    "```\n",
    "\n",
    "ディクショナリは、Python 3.7以降、挿入順序は保持されますが、順番に依存しません。\n",
    "ディクショナリでは、キーによって値にアクセスするため、順番に意味を持たせることは少ないです。\n",
    "\n",
    "```python\n",
    "person = {\"name\": \"Alice\", \"age\": 30, \"city\": \"Tokyo\"}\n",
    "print(person)  # {'name': 'Alice', 'age': 30, 'city': 'Tokyo'}\n",
    "```\n",
    "\n",
    "__4. データの格納目的__\n",
    "\n",
    "リストは、順序付きのデータが必要な場合に適しています。\n",
    "同じ種類のデータを順番に格納したい場合に便利です。例えば、商品リストや名前のリストなど。\n",
    "\n",
    "```python\n",
    "colors = [\"red\", \"green\", \"blue\"]\n",
    "```\n",
    "\n",
    "ディクショナリは、キーを使って特定のデータを迅速に取り出したい場合に適しています。\n",
    "名前と年齢、IDと名前など、キーと値の対応を持つデータを扱いたい場合に使います。\n",
    "\n",
    "```python\n",
    "person = {\"name\": \"Alice\", \"age\": 30}\n",
    "```\n",
    "\n",
    "__5. メモリ効率__\n",
    "\n",
    "リストは、順番に格納されたデータを扱うため、インデックスを使って要素にアクセスできますが、キーを使ってデータを探すことはできません。\n",
    "リストはメモリ的に効率的で、順番通りに要素を格納するシンプルなデータ構造です。\n",
    "\n",
    "ディクショナリは、キーと値のペアを格納するため、アクセスが高速ですが、キーに対するハッシュを使うため、リストよりもメモリを多く消費する場合があります。\n",
    "ディクショナリは、キーに基づいてデータを高速に検索できるため、大規模なデータに対して有効です。\n",
    "\n",
    "\n",
    "__まとめ__\n",
    "\n",
    "リストは、順序が重要なデータを扱うのに適しており、ディクショナリはキーと値の対応が重要なデータに適しています。それぞれの特徴を理解し、使い分けることで、より効果的にデータを管理できるようになります。\n",
    "次の表を参考に、リストとディクショナリを使い分けてデータを管理する方法を理解しましょう。\n",
    "\n",
    "| 特徴                   | リスト                          | ディクショナリ                    |\n",
    "|:-|:-|:-|\n",
    "| データの格納方法       | 順番に格納、インデックスを使用     | キーと値のペア、キーを使用       |\n",
    "| データのアクセス方法   | インデックス番号を使用            | キーを使用                       |\n",
    "| データの順序           | 順番通り（インデックス順）         | 挿入順序（Python 3.7以降）       |\n",
    "| 使用目的               | 順序を保持したデータの管理          | キーと値のペアで特定のデータを管理 |\n",
    "| メモリ効率             | 効率的（順番通りのデータ）         | キーと値にハッシュテーブルを使用  |"
   ]
  },
  {
   "cell_type": "markdown",
   "id": "81ef59d3",
   "metadata": {},
   "source": [
    "## タプルとセット\n",
    "\n",
    "### タプル\n",
    "\n",
    "**タプル（Tuple）** は、リストとよく似たデータ構造ですが、一度作成すると要素を変更できないという特徴を持っています。\n",
    "Pythonでは、カンマ区切りで `()` （丸括弧）を使ってタプルを作成します。"
   ]
  },
  {
   "cell_type": "code",
   "execution_count": 41,
   "id": "99641964",
   "metadata": {},
   "outputs": [
    {
     "name": "stdout",
     "output_type": "stream",
     "text": [
      "('apple', 'banana', 'cherry')\n"
     ]
    }
   ],
   "source": [
    "fruits = (\"apple\", \"banana\", \"cherry\")\n",
    "print(fruits)"
   ]
  },
  {
   "cell_type": "markdown",
   "id": "862d555f",
   "metadata": {},
   "source": [
    "#### タプルの特徴\n",
    "\n",
    "__1. 変更できない（イミュータブル）__\n",
    "\n",
    "タプルの最大の特徴は、「作成後に要素を変更できない（追加・削除・変更ができない）」ことです。\n",
    "リストとは異なり、タプルはデータの安全性を確保するために使われることが多いです。"
   ]
  },
  {
   "cell_type": "code",
   "execution_count": 42,
   "id": "ce537872",
   "metadata": {},
   "outputs": [
    {
     "ename": "TypeError",
     "evalue": "'tuple' object does not support item assignment",
     "output_type": "error",
     "traceback": [
      "\u001b[0;31m---------------------------------------------------------------------------\u001b[0m",
      "\u001b[0;31mTypeError\u001b[0m                                 Traceback (most recent call last)",
      "\u001b[0;32m/var/folders/lc/k7jt3gx9283453ptp9t9ty5m0000gn/T/ipykernel_26027/2931223264.py\u001b[0m in \u001b[0;36m<module>\u001b[0;34m\u001b[0m\n\u001b[1;32m      1\u001b[0m \u001b[0mfruits\u001b[0m \u001b[0;34m=\u001b[0m \u001b[0;34m(\u001b[0m\u001b[0;34m\"apple\"\u001b[0m\u001b[0;34m,\u001b[0m \u001b[0;34m\"banana\"\u001b[0m\u001b[0;34m,\u001b[0m \u001b[0;34m\"cherry\"\u001b[0m\u001b[0;34m)\u001b[0m\u001b[0;34m\u001b[0m\u001b[0;34m\u001b[0m\u001b[0m\n\u001b[0;32m----> 2\u001b[0;31m \u001b[0mfruits\u001b[0m\u001b[0;34m[\u001b[0m\u001b[0;36m0\u001b[0m\u001b[0;34m]\u001b[0m \u001b[0;34m=\u001b[0m \u001b[0;34m\"grape\"\u001b[0m \u001b[0;31m# エラー\u001b[0m\u001b[0;34m\u001b[0m\u001b[0;34m\u001b[0m\u001b[0m\n\u001b[0m",
      "\u001b[0;31mTypeError\u001b[0m: 'tuple' object does not support item assignment"
     ]
    }
   ],
   "source": [
    "fruits = (\"apple\", \"banana\", \"cherry\")\n",
    "fruits[0] = \"grape\" # エラー"
   ]
  },
  {
   "cell_type": "markdown",
   "id": "5115a1b1",
   "metadata": {},
   "source": [
    "__2. リストと同じようにインデックスでアクセスできる__\n",
    "\n",
    "タプルの各要素には、リストと同じようにインデックスを使ってアクセスできます。"
   ]
  },
  {
   "cell_type": "code",
   "execution_count": 43,
   "id": "9f20ae4d",
   "metadata": {},
   "outputs": [
    {
     "name": "stdout",
     "output_type": "stream",
     "text": [
      "apple\n",
      "banana\n"
     ]
    }
   ],
   "source": [
    "fruits = (\"apple\", \"banana\", \"cherry\")\n",
    "print(fruits[0])\n",
    "print(fruits[1]) "
   ]
  },
  {
   "cell_type": "markdown",
   "id": "dcc5dfd0",
   "metadata": {},
   "source": [
    "インデックスの仕組みもリストと同じで、負のインデックス `-1` を使うこともできます。"
   ]
  },
  {
   "cell_type": "code",
   "execution_count": 44,
   "id": "c08b6bb4",
   "metadata": {},
   "outputs": [
    {
     "name": "stdout",
     "output_type": "stream",
     "text": [
      "cherry\n"
     ]
    }
   ],
   "source": [
    "print(fruits[-1]) "
   ]
  },
  {
   "cell_type": "markdown",
   "id": "d932bd10",
   "metadata": {},
   "source": [
    "__3. 複数のデータ型を含めることができる__\n",
    "\n",
    "タプルの要素は、異なるデータ型を含めることが可能です。"
   ]
  },
  {
   "cell_type": "code",
   "execution_count": 45,
   "id": "d902ee87",
   "metadata": {},
   "outputs": [
    {
     "name": "stdout",
     "output_type": "stream",
     "text": [
      "('Alice', 30, True)\n"
     ]
    }
   ],
   "source": [
    "person = (\"Alice\", 30, True)\n",
    "print(person)"
   ]
  },
  {
   "cell_type": "markdown",
   "id": "5cb883b6",
   "metadata": {},
   "source": [
    "__4. 要素の個数を取得できる__\n",
    "\n",
    "タプルの長さ（要素の数）は `len()` を使って取得できます。"
   ]
  },
  {
   "cell_type": "code",
   "execution_count": 46,
   "id": "369e8e67",
   "metadata": {},
   "outputs": [
    {
     "name": "stdout",
     "output_type": "stream",
     "text": [
      "3\n"
     ]
    }
   ],
   "source": [
    "fruits = (\"apple\", \"banana\", \"cherry\")\n",
    "print(len(fruits)) "
   ]
  },
  {
   "cell_type": "markdown",
   "id": "c1b494ed",
   "metadata": {},
   "source": [
    "__5. 要素の検索（`in` を使用）__\n",
    "\n",
    "タプルの中に特定の要素が含まれているかどうかを調べるには、`in` を使います。"
   ]
  },
  {
   "cell_type": "code",
   "execution_count": 47,
   "id": "bff6ed04",
   "metadata": {},
   "outputs": [
    {
     "name": "stdout",
     "output_type": "stream",
     "text": [
      "True\n",
      "False\n"
     ]
    }
   ],
   "source": [
    "fruits = (\"apple\", \"banana\", \"cherry\")\n",
    "print(\"banana\" in fruits)\n",
    "print(\"grape\" in fruits)"
   ]
  },
  {
   "cell_type": "markdown",
   "id": "fa67683e",
   "metadata": {},
   "source": [
    "__6. タプルの利点__\n",
    "\n",
    "タプルには以下のような利点があります。\n",
    "\n",
    "| **利点**                 | **説明**                                      |\n",
    "|:-|:-|\n",
    "| **データの安全性**       | 変更できないため、意図しないデータ変更を防げる |\n",
    "| **メモリ効率が良い**     | リストよりも軽量で、処理速度が速い場合がある   |\n",
    "| **辞書のキーとして使える** | イミュータブル（変更不可）なため、辞書のキーとして利用可能 |\n",
    "| **プログラムの可読性向上** | 変更しないデータであることが明示でき、可読性が上がる |\n",
    "\n",
    "__7. タプルの作成方法__\n",
    "\n",
    "タプルの基本的な作成方法は、丸括弧 `()` を使うか、カンマ区切りで要素を記述するだけです。"
   ]
  },
  {
   "cell_type": "code",
   "execution_count": 48,
   "id": "dc1ec6d8",
   "metadata": {},
   "outputs": [
    {
     "name": "stdout",
     "output_type": "stream",
     "text": [
      "(1, 2, 3, 4, 5)\n",
      "('red', 'green', 'blue')\n",
      "('apple',)\n"
     ]
    }
   ],
   "source": [
    "# 丸括弧を使う\n",
    "numbers = (1, 2, 3, 4, 5)\n",
    "print(numbers)\n",
    "\n",
    "# カンマ区切りだけ（括弧なしでもOK）\n",
    "colors = \"red\", \"green\", \"blue\"\n",
    "print(colors)\n",
    "\n",
    "# 1つの要素のタプル（カンマが必要）\n",
    "single = (\"apple\",)  # カンマがないと単なる文字列と認識される\n",
    "print(single)"
   ]
  },
  {
   "cell_type": "markdown",
   "id": "e5589589",
   "metadata": {},
   "source": [
    "### セット\n",
    "\n",
    "**セット（Set）** は、重複する要素を持たない という特徴を持つデータ構造です。\n",
    "数学の「集合」と同じように扱うことができ、重複したデータを自動的に削除する便利な機能を持っています。\n",
    "\n",
    "Pythonでは、波括弧 `{}` を使ってセットを作成します。\n",
    "\n",
    "セットは、リストやタプルとは異なり要素の順序を保持しないため、表示順が変わることがあります。"
   ]
  },
  {
   "cell_type": "code",
   "execution_count": 49,
   "id": "14b5de4f",
   "metadata": {},
   "outputs": [
    {
     "name": "stdout",
     "output_type": "stream",
     "text": [
      "{'apple', 'cherry', 'banana'}\n"
     ]
    }
   ],
   "source": [
    "fruits = {\"apple\", \"banana\", \"cherry\"}\n",
    "print(fruits) "
   ]
  },
  {
   "cell_type": "markdown",
   "id": "6c8a2678",
   "metadata": {},
   "source": [
    "__セットの特徴__\n",
    "\n",
    "__1. 重複する要素を持たない__\n",
    "\n",
    "セットに同じ値を複数入れても、自動的に1つだけになります。"
   ]
  },
  {
   "cell_type": "code",
   "execution_count": 50,
   "id": "35ec4fb2",
   "metadata": {},
   "outputs": [
    {
     "name": "stdout",
     "output_type": "stream",
     "text": [
      "{1, 2, 3, 4, 5}\n"
     ]
    }
   ],
   "source": [
    "numbers = {1, 2, 2, 3, 4, 4, 5}\n",
    "print(numbers) "
   ]
  },
  {
   "cell_type": "markdown",
   "id": "ded0f6f5",
   "metadata": {},
   "source": [
    "__2. 順序を保持しない__\n",
    "\n",
    "セットの要素は、追加した順番通りに並ばない ため、インデックスを使った要素の参照ができません。"
   ]
  },
  {
   "cell_type": "code",
   "execution_count": 51,
   "id": "1f69e3a4",
   "metadata": {},
   "outputs": [
    {
     "ename": "TypeError",
     "evalue": "'set' object is not subscriptable",
     "output_type": "error",
     "traceback": [
      "\u001b[0;31m---------------------------------------------------------------------------\u001b[0m",
      "\u001b[0;31mTypeError\u001b[0m                                 Traceback (most recent call last)",
      "\u001b[0;32m/var/folders/lc/k7jt3gx9283453ptp9t9ty5m0000gn/T/ipykernel_26027/3039682563.py\u001b[0m in \u001b[0;36m<module>\u001b[0;34m\u001b[0m\n\u001b[1;32m      1\u001b[0m \u001b[0mfruits\u001b[0m \u001b[0;34m=\u001b[0m \u001b[0;34m{\u001b[0m\u001b[0;34m\"apple\"\u001b[0m\u001b[0;34m,\u001b[0m \u001b[0;34m\"banana\"\u001b[0m\u001b[0;34m,\u001b[0m \u001b[0;34m\"cherry\"\u001b[0m\u001b[0;34m}\u001b[0m\u001b[0;34m\u001b[0m\u001b[0;34m\u001b[0m\u001b[0m\n\u001b[0;32m----> 2\u001b[0;31m \u001b[0mprint\u001b[0m\u001b[0;34m(\u001b[0m\u001b[0mfruits\u001b[0m\u001b[0;34m[\u001b[0m\u001b[0;36m0\u001b[0m\u001b[0;34m]\u001b[0m\u001b[0;34m)\u001b[0m  \u001b[0;31m# エラー（\u001b[0m\u001b[0;34m\u001b[0m\u001b[0;34m\u001b[0m\u001b[0m\n\u001b[0m",
      "\u001b[0;31mTypeError\u001b[0m: 'set' object is not subscriptable"
     ]
    }
   ],
   "source": [
    "fruits = {\"apple\", \"banana\", \"cherry\"}\n",
    "print(fruits[0])  # エラー（"
   ]
  },
  {
   "cell_type": "markdown",
   "id": "5ff454b2",
   "metadata": {},
   "source": [
    "__3. 集合演算（和・積・差）ができる__\n",
    "\n",
    "セットは数学の集合と同じように、和集合・積集合・差集合 の演算が可能です。"
   ]
  },
  {
   "cell_type": "code",
   "execution_count": 52,
   "id": "f220132e",
   "metadata": {},
   "outputs": [
    {
     "name": "stdout",
     "output_type": "stream",
     "text": [
      "{1, 2, 3, 4, 5, 6}\n",
      "{3, 4}\n",
      "{1, 2}\n",
      "{1, 2, 5, 6}\n"
     ]
    }
   ],
   "source": [
    "A = {1, 2, 3, 4}\n",
    "B = {3, 4, 5, 6}\n",
    "\n",
    "# 和集合（A ∪ B）\n",
    "print(A | B)\n",
    "\n",
    "# 積集合（A ∩ B）\n",
    "print(A & B)\n",
    "\n",
    "# 差集合（A - B）\n",
    "print(A - B)\n",
    "\n",
    "# 対称差集合（A △ B）\n",
    "print(A ^ B)"
   ]
  },
  {
   "cell_type": "markdown",
   "id": "10d7e8b7",
   "metadata": {},
   "source": [
    "__4. 要素の追加・削除ができる__\n",
    "\n",
    "セットには `add()` で要素を追加し、`remove()` や `discard()` で要素を削除できます。"
   ]
  },
  {
   "cell_type": "code",
   "execution_count": 53,
   "id": "b1aa8d79",
   "metadata": {},
   "outputs": [
    {
     "name": "stdout",
     "output_type": "stream",
     "text": [
      "{'apple', 'cherry', 'banana'}\n",
      "{'apple', 'cherry'}\n"
     ]
    }
   ],
   "source": [
    "fruits = {\"apple\", \"banana\"}\n",
    "fruits.add(\"cherry\")  # 要素を追加\n",
    "print(fruits) \n",
    "\n",
    "fruits.remove(\"banana\")  # 要素を削除\n",
    "print(fruits) "
   ]
  },
  {
   "cell_type": "markdown",
   "id": "3007d214",
   "metadata": {},
   "source": [
    "__セットの作成方法__\n",
    "\n",
    "セットを作る方法はいくつかあります。\n",
    "\n",
    "__1. 波括弧 `{}` を使う__\n",
    "\n",
    "```python\n",
    "numbers = {1, 2, 3, 4, 5}\n",
    "print(numbers)  # {1, 2, 3, 4, 5}\n",
    "```\n",
    "\n",
    "__2. set() を使う__\n",
    "\n",
    "リストやタプルからセットを作成することもできます。\n",
    "\n",
    "```python\n",
    "list_numbers = [1, 2, 2, 3, 4]\n",
    "set_numbers = set(list_numbers)\n",
    "print(set_numbers)  # {1, 2, 3, 4}\n",
    "```\n",
    "\n",
    "注意: 空のセットを作るときは `{}` ではなく、`set()` を使います。\n",
    "`{}` は空の辞書（ディクショナリ）として認識されます。\n",
    "\n",
    "```python\n",
    "empty_set = set()  # 空のセット\n",
    "empty_dict = {}    # 空の辞書\n",
    "print(type(empty_set))  # <class 'set'>\n",
    "print(type(empty_dict))  # <class 'dict'>\n",
    "```"
   ]
  },
  {
   "cell_type": "markdown",
   "id": "ad159380",
   "metadata": {},
   "source": [
    "## コンテナの応用\n",
    "\n",
    "### コンテナの相互変換\n",
    "\n",
    "Pythonでは、リスト（`list`）、タプル（`tuple`）、セット（`set`）、ディクショナリ（`dict`） などのコンテナ同士を相互に変換することができます。\n",
    "データの特性に応じて適切なコンテナを選択し、柔軟に使い分けるために重要なテクニックです。\n",
    "\n",
    "__1. リスト ⇔ タプル の変換__\n",
    "\n",
    "リストとタプルは、`list()` や `tuple()` を使って簡単に変換できます。\n",
    "\n",
    "使い分け：\n",
    "- リスト は変更可能（ミュータブル）で、データの追加・削除ができる\n",
    "- タプル は変更不可（イミュータブル）で、安全性が高い"
   ]
  },
  {
   "cell_type": "code",
   "execution_count": 54,
   "id": "39394062",
   "metadata": {},
   "outputs": [
    {
     "name": "stdout",
     "output_type": "stream",
     "text": [
      "(1, 2, 3)\n",
      "[4, 5, 6]\n"
     ]
    }
   ],
   "source": [
    "# リスト → タプル\n",
    "numbers_list = [1, 2, 3]\n",
    "numbers_tuple = tuple(numbers_list)\n",
    "print(numbers_tuple)\n",
    "\n",
    "# タプル → リスト\n",
    "numbers_tuple = (4, 5, 6)\n",
    "numbers_list = list(numbers_tuple)\n",
    "print(numbers_list)"
   ]
  },
  {
   "cell_type": "markdown",
   "id": "5b857f37",
   "metadata": {},
   "source": [
    "__2. リスト ⇔ セット の変換__\n",
    "\n",
    "セットに変換すると重複が自動的に削除されます。\n",
    "\n",
    "使い分け:\n",
    "- リスト は順序を保持するが、重複を許す\n",
    "- セット は順序を保持しないが、重複を削除する"
   ]
  },
  {
   "cell_type": "code",
   "execution_count": 55,
   "id": "918db499",
   "metadata": {},
   "outputs": [
    {
     "name": "stdout",
     "output_type": "stream",
     "text": [
      "{1, 2, 3, 4, 5}\n",
      "[1, 2, 3, 4, 5]\n"
     ]
    }
   ],
   "source": [
    "# リスト → セット（重複削除）\n",
    "numbers_list = [1, 2, 2, 3, 4, 4, 5]\n",
    "numbers_set = set(numbers_list)\n",
    "print(numbers_set)\n",
    "\n",
    "# セット → リスト（順序がなくなる可能性あり）\n",
    "numbers_list = list(numbers_set)\n",
    "print(numbers_list) "
   ]
  },
  {
   "cell_type": "markdown",
   "id": "92984952",
   "metadata": {},
   "source": [
    "__3. リスト ⇔ ディクショナリ の変換__\n",
    "\n",
    "リストとディクショナリは構造が異なるため、リストをキーと値のペアに変換する必要があります。\n",
    "\n",
    "使い分け:\n",
    "- リスト は単純なデータの並びに適している\n",
    "- ディクショナリ はキーと値の関係を管理するのに適している"
   ]
  },
  {
   "cell_type": "code",
   "execution_count": 56,
   "id": "7ea7a6a9",
   "metadata": {},
   "outputs": [
    {
     "name": "stdout",
     "output_type": "stream",
     "text": [
      "{'apple': 100, 'banana': 200, 'cherry': 300}\n",
      "['apple', 'banana', 'cherry']\n",
      "[100, 200, 300]\n"
     ]
    }
   ],
   "source": [
    "# リスト（タプルのリスト） → ディクショナリ\n",
    "pairs = [(\"apple\", 100), (\"banana\", 200), (\"cherry\", 300)]\n",
    "fruits_dict = dict(pairs)\n",
    "print(fruits_dict)\n",
    "\n",
    "# ディクショナリ → リスト（キーや値のリストに）\n",
    "keys_list = list(fruits_dict.keys())\n",
    "values_list = list(fruits_dict.values())\n",
    "\n",
    "print(keys_list)\n",
    "print(values_list)"
   ]
  },
  {
   "cell_type": "markdown",
   "id": "e3bc80a5",
   "metadata": {},
   "source": [
    "__コンテナの相互変換のまとめ__\n",
    "\n",
    "コンテナの相互変換を活用することで、データを適切な形に整え、効率的に処理できます。\n",
    "\n",
    "| **変換元** → **変換先** | **変換方法** |\n",
    "|:-|:-:|\n",
    "| リスト → タプル | `tuple(list_data)` |\n",
    "| タプル → リスト | `list(tuple_data)` |\n",
    "| リスト → セット | `set(list_data)` |\n",
    "| セット → リスト | `list(set_data)` |\n",
    "| リスト → 辞書 | `dict(list_of_tuples)` |\n",
    "| 辞書 → リスト（キー） | `list(dict.keys())` |\n",
    "| 辞書 → リスト（値） | `list(dict.values())` |"
   ]
  },
  {
   "cell_type": "markdown",
   "id": "3f5ddb0f",
   "metadata": {},
   "source": [
    "### コンテナのリスト\n",
    "\n",
    "コンテナのネスト（入れ子） とは、リストの中にリストを入れる、ディクショナリの中にリストを入れる など、\n",
    "異なるデータ構造を組み合わせて使うことを指します。\n",
    "ネストを活用することで、より複雑なデータを整理・管理しやすくなります。\n",
    "\n",
    "__1. リストのネスト__\n",
    "\n",
    "リストの中にリストを含めると、2次元リスト（リストのリスト） を作ることができます。"
   ]
  },
  {
   "cell_type": "code",
   "execution_count": 57,
   "id": "04519898",
   "metadata": {},
   "outputs": [
    {
     "name": "stdout",
     "output_type": "stream",
     "text": [
      "[1, 2, 3]\n",
      "2\n"
     ]
    }
   ],
   "source": [
    "matrix = [\n",
    "    [1, 2, 3],\n",
    "    [4, 5, 6],\n",
    "    [7, 8, 9]\n",
    "]\n",
    "\n",
    "print(matrix[0])\n",
    "print(matrix[0][1])"
   ]
  },
  {
   "cell_type": "markdown",
   "id": "c2d44df6",
   "metadata": {},
   "source": [
    "応用：リストのリストを使うことで、表（テーブル）データ を扱えます。\n",
    "\n",
    "```python\n",
    "students = [\n",
    "    [\"Alice\", 85, 90, 88], \n",
    "    [\"Bob\", 78, 92, 80], \n",
    "    [\"Charlie\", 90, 85, 95]\n",
    "]\n",
    "\n",
    "# Bobの2つ目の点数を取得\n",
    "print(students[1][2])  # 92\n",
    "```\n",
    "\n",
    "__2. ディクショナリのネスト__\n",
    "\n",
    "ディクショナリの中にリストや別のディクショナリを入れることで、\n",
    "データをより意味のある形で整理 できます。"
   ]
  },
  {
   "cell_type": "code",
   "execution_count": 58,
   "id": "7e41abc5",
   "metadata": {},
   "outputs": [
    {
     "name": "stdout",
     "output_type": "stream",
     "text": [
      "92\n"
     ]
    }
   ],
   "source": [
    "student_scores = {\n",
    "    \"Alice\": {\"math\": 85, \"english\": 90, \"science\": 88},\n",
    "    \"Bob\": {\"math\": 78, \"english\": 92, \"science\": 80},\n",
    "    \"Charlie\": {\"math\": 90, \"english\": 85, \"science\": 95}\n",
    "}\n",
    "\n",
    "print(student_scores[\"Bob\"][\"english\"])"
   ]
  },
  {
   "cell_type": "markdown",
   "id": "5e7d14a5",
   "metadata": {},
   "source": [
    "応用：辞書をリストに入れることで、複数のデータを扱いやすく なります。\n",
    "\n",
    "```python\n",
    "employees = [\n",
    "    {\"name\": \"Alice\", \"age\": 25, \"department\": \"HR\"},\n",
    "    {\"name\": \"Bob\", \"age\": 30, \"department\": \"IT\"},\n",
    "    {\"name\": \"Charlie\", \"age\": 28, \"department\": \"Finance\"}\n",
    "]\n",
    "\n",
    "# Bobの部署を取得\n",
    "print(employees[1][\"department\"])  # IT\n",
    "```\n",
    "\n",
    "__3. セットのネスト__\n",
    "\n",
    "セットはネストできない（リストや辞書のように入れ子にできない）ため、\n",
    "セットの中にセットを入れることはできません。\n",
    "\n",
    "理由：\n",
    "セットは「変更できない（ミュータブル）データ型」を要素として持てないため、セットの中にセットを入れることは不可。"
   ]
  },
  {
   "cell_type": "code",
   "execution_count": 59,
   "id": "c9e5c14a",
   "metadata": {},
   "outputs": [
    {
     "ename": "TypeError",
     "evalue": "unhashable type: 'set'",
     "output_type": "error",
     "traceback": [
      "\u001b[0;31m---------------------------------------------------------------------------\u001b[0m",
      "\u001b[0;31mTypeError\u001b[0m                                 Traceback (most recent call last)",
      "\u001b[0;32m/var/folders/lc/k7jt3gx9283453ptp9t9ty5m0000gn/T/ipykernel_26027/1420277885.py\u001b[0m in \u001b[0;36m<module>\u001b[0;34m\u001b[0m\n\u001b[0;32m----> 1\u001b[0;31m \u001b[0mset_a\u001b[0m \u001b[0;34m=\u001b[0m \u001b[0;34m{\u001b[0m\u001b[0;36m1\u001b[0m\u001b[0;34m,\u001b[0m \u001b[0;36m2\u001b[0m\u001b[0;34m,\u001b[0m \u001b[0;34m{\u001b[0m\u001b[0;36m3\u001b[0m\u001b[0;34m,\u001b[0m \u001b[0;36m4\u001b[0m\u001b[0;34m}\u001b[0m\u001b[0;34m}\u001b[0m  \u001b[0;31m# エラー\u001b[0m\u001b[0;34m\u001b[0m\u001b[0;34m\u001b[0m\u001b[0m\n\u001b[0m",
      "\u001b[0;31mTypeError\u001b[0m: unhashable type: 'set'"
     ]
    }
   ],
   "source": [
    "set_a = {1, 2, {3, 4}}  # エラー"
   ]
  },
  {
   "cell_type": "markdown",
   "id": "e5155c4e",
   "metadata": {},
   "source": [
    "__4. ネストしたデータのアクセス__\n",
    "\n",
    "ネストしたコンテナのデータにアクセスするときは、インデックスやキーを順に指定 します。"
   ]
  },
  {
   "cell_type": "code",
   "execution_count": 60,
   "id": "45d1cd47",
   "metadata": {},
   "outputs": [
    {
     "name": "stdout",
     "output_type": "stream",
     "text": [
      "6\n",
      "85\n"
     ]
    }
   ],
   "source": [
    "matrix = [\n",
    "    [1, 2, 3],\n",
    "    [4, 5, 6],\n",
    "    [7, 8, 9]\n",
    "]\n",
    "print(matrix[1][2])\n",
    "\n",
    "student_scores = {\n",
    "    \"Alice\": {\"math\": 85, \"english\": 90},\n",
    "    \"Bob\": {\"math\": 78, \"english\": 92}\n",
    "}\n",
    "print(student_scores[\"Alice\"][\"math\"])"
   ]
  },
  {
   "cell_type": "markdown",
   "id": "c40fb902",
   "metadata": {},
   "source": [
    "### 集合演算\n",
    "\n",
    "Pythonの `set（セット）`は、集合を扱うためのデータ構造です。\n",
    "セットを使うと、数学的な集合演算（和・積・差・対称差など）を簡単に実行できます。\n",
    "\n",
    "__1. 集合の基本操作__\n",
    "\n",
    "セット（`set`）は重複しない要素の集まりです。\n",
    "\n",
    "```python\n",
    "A = {1, 2, 3, 4, 5}\n",
    "B = {3, 4, 5, 6, 7}\n",
    "\n",
    "print(A)  # {1, 2, 3, 4, 5}\n",
    "print(B)  # {3, 4, 5, 6, 7}\n",
    "```\n",
    "\n",
    "__2. 集合演算の種類__\n",
    "\n",
    "| **演算の種類** | **記号** | **メソッド** | **意味** |\n",
    "|:-:|:-:|:-:|:-|\n",
    "| **和集合**   | `A | B` | `A.union(B)` | AとBのすべての要素（重複なし） |\n",
    "| **積集合**   | `A & B` | `A.intersection(B)` | AとBの共通する要素 |\n",
    "| **差集合**   | `A - B` | `A.difference(B)` | AにあってBにない要素 |\n",
    "| **対称差**   | `A ^ B` | `A.symmetric_difference(B)` | AとBのどちらか一方にある要素 |\n",
    "| **部分集合** | `A <= B` | `A.issubset(B)` | AがBの一部であるか |\n",
    "| **超集合**   | `A >= B` | `A.issuperset(B)` | BがAを含んでいるか |\n",
    "\n",
    "\n",
    "__3. 各演算の具体例__\n",
    "\n",
    "__(1) 和集合（`union`）__\n",
    "\n",
    "両方の集合の要素をすべて集め、重複を取り除く。"
   ]
  },
  {
   "cell_type": "code",
   "execution_count": 61,
   "id": "e07fcae7",
   "metadata": {},
   "outputs": [
    {
     "name": "stdout",
     "output_type": "stream",
     "text": [
      "{1, 2, 3, 4, 5, 6, 7}\n",
      "{1, 2, 3, 4, 5, 6, 7}\n"
     ]
    }
   ],
   "source": [
    "A = {1, 2, 3, 4, 5}\n",
    "B = {3, 4, 5, 6, 7}\n",
    "\n",
    "print(A | B)\n",
    "print(A.union(B))  "
   ]
  },
  {
   "cell_type": "markdown",
   "id": "8fbe25fb",
   "metadata": {},
   "source": [
    "__(2) 積集合（`intersection`）__\n",
    "\n",
    "両方の集合に共通する要素のみを取り出す。"
   ]
  },
  {
   "cell_type": "code",
   "execution_count": 62,
   "id": "561aecc8",
   "metadata": {},
   "outputs": [
    {
     "name": "stdout",
     "output_type": "stream",
     "text": [
      "{3, 4, 5}\n",
      "{3, 4, 5}\n"
     ]
    }
   ],
   "source": [
    "print(A & B)\n",
    "print(A.intersection(B))"
   ]
  },
  {
   "cell_type": "markdown",
   "id": "e7da48fb",
   "metadata": {},
   "source": [
    "__(3) 差集合（`difference`）__\n",
    "\n",
    "片方の集合にあって、もう片方の集合にはない要素を取り出す。"
   ]
  },
  {
   "cell_type": "code",
   "execution_count": 63,
   "id": "7c5c6060",
   "metadata": {},
   "outputs": [
    {
     "name": "stdout",
     "output_type": "stream",
     "text": [
      "{1, 2}\n",
      "{1, 2}\n",
      "{6, 7}\n",
      "{6, 7}\n"
     ]
    }
   ],
   "source": [
    "print(A - B)\n",
    "print(A.difference(B))\n",
    "\n",
    "print(B - A)\n",
    "print(B.difference(A))"
   ]
  },
  {
   "cell_type": "markdown",
   "id": "ab2afecb",
   "metadata": {},
   "source": [
    "__(4) 対称差（`symmetric difference`）__\n",
    "\n",
    "片方の集合にだけある要素を取り出す（共通部分を除く）。"
   ]
  },
  {
   "cell_type": "code",
   "execution_count": 64,
   "id": "58734a1d",
   "metadata": {},
   "outputs": [
    {
     "name": "stdout",
     "output_type": "stream",
     "text": [
      "{1, 2, 6, 7}\n",
      "{1, 2, 6, 7}\n"
     ]
    }
   ],
   "source": [
    "print(A ^ B)\n",
    "print(A.symmetric_difference(B)) "
   ]
  },
  {
   "cell_type": "markdown",
   "id": "6df1fa00",
   "metadata": {},
   "source": [
    "__4. 集合演算の応用__\n",
    "\n",
    "__(1) 重複を削除__\n",
    "\n",
    "リストから重複を削除するには、`set()` を使う。"
   ]
  },
  {
   "cell_type": "code",
   "execution_count": 65,
   "id": "80021f20",
   "metadata": {},
   "outputs": [
    {
     "name": "stdout",
     "output_type": "stream",
     "text": [
      "{1, 2, 3, 4, 5, 6}\n"
     ]
    }
   ],
   "source": [
    "numbers = [1, 2, 2, 3, 4, 4, 5, 5, 6]\n",
    "unique_numbers = set(numbers)\n",
    "\n",
    "print(unique_numbers)"
   ]
  },
  {
   "cell_type": "markdown",
   "id": "e2d30581",
   "metadata": {},
   "source": [
    "__(2) 部分集合（`subset`）と超集合（`superset`）__\n",
    "\n",
    "ある集合が別の集合の一部かどうかを判定する。"
   ]
  },
  {
   "cell_type": "code",
   "execution_count": 66,
   "id": "62ec70f7",
   "metadata": {},
   "outputs": [
    {
     "name": "stdout",
     "output_type": "stream",
     "text": [
      "True\n",
      "True\n",
      "True\n",
      "True\n"
     ]
    }
   ],
   "source": [
    "A = {1, 2, 3}\n",
    "B = {1, 2, 3, 4, 5}\n",
    "\n",
    "print(A <= B)   # True（AはBの部分集合）\n",
    "print(A.issubset(B))\n",
    "\n",
    "print(B >= A)   # True（BはAの超集合）\n",
    "print(B.issuperset(A)) "
   ]
  },
  {
   "cell_type": "markdown",
   "id": "c9306866",
   "metadata": {},
   "source": [
    "### 集合演算のまとめ\n",
    "\n",
    "| **演算** | **方法（記号）** | **方法（メソッド）** | **説明** |\n",
    "|:-:|:-:|:-:|:-|\n",
    "| **和集合** | `A | B` | `A.union(B)` | AとBのすべての要素（重複なし） |\n",
    "| **積集合** | `A & B` | `A.intersection(B)` | AとBの共通する要素 |\n",
    "| **差集合** | `A - B` | `A.difference(B)` | AにあってBにない要素 |\n",
    "| **対称差** | `A ^ B` | `A.symmetric_difference(B)` | AまたはBのみにある要素 |\n",
    "| **部分集合** | `A <= B` | `A.issubset(B)` | AがBの一部であるか |\n",
    "| **超集合** | `A >= B` | `A.issuperset(B)` | BがAを含んでいるか |\n"
   ]
  },
  {
   "cell_type": "markdown",
   "id": "56c081f0",
   "metadata": {},
   "source": [
    "## この章のまとめ\n",
    "\n",
    "本章では、データを整理・管理するための「コンテナ」について学びました。\n",
    "\n",
    "### 1. 変数が持つ不便さ\n",
    "\n",
    "- 変数は1つの値しか保持できず、多くのデータを扱うのに不便。\n",
    "- より効率的なデータ管理のために「リスト」「ディクショナリ」「タプル」「セット」といったコンテナを活用する。\n",
    "\n",
    "### 2. リスト\n",
    "\n",
    "- 特徴: 複数の要素を順番に保持でき、変更が可能。\n",
    "- 作成: `[]` を使ってリストを作成。\n",
    "- 要素の参照: インデックスを使ってアクセス。\n",
    "- 合計と要素数の取得: `sum()` や `len()` を利用。\n",
    "- 追加・削除・変更: `append()`, `remove()`,` insert()` などのメソッドを使用。\n",
    "- 高度な指定: スライスで部分的に取り出しや更新が可能。\n",
    "\n",
    "### 3. ディクショナリ\n",
    "\n",
    "- 特徴: キーと値のペアでデータを管理し、高速にアクセス可能。\n",
    "- 作成: `{}` を使ってキーと値を定義。\n",
    "- 要素の参照: `dict[key]` で値を取得。\n",
    "- 追加・変更: `dict[key] = value` で設定。\n",
    "- 削除: `del dict[key]` で削除。\n",
    "- リストとの比較: ディクショナリはキーを利用するため、リストよりも検索が高速な場合がある。\n",
    "\n",
    "### 4. タプルとセット\n",
    "\n",
    "- タプル: `()` で定義し、変更不可（イミュータブル）。リストより安全にデータを保持できる。\n",
    "- セット: `{}` で定義し、重複を許さない。集合演算が可能。\n",
    "\n",
    "### 5. コンテナの応用\n",
    "\n",
    "- 相互変換: `list()`, `tuple()`, `set()`, `dict()` を使ってコンテナ間の変換が可能。\n",
    "- ネスト: コンテナの中に別のコンテナを入れることで複雑なデータ構造を管理。\n",
    "\n",
    "これらのコンテナを適切に活用することで、プログラムのデータ管理がより柔軟かつ効率的になります。"
   ]
  }
 ],
 "metadata": {
  "kernelspec": {
   "display_name": "Python 3 (ipykernel)",
   "language": "python",
   "name": "python3"
  },
  "language_info": {
   "codemirror_mode": {
    "name": "ipython",
    "version": 3
   },
   "file_extension": ".py",
   "mimetype": "text/x-python",
   "name": "python",
   "nbconvert_exporter": "python",
   "pygments_lexer": "ipython3",
   "version": "3.9.6"
  }
 },
 "nbformat": 4,
 "nbformat_minor": 5
}
